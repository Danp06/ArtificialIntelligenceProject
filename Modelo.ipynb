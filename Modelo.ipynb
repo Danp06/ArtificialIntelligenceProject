{
 "cells": [
  {
   "cell_type": "code",
   "execution_count": 2,
   "id": "1d7c1791-bae3-4f1c-8923-ca169ab61213",
   "metadata": {},
   "outputs": [],
   "source": [
    "import io\n",
    "import sys\n",
    "DATASET_PATH = \"Audios/\"\n",
    "DATA_PATH = \"Audios/data.json\"\n",
    "import os\n",
    "import tensorflow as tf\n",
    "import pandas as pd\n",
    "import numpy as np\n",
    "import seaborn as sns\n",
    "from tqdm import tqdm\n",
    "import plotly.express as px\n",
    "import matplotlib.pyplot as plt\n",
    "from collections import Counter\n",
    "from sklearn import preprocessing\n",
    "\n",
    "from sklearn.pipeline import FeatureUnion\n",
    "from tensorflow import keras\n",
    "from keras.layers import Dense, Dropout, LSTM\n",
    "from keras.models import Sequential\n",
    "from sklearn.model_selection import RepeatedKFold\n",
    "from sklearn.preprocessing import LabelEncoder, StandardScaler\n",
    "\n",
    "\n",
    "from sklearn.metrics import plot_confusion_matrix\n",
    "from sklearn.feature_selection import SelectKBest, chi2, mutual_info_classif\n",
    "from sklearn.model_selection import StratifiedShuffleSplit, cross_val_score\n",
    "from imblearn.over_sampling import RandomOverSampler\n",
    "from sklearn.feature_extraction.text import CountVectorizer, TfidfVectorizer\n",
    "from sklearn.model_selection import train_test_split, cross_val_score, ShuffleSplit\n",
    "from sklearn.metrics import mean_squared_error, r2_score\n",
    "from sklearn.metrics import classification_report, confusion_matrix, recall_score, log_loss\n",
    "from sklearn.metrics import f1_score, accuracy_score, precision_score\n",
    "\n",
    "from Generate_Family_Clasifi import load_data\n",
    "from Extract_Data import save_mfcc"
   ]
  },
  {
   "cell_type": "code",
   "execution_count": 4,
   "id": "9bd10c9d-c6d7-4d24-bf0c-91cf060b1b8e",
   "metadata": {},
   "outputs": [
    {
     "name": "stdout",
     "output_type": "stream",
     "text": [
      "\n",
      "Processing: Familia Caro\n",
      "Audios/Familia Caro\\Caro 1.wav, segment:1\n",
      "Audios/Familia Caro\\Caro 1.wav, segment:2\n",
      "Audios/Familia Caro\\Caro 1.wav, segment:3\n",
      "Audios/Familia Caro\\Caro 1.wav, segment:4\n",
      "Audios/Familia Caro\\Caro 1.wav, segment:5\n",
      "Audios/Familia Caro\\Caro 1.wav, segment:6\n",
      "Audios/Familia Caro\\Caro 1.wav, segment:7\n",
      "Audios/Familia Caro\\Caro 2.wav, segment:1\n",
      "Audios/Familia Caro\\Caro 2.wav, segment:2\n",
      "Audios/Familia Caro\\Caro 2.wav, segment:3\n",
      "Audios/Familia Caro\\Caro 2.wav, segment:4\n",
      "Audios/Familia Caro\\Caro 2.wav, segment:5\n",
      "Audios/Familia Caro\\Caro 2.wav, segment:6\n",
      "Audios/Familia Caro\\Caro 2.wav, segment:7\n",
      "\n",
      "Processing: Familia Gnecco\n",
      "Audios/Familia Gnecco\\Gnecco 1.wav, segment:1\n",
      "Audios/Familia Gnecco\\Gnecco 1.wav, segment:2\n",
      "Audios/Familia Gnecco\\Gnecco 1.wav, segment:3\n",
      "Audios/Familia Gnecco\\Gnecco 1.wav, segment:4\n",
      "Audios/Familia Gnecco\\Gnecco 1.wav, segment:5\n",
      "Audios/Familia Gnecco\\Gnecco 1.wav, segment:6\n",
      "Audios/Familia Gnecco\\Gnecco 2.wav, segment:1\n",
      "Audios/Familia Gnecco\\Gnecco 2.wav, segment:2\n",
      "Audios/Familia Gnecco\\Gnecco 2.wav, segment:3\n",
      "Audios/Familia Gnecco\\Gnecco 2.wav, segment:4\n",
      "Audios/Familia Gnecco\\Gnecco 2.wav, segment:5\n",
      "Audios/Familia Gnecco\\Gnecco 2.wav, segment:6\n",
      "Audios/Familia Gnecco\\Gnecco 2.wav, segment:7\n",
      "Audios/Familia Gnecco\\Gnecco 3.wav, segment:1\n",
      "Audios/Familia Gnecco\\Gnecco 3.wav, segment:2\n",
      "Audios/Familia Gnecco\\Gnecco 3.wav, segment:3\n",
      "Audios/Familia Gnecco\\Gnecco 3.wav, segment:4\n",
      "Audios/Familia Gnecco\\Gnecco 3.wav, segment:5\n",
      "Audios/Familia Gnecco\\Gnecco 3.wav, segment:6\n",
      "Audios/Familia Gnecco\\Gnecco 3.wav, segment:7\n",
      "Audios/Familia Gnecco\\Gnecco 4.wav, segment:1\n",
      "Audios/Familia Gnecco\\Gnecco 4.wav, segment:2\n",
      "Audios/Familia Gnecco\\Gnecco 4.wav, segment:3\n",
      "Audios/Familia Gnecco\\Gnecco 4.wav, segment:4\n",
      "Audios/Familia Gnecco\\Gnecco 4.wav, segment:5\n",
      "Audios/Familia Gnecco\\Gnecco 4.wav, segment:6\n",
      "Audios/Familia Gnecco\\Gnecco 4.wav, segment:7\n",
      "\n",
      "Processing: Familia Ospina\n",
      "Audios/Familia Ospina\\Ospina 1.wav, segment:1\n",
      "Audios/Familia Ospina\\Ospina 1.wav, segment:2\n",
      "Audios/Familia Ospina\\Ospina 1.wav, segment:3\n",
      "Audios/Familia Ospina\\Ospina 1.wav, segment:4\n",
      "Audios/Familia Ospina\\Ospina 1.wav, segment:5\n",
      "Audios/Familia Ospina\\Ospina 1.wav, segment:6\n",
      "Audios/Familia Ospina\\Ospina 1.wav, segment:7\n",
      "Audios/Familia Ospina\\Ospina 2.wav, segment:1\n",
      "Audios/Familia Ospina\\Ospina 2.wav, segment:2\n",
      "Audios/Familia Ospina\\Ospina 2.wav, segment:3\n",
      "Audios/Familia Ospina\\Ospina 2.wav, segment:4\n",
      "Audios/Familia Ospina\\Ospina 2.wav, segment:5\n",
      "Audios/Familia Ospina\\Ospina 2.wav, segment:6\n",
      "Audios/Familia Ospina\\Ospina 3.wav, segment:1\n",
      "Audios/Familia Ospina\\Ospina 3.wav, segment:2\n",
      "Audios/Familia Ospina\\Ospina 3.wav, segment:3\n",
      "Audios/Familia Ospina\\Ospina 3.wav, segment:4\n",
      "Audios/Familia Ospina\\Ospina 3.wav, segment:5\n",
      "Audios/Familia Ospina\\Ospina 3.wav, segment:6\n",
      "Audios/Familia Ospina\\Ospina 3.wav, segment:7\n",
      "Audios/Familia Ospina\\Ospina 4.wav, segment:1\n",
      "Audios/Familia Ospina\\Ospina 4.wav, segment:2\n",
      "Audios/Familia Ospina\\Ospina 4.wav, segment:3\n",
      "Audios/Familia Ospina\\Ospina 4.wav, segment:4\n",
      "Audios/Familia Ospina\\Ospina 4.wav, segment:5\n",
      "Audios/Familia Ospina\\Ospina 4.wav, segment:6\n",
      "Audios/Familia Ospina\\Ospina 4.wav, segment:7\n",
      "Audios/Familia Ospina\\Ospina 5.wav, segment:1\n",
      "Audios/Familia Ospina\\Ospina 5.wav, segment:2\n",
      "Audios/Familia Ospina\\Ospina 5.wav, segment:3\n",
      "Audios/Familia Ospina\\Ospina 5.wav, segment:4\n",
      "Audios/Familia Ospina\\Ospina 5.wav, segment:5\n",
      "Audios/Familia Ospina\\Ospina 5.wav, segment:6\n",
      "Audios/Familia Ospina\\Ospina 5.wav, segment:7\n",
      "\n",
      "Processing: Familia Peña\n",
      "Audios/Familia Peña\\Peña 1.wav, segment:1\n",
      "Audios/Familia Peña\\Peña 1.wav, segment:2\n",
      "Audios/Familia Peña\\Peña 1.wav, segment:3\n",
      "Audios/Familia Peña\\Peña 1.wav, segment:4\n",
      "Audios/Familia Peña\\Peña 1.wav, segment:5\n",
      "Audios/Familia Peña\\Peña 1.wav, segment:6\n",
      "Audios/Familia Peña\\Peña 1.wav, segment:7\n",
      "\n",
      "Processing: Familia Puentes\n",
      "Audios/Familia Puentes\\Puentes 1.wav, segment:1\n",
      "Audios/Familia Puentes\\Puentes 1.wav, segment:2\n",
      "Audios/Familia Puentes\\Puentes 1.wav, segment:3\n",
      "Audios/Familia Puentes\\Puentes 1.wav, segment:4\n",
      "Audios/Familia Puentes\\Puentes 1.wav, segment:5\n",
      "Audios/Familia Puentes\\Puentes 1.wav, segment:6\n",
      "Audios/Familia Puentes\\Puentes 2.wav, segment:1\n",
      "Audios/Familia Puentes\\Puentes 2.wav, segment:2\n",
      "Audios/Familia Puentes\\Puentes 2.wav, segment:3\n",
      "Audios/Familia Puentes\\Puentes 2.wav, segment:4\n",
      "Audios/Familia Puentes\\Puentes 2.wav, segment:5\n",
      "Audios/Familia Puentes\\Puentes 2.wav, segment:6\n",
      "Audios/Familia Puentes\\Puentes 2.wav, segment:7\n",
      "\n",
      "Processing: Familia Vazquez\n",
      "Audios/Familia Vazquez\\Vazquez 1.wav, segment:1\n",
      "Audios/Familia Vazquez\\Vazquez 1.wav, segment:2\n",
      "Audios/Familia Vazquez\\Vazquez 1.wav, segment:3\n",
      "Audios/Familia Vazquez\\Vazquez 1.wav, segment:4\n",
      "Audios/Familia Vazquez\\Vazquez 1.wav, segment:5\n",
      "Audios/Familia Vazquez\\Vazquez 1.wav, segment:6\n",
      "Audios/Familia Vazquez\\Vazquez 1.wav, segment:7\n",
      "Audios/Familia Vazquez\\Vazquez 2.wav, segment:1\n",
      "Audios/Familia Vazquez\\Vazquez 2.wav, segment:2\n",
      "Audios/Familia Vazquez\\Vazquez 2.wav, segment:3\n",
      "Audios/Familia Vazquez\\Vazquez 2.wav, segment:4\n",
      "Audios/Familia Vazquez\\Vazquez 2.wav, segment:5\n",
      "Audios/Familia Vazquez\\Vazquez 2.wav, segment:6\n",
      "Audios/Familia Vazquez\\Vazquez 2.wav, segment:7\n",
      "Audios/Familia Vazquez\\Vazquez 3.wav, segment:1\n",
      "Audios/Familia Vazquez\\Vazquez 3.wav, segment:2\n",
      "Audios/Familia Vazquez\\Vazquez 3.wav, segment:3\n",
      "Audios/Familia Vazquez\\Vazquez 3.wav, segment:4\n",
      "Audios/Familia Vazquez\\Vazquez 3.wav, segment:5\n",
      "Audios/Familia Vazquez\\Vazquez 3.wav, segment:6\n",
      "Audios/Familia Vazquez\\Vazquez 4.wav, segment:1\n",
      "Audios/Familia Vazquez\\Vazquez 4.wav, segment:2\n",
      "Audios/Familia Vazquez\\Vazquez 4.wav, segment:3\n",
      "Audios/Familia Vazquez\\Vazquez 4.wav, segment:4\n",
      "Audios/Familia Vazquez\\Vazquez 4.wav, segment:5\n",
      "Audios/Familia Vazquez\\Vazquez 4.wav, segment:6\n",
      "Audios/Familia Vazquez\\Vazquez 4.wav, segment:7\n"
     ]
    }
   ],
   "source": [
    "save_mfcc(DATASET_PATH,DATA_PATH,num_segments=7)"
   ]
  },
  {
   "cell_type": "code",
   "execution_count": 23,
   "id": "8ed082ef-fa63-4dff-974c-a5dd55514d46",
   "metadata": {},
   "outputs": [
    {
     "name": "stdout",
     "output_type": "stream",
     "text": [
      "Data succesfully loaded!\n"
     ]
    }
   ],
   "source": [
    "X,y = load_data(DATA_PATH)"
   ]
  },
  {
   "cell_type": "code",
   "execution_count": 24,
   "id": "125b693a-0a31-4b4c-a949-36f9b38f4102",
   "metadata": {},
   "outputs": [],
   "source": [
    "    # create train, validation and test split\n",
    "X_train, X_test, y_train, y_test = train_test_split(X, y, test_size=.3, random_state=42)\n",
    "X_train, X_validation, y_train, y_validation = train_test_split(X_train, y_train, test_size=.3, random_state=42)\n",
    "\n",
    "    # add an axis to input sets\n",
    "X_train = X_train[..., np.newaxis]\n",
    "X_validation = X_validation[..., np.newaxis]\n",
    "X_test = X_test[..., np.newaxis]"
   ]
  },
  {
   "cell_type": "code",
   "execution_count": 25,
   "id": "f6ba3a4c-7462-4516-9385-77cd55710e39",
   "metadata": {},
   "outputs": [],
   "source": [
    "def build_model(input_shape):\n",
    "    # build network topology\n",
    "    model = keras.Sequential()\n",
    "\n",
    "    # 1st conv layer\n",
    "    model.add(keras.layers.Conv2D(32, (3, 3), activation='relu', input_shape=input_shape))\n",
    "    model.add(keras.layers.MaxPooling2D((3, 3), strides=(2, 2), padding='same'))\n",
    "    model.add(keras.layers.BatchNormalization())\n",
    "\n",
    "    # 2nd conv layer\n",
    "    model.add(keras.layers.Conv2D(32, (3, 3), activation='relu'))\n",
    "    model.add(keras.layers.MaxPooling2D((3, 3), strides=(2, 2), padding='same'))\n",
    "    model.add(keras.layers.BatchNormalization())\n",
    "\n",
    "    # 3rd conv layer\n",
    "    model.add(keras.layers.Conv2D(32, (2, 2), activation='relu'))\n",
    "    model.add(keras.layers.MaxPooling2D((2, 2), strides=(2, 2), padding='same'))\n",
    "    model.add(keras.layers.BatchNormalization())\n",
    "\n",
    "    # flatten output and feed it into dense layer\n",
    "    model.add(keras.layers.Flatten())\n",
    "    model.add(keras.layers.Dense(64, activation='relu'))\n",
    "    model.add(keras.layers.Dropout(0.3))\n",
    "\n",
    "    # output layer\n",
    "    model.add(keras.layers.Dense(10, activation='softmax'))\n",
    "\n",
    "    return model"
   ]
  },
  {
   "cell_type": "code",
   "execution_count": 26,
   "id": "febe1b51-6a1d-44bf-92d8-28c82597f8e4",
   "metadata": {},
   "outputs": [],
   "source": [
    "input_shape = (X_train.shape[1], X_train.shape[2], 1)\n",
    "model = build_model(input_shape)"
   ]
  },
  {
   "cell_type": "code",
   "execution_count": 27,
   "id": "8b0ec781-67b7-4cfe-baf7-e8c3d98edabf",
   "metadata": {},
   "outputs": [
    {
     "name": "stdout",
     "output_type": "stream",
     "text": [
      "Model: \"sequential_1\"\n",
      "_________________________________________________________________\n",
      "Layer (type)                 Output Shape              Param #   \n",
      "=================================================================\n",
      "conv2d_3 (Conv2D)            (None, 214, 11, 32)       320       \n",
      "_________________________________________________________________\n",
      "max_pooling2d_3 (MaxPooling2 (None, 107, 6, 32)        0         \n",
      "_________________________________________________________________\n",
      "batch_normalization_3 (Batch (None, 107, 6, 32)        128       \n",
      "_________________________________________________________________\n",
      "conv2d_4 (Conv2D)            (None, 105, 4, 32)        9248      \n",
      "_________________________________________________________________\n",
      "max_pooling2d_4 (MaxPooling2 (None, 53, 2, 32)         0         \n",
      "_________________________________________________________________\n",
      "batch_normalization_4 (Batch (None, 53, 2, 32)         128       \n",
      "_________________________________________________________________\n",
      "conv2d_5 (Conv2D)            (None, 52, 1, 32)         4128      \n",
      "_________________________________________________________________\n",
      "max_pooling2d_5 (MaxPooling2 (None, 26, 1, 32)         0         \n",
      "_________________________________________________________________\n",
      "batch_normalization_5 (Batch (None, 26, 1, 32)         128       \n",
      "_________________________________________________________________\n",
      "flatten_1 (Flatten)          (None, 832)               0         \n",
      "_________________________________________________________________\n",
      "dense_2 (Dense)              (None, 64)                53312     \n",
      "_________________________________________________________________\n",
      "dropout_1 (Dropout)          (None, 64)                0         \n",
      "_________________________________________________________________\n",
      "dense_3 (Dense)              (None, 10)                650       \n",
      "=================================================================\n",
      "Total params: 68,042\n",
      "Trainable params: 67,850\n",
      "Non-trainable params: 192\n",
      "_________________________________________________________________\n"
     ]
    }
   ],
   "source": [
    "# compile model\n",
    "optimiser = keras.optimizers.Adam(learning_rate=0.0001)\n",
    "model.compile(optimizer=optimiser,\n",
    "                  loss='sparse_categorical_crossentropy',\n",
    "                  metrics=['accuracy'])\n",
    "\n",
    "model.summary()"
   ]
  },
  {
   "cell_type": "code",
   "execution_count": 28,
   "id": "3ae9bc4c-c4f9-41d7-83f8-076b5a6519f5",
   "metadata": {},
   "outputs": [
    {
     "name": "stdout",
     "output_type": "stream",
     "text": [
      "Epoch 1/30\n",
      "2/2 [==============================] - 1s 383ms/step - loss: 3.0653 - accuracy: 0.1186 - val_loss: 16.6765 - val_accuracy: 0.1538\n",
      "Epoch 2/30\n",
      "2/2 [==============================] - 0s 63ms/step - loss: 3.1085 - accuracy: 0.0678 - val_loss: 12.7200 - val_accuracy: 0.1538\n",
      "Epoch 3/30\n",
      "2/2 [==============================] - 0s 62ms/step - loss: 2.6439 - accuracy: 0.1695 - val_loss: 10.7553 - val_accuracy: 0.1538\n",
      "Epoch 4/30\n",
      "2/2 [==============================] - 0s 70ms/step - loss: 2.4892 - accuracy: 0.2034 - val_loss: 9.4981 - val_accuracy: 0.1538\n",
      "Epoch 5/30\n",
      "2/2 [==============================] - 0s 62ms/step - loss: 2.2916 - accuracy: 0.2034 - val_loss: 8.6129 - val_accuracy: 0.1538\n",
      "Epoch 6/30\n",
      "2/2 [==============================] - 0s 60ms/step - loss: 2.2320 - accuracy: 0.2881 - val_loss: 7.9401 - val_accuracy: 0.1538\n",
      "Epoch 7/30\n",
      "2/2 [==============================] - 0s 69ms/step - loss: 2.0232 - accuracy: 0.3390 - val_loss: 7.3987 - val_accuracy: 0.1538\n",
      "Epoch 8/30\n",
      "2/2 [==============================] - 0s 70ms/step - loss: 2.0689 - accuracy: 0.2881 - val_loss: 6.9385 - val_accuracy: 0.1538\n",
      "Epoch 9/30\n",
      "2/2 [==============================] - 0s 75ms/step - loss: 1.8566 - accuracy: 0.3729 - val_loss: 6.5395 - val_accuracy: 0.1538\n",
      "Epoch 10/30\n",
      "2/2 [==============================] - 0s 61ms/step - loss: 1.7511 - accuracy: 0.4237 - val_loss: 6.1912 - val_accuracy: 0.1538\n",
      "Epoch 11/30\n",
      "2/2 [==============================] - 0s 62ms/step - loss: 1.6427 - accuracy: 0.3898 - val_loss: 5.8844 - val_accuracy: 0.1538\n",
      "Epoch 12/30\n",
      "2/2 [==============================] - 0s 59ms/step - loss: 1.5645 - accuracy: 0.3898 - val_loss: 5.6033 - val_accuracy: 0.1538\n",
      "Epoch 13/30\n",
      "2/2 [==============================] - 0s 63ms/step - loss: 1.4026 - accuracy: 0.4407 - val_loss: 5.3517 - val_accuracy: 0.1538\n",
      "Epoch 14/30\n",
      "2/2 [==============================] - 0s 59ms/step - loss: 1.2516 - accuracy: 0.5254 - val_loss: 5.1274 - val_accuracy: 0.1538\n",
      "Epoch 15/30\n",
      "2/2 [==============================] - 0s 62ms/step - loss: 1.3594 - accuracy: 0.5424 - val_loss: 4.9296 - val_accuracy: 0.1538\n",
      "Epoch 16/30\n",
      "2/2 [==============================] - 0s 66ms/step - loss: 1.1873 - accuracy: 0.5593 - val_loss: 4.7574 - val_accuracy: 0.1538\n",
      "Epoch 17/30\n",
      "2/2 [==============================] - 0s 62ms/step - loss: 1.2765 - accuracy: 0.5593 - val_loss: 4.6027 - val_accuracy: 0.1538\n",
      "Epoch 18/30\n",
      "2/2 [==============================] - 0s 63ms/step - loss: 1.0777 - accuracy: 0.6780 - val_loss: 4.4693 - val_accuracy: 0.1538\n",
      "Epoch 19/30\n",
      "2/2 [==============================] - 0s 60ms/step - loss: 1.0903 - accuracy: 0.6441 - val_loss: 4.3493 - val_accuracy: 0.1538\n",
      "Epoch 20/30\n",
      "2/2 [==============================] - 0s 55ms/step - loss: 0.8947 - accuracy: 0.7797 - val_loss: 4.2375 - val_accuracy: 0.1538\n",
      "Epoch 21/30\n",
      "2/2 [==============================] - 0s 59ms/step - loss: 1.0821 - accuracy: 0.6441 - val_loss: 4.1375 - val_accuracy: 0.1538\n",
      "Epoch 22/30\n",
      "2/2 [==============================] - 0s 67ms/step - loss: 0.8993 - accuracy: 0.7119 - val_loss: 4.0458 - val_accuracy: 0.1538\n",
      "Epoch 23/30\n",
      "2/2 [==============================] - 0s 67ms/step - loss: 0.8431 - accuracy: 0.7458 - val_loss: 3.9619 - val_accuracy: 0.1538\n",
      "Epoch 24/30\n",
      "2/2 [==============================] - 0s 60ms/step - loss: 0.7302 - accuracy: 0.7966 - val_loss: 3.8825 - val_accuracy: 0.1538\n",
      "Epoch 25/30\n",
      "2/2 [==============================] - 0s 55ms/step - loss: 0.7674 - accuracy: 0.7966 - val_loss: 3.8091 - val_accuracy: 0.1538\n",
      "Epoch 26/30\n",
      "2/2 [==============================] - 0s 65ms/step - loss: 0.7119 - accuracy: 0.7966 - val_loss: 3.7418 - val_accuracy: 0.1538\n",
      "Epoch 27/30\n",
      "2/2 [==============================] - 0s 64ms/step - loss: 0.6384 - accuracy: 0.9153 - val_loss: 3.6784 - val_accuracy: 0.1538\n",
      "Epoch 28/30\n",
      "2/2 [==============================] - 0s 59ms/step - loss: 0.6300 - accuracy: 0.8644 - val_loss: 3.6136 - val_accuracy: 0.1538\n",
      "Epoch 29/30\n",
      "2/2 [==============================] - 0s 66ms/step - loss: 0.6601 - accuracy: 0.8475 - val_loss: 3.5469 - val_accuracy: 0.1538\n",
      "Epoch 30/30\n",
      "2/2 [==============================] - 0s 65ms/step - loss: 0.5428 - accuracy: 0.8983 - val_loss: 3.4863 - val_accuracy: 0.1538\n"
     ]
    }
   ],
   "source": [
    "# train model\n",
    "history = model.fit(X_train, y_train, validation_data=(X_validation, y_validation), batch_size=32, epochs=30)"
   ]
  },
  {
   "cell_type": "code",
   "execution_count": 29,
   "id": "14906525-2aea-4c0d-8d73-985eff98bf68",
   "metadata": {},
   "outputs": [],
   "source": [
    "def plot_history(history):\n",
    "    \"\"\"Plots accuracy/loss for training/validation set as a function of the epochs\n",
    "        :param history: Training history of model\n",
    "        :return:\n",
    "    \"\"\"\n",
    "\n",
    "    fig, axs = plt.subplots(2)\n",
    "\n",
    "    # create accuracy sublpot\n",
    "    axs[0].plot(history.history[\"accuracy\"], label=\"train accuracy\")\n",
    "    axs[0].plot(history.history[\"val_accuracy\"], label=\"test accuracy\")\n",
    "    axs[0].set_ylabel(\"Accuracy\")\n",
    "    axs[0].legend(loc=\"lower right\")\n",
    "    axs[0].set_title(\"Accuracy eval\")\n",
    "\n",
    "    # create error sublpot\n",
    "    axs[1].plot(history.history[\"loss\"], label=\"train error\")\n",
    "    axs[1].plot(history.history[\"val_loss\"], label=\"test error\")\n",
    "    axs[1].set_ylabel(\"Error\")\n",
    "    axs[1].set_xlabel(\"Epoch\")\n",
    "    axs[1].legend(loc=\"upper right\")\n",
    "    axs[1].set_title(\"Error eval\")\n",
    "\n",
    "    plt.show()"
   ]
  },
  {
   "cell_type": "code",
   "execution_count": 30,
   "id": "3a7010b6-efbc-413d-863f-2c8710df85d1",
   "metadata": {},
   "outputs": [
    {
     "data": {
      "image/png": "[encoded data removed]",
      "text/plain": [
       "<Figure size 432x288 with 2 Axes>"
      ]
     },
     "metadata": {
      "needs_background": "light"
     },
     "output_type": "display_data"
    }
   ],
   "source": [
    "# plot accuracy and error as a function of the epochs\n",
    "plot_history(history)"
   ]
  },
  {
   "cell_type": "code",
   "execution_count": 31,
   "id": "19b317cf-b44e-4aea-ad2b-293d9884de10",
   "metadata": {},
   "outputs": [
    {
     "name": "stdout",
     "output_type": "stream",
     "text": [
      "2/2 - 0s - loss: 3.1589 - accuracy: 0.2162\n",
      "\n",
      "Test accuracy: 0.21621622145175934\n"
     ]
    }
   ],
   "source": [
    "# evaluate model on test set\n",
    "test_loss, test_acc = model.evaluate(X_test, y_test, verbose=2)\n",
    "print('\\nTest accuracy:', test_acc)"
   ]
  },
  {
   "cell_type": "code",
   "execution_count": 32,
   "id": "279b720a-1fcc-43ba-b571-0254822b823e",
   "metadata": {},
   "outputs": [],
   "source": [
    "# pick a sample to predict from the test set\n",
    "X_to_predict = X_test[19]\n",
    "y_to_predict = y_test[19]"
   ]
  },
  {
   "cell_type": "code",
   "execution_count": 33,
   "id": "d5f84531-2503-4e32-b09a-8648777ca31e",
   "metadata": {},
   "outputs": [],
   "source": [
    "def predict(model, X, y):\n",
    "    \"\"\"Predict a single sample using the trained model\n",
    "    :param model: Trained classifier\n",
    "    :param X: Input data\n",
    "    :param y (int): Target\n",
    "    \"\"\"\n",
    "\n",
    "    # add a dimension to input data for sample - model.predict() expects a 4d array in this case\n",
    "    X = X[np.newaxis, ...] # array shape (1, 130, 13, 1)\n",
    "\n",
    "    # perform prediction\n",
    "    prediction = model.predict(X)\n",
    "\n",
    "    # get index with max value\n",
    "    predicted_index = np.argmax(prediction, axis=1)\n",
    "\n",
    "    print(\"Target: {}, Predicted label: {}\".format(y, predicted_index))"
   ]
  },
  {
   "cell_type": "code",
   "execution_count": 34,
   "id": "523aeb18-9f6c-4335-8d79-b6608aa243cf",
   "metadata": {},
   "outputs": [
    {
     "name": "stdout",
     "output_type": "stream",
     "text": [
      "Target: 0, Predicted label: [6]\n"
     ]
    }
   ],
   "source": [
    "predict(model, X_to_predict, y_to_predict)"
   ]
  },
  {
   "cell_type": "code",
   "execution_count": null,
   "id": "8def53fc-30b2-4cc3-8d36-9c35abe45cf6",
   "metadata": {},
   "outputs": [],
   "source": []
  }
 ],
 "metadata": {
  "kernelspec": {
   "display_name": "Python 3 (ipykernel)",
   "language": "python",
   "name": "python3"
  },
  "language_info": {
   "codemirror_mode": {
    "name": "ipython",
    "version": 3
   },
   "file_extension": ".py",
   "mimetype": "text/x-python",
   "name": "python",
   "nbconvert_exporter": "python",
   "pygments_lexer": "ipython3",
   "version": "3.8.13"
  }
 },
 "nbformat": 4,
 "nbformat_minor": 5
}
