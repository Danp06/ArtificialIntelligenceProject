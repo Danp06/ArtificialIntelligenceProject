{
 "cells": [
  {
   "cell_type": "code",
   "execution_count": null,
   "outputs": [],
   "source": [
    "import io\n",
    "import sys\n",
    "DATASET_PATH = \"Audios/\"\n",
    "DATA_PATH = \"Audios/data.json\"\n",
    "import os\n",
    "import tensorflow as tf\n",
    "import pandas as pd\n",
    "import numpy as np\n",
    "import seaborn as sns\n",
    "import matplotlib.pyplot as plt\n",
    "from tqdm import tqdm\n",
    "import plotly.express as px\n",
    "from collections import Counter\n",
    "from sklearn import preprocessing\n",
    "from sklearn.pipeline import FeatureUnion\n",
    "from tensorflow import keras\n",
    "from keras.layers import Dense, Dropout, LSTM\n",
    "from keras.models import Sequential\n",
    "from keras.callbacks import EarlyStopping\n",
    "from sklearn.model_selection import RepeatedKFold\n",
    "from sklearn.preprocessing import LabelEncoder, StandardScaler\n",
    "from sklearn.metrics import plot_confusion_matrix\n",
    "from sklearn.feature_selection import SelectKBest, chi2, mutual_info_classif\n",
    "from sklearn.model_selection import StratifiedShuffleSplit, cross_val_score\n",
    "from sklearn.feature_extraction.text import CountVectorizer, TfidfVectorizer\n",
    "from sklearn.model_selection import train_test_split, cross_val_score, ShuffleSplit\n",
    "from sklearn.metrics import mean_squared_error, r2_score\n",
    "from sklearn.metrics import classification_report, confusion_matrix, recall_score, log_loss\n",
    "from sklearn.metrics import f1_score, accuracy_score, precision_score\n",
    "\n",
    "from Generate_Family_Clasifi import load_data\n",
    "from Extract_Data import save_mfcc"
   ],
   "metadata": {
    "collapsed": false,
    "pycharm": {
     "name": "#%%\n"
    }
   }
  },
  {
   "cell_type": "code",
   "execution_count": 2,
   "id": "934f33ee",
   "metadata": {
    "collapsed": true,
    "jupyter": {
     "outputs_hidden": true
    },
    "tags": [],
    "pycharm": {
     "name": "#%%\n"
    }
   },
   "outputs": [
    {
     "name": "stdout",
     "output_type": "stream",
     "text": [
      "\n",
      "Processing: Familia Acevedo\n"
     ]
    },
    {
     "name": "stderr",
     "output_type": "stream",
     "text": [
      "C:\\Users\\danie\\OneDrive - Universidad Tecnológica de Bolívar\\U\\6to Semestre\\Inteligencia Artificial\\Proyecto\\Extract_Data.py:61: FutureWarning: Pass y=[ 2.5647798e-05  2.4037521e-05 -1.6709793e-06 ...  1.3716510e-01\n",
      "  6.0978714e-02  1.5864160e-02], sr=22050 as keyword args. From version 0.10 passing these as positional arguments will result in an error\n",
      "  mfcc = librosa.feature.mfcc(signal[start:finish], sample_rate, n_mfcc=num_mfcc, n_fft=n_fft, hop_length=hop_length)\n",
      "C:\\Users\\danie\\OneDrive - Universidad Tecnológica de Bolívar\\U\\6to Semestre\\Inteligencia Artificial\\Proyecto\\Extract_Data.py:61: FutureWarning: Pass y=[ 0.00244379  0.00244377 -0.0019488  ...  0.0598404   0.0489769\n",
      "  0.03040931], sr=22050 as keyword args. From version 0.10 passing these as positional arguments will result in an error\n",
      "  mfcc = librosa.feature.mfcc(signal[start:finish], sample_rate, n_mfcc=num_mfcc, n_fft=n_fft, hop_length=hop_length)\n",
      "C:\\Users\\danie\\OneDrive - Universidad Tecnológica de Bolívar\\U\\6to Semestre\\Inteligencia Artificial\\Proyecto\\Extract_Data.py:61: FutureWarning: Pass y=[ 0.01605494  0.01847187  0.02654469 ... -0.03926592 -0.03410349\n",
      "  0.03465853], sr=22050 as keyword args. From version 0.10 passing these as positional arguments will result in an error\n",
      "  mfcc = librosa.feature.mfcc(signal[start:finish], sample_rate, n_mfcc=num_mfcc, n_fft=n_fft, hop_length=hop_length)\n",
      "C:\\Users\\danie\\OneDrive - Universidad Tecnológica de Bolívar\\U\\6to Semestre\\Inteligencia Artificial\\Proyecto\\Extract_Data.py:61: FutureWarning: Pass y=[ 0.02165279 -0.03205804 -0.00737431 ...  0.00104829  0.00179994\n",
      "  0.00262335], sr=22050 as keyword args. From version 0.10 passing these as positional arguments will result in an error\n",
      "  mfcc = librosa.feature.mfcc(signal[start:finish], sample_rate, n_mfcc=num_mfcc, n_fft=n_fft, hop_length=hop_length)\n",
      "C:\\Users\\danie\\OneDrive - Universidad Tecnológica de Bolívar\\U\\6to Semestre\\Inteligencia Artificial\\Proyecto\\Extract_Data.py:61: FutureWarning: Pass y=[0.00285281 0.00280858 0.00293481 ... 0.01614433 0.01745254 0.01416602], sr=22050 as keyword args. From version 0.10 passing these as positional arguments will result in an error\n",
      "  mfcc = librosa.feature.mfcc(signal[start:finish], sample_rate, n_mfcc=num_mfcc, n_fft=n_fft, hop_length=hop_length)\n",
      "C:\\Users\\danie\\OneDrive - Universidad Tecnológica de Bolívar\\U\\6to Semestre\\Inteligencia Artificial\\Proyecto\\Extract_Data.py:61: FutureWarning: Pass y=[0.0096193  0.00660161 0.00556441 ... 0.00534427 0.00803775 0.        ], sr=22050 as keyword args. From version 0.10 passing these as positional arguments will result in an error\n",
      "  mfcc = librosa.feature.mfcc(signal[start:finish], sample_rate, n_mfcc=num_mfcc, n_fft=n_fft, hop_length=hop_length)\n",
      "C:\\Users\\danie\\OneDrive - Universidad Tecnológica de Bolívar\\U\\6to Semestre\\Inteligencia Artificial\\Proyecto\\Extract_Data.py:61: FutureWarning: Pass y=[], sr=22050 as keyword args. From version 0.10 passing these as positional arguments will result in an error\n",
      "  mfcc = librosa.feature.mfcc(signal[start:finish], sample_rate, n_mfcc=num_mfcc, n_fft=n_fft, hop_length=hop_length)\n",
      "C:\\Users\\danie\\anaconda3\\envs\\Inteligencia\\lib\\site-packages\\librosa\\util\\decorators.py:88: UserWarning: n_fft=2048 is too small for input signal of length=0\n",
      "  return f(*args, **kwargs)\n"
     ]
    },
    {
     "name": "stdout",
     "output_type": "stream",
     "text": [
      "Audios/Familia Acevedo\\Acevedo 1.wav, segment:1\n",
      "Audios/Familia Acevedo\\Acevedo 1.wav, segment:2\n",
      "Audios/Familia Acevedo\\Acevedo 1.wav, segment:3\n",
      "Audios/Familia Acevedo\\Acevedo 1.wav, segment:4\n",
      "Audios/Familia Acevedo\\Acevedo 1.wav, segment:5\n"
     ]
    },
    {
     "name": "stderr",
     "output_type": "stream",
     "text": [
      "C:\\Users\\danie\\OneDrive - Universidad Tecnológica de Bolívar\\U\\6to Semestre\\Inteligencia Artificial\\Proyecto\\Extract_Data.py:61: FutureWarning: Pass y=[-9.7822817e-07  1.8577859e-06 -7.2429566e-06 ...  1.2573921e-02\n",
      "  1.0006263e-02  8.4850248e-03], sr=22050 as keyword args. From version 0.10 passing these as positional arguments will result in an error\n",
      "  mfcc = librosa.feature.mfcc(signal[start:finish], sample_rate, n_mfcc=num_mfcc, n_fft=n_fft, hop_length=hop_length)\n",
      "C:\\Users\\danie\\OneDrive - Universidad Tecnológica de Bolívar\\U\\6to Semestre\\Inteligencia Artificial\\Proyecto\\Extract_Data.py:61: FutureWarning: Pass y=[ 0.00738726  0.00552779  0.00439111 ...  0.00190106 -0.00051325\n",
      " -0.00217118], sr=22050 as keyword args. From version 0.10 passing these as positional arguments will result in an error\n",
      "  mfcc = librosa.feature.mfcc(signal[start:finish], sample_rate, n_mfcc=num_mfcc, n_fft=n_fft, hop_length=hop_length)\n",
      "C:\\Users\\danie\\OneDrive - Universidad Tecnológica de Bolívar\\U\\6to Semestre\\Inteligencia Artificial\\Proyecto\\Extract_Data.py:61: FutureWarning: Pass y=[-0.003871   -0.00454541 -0.00575845 ... -0.03321045 -0.02711396\n",
      " -0.02075712], sr=22050 as keyword args. From version 0.10 passing these as positional arguments will result in an error\n",
      "  mfcc = librosa.feature.mfcc(signal[start:finish], sample_rate, n_mfcc=num_mfcc, n_fft=n_fft, hop_length=hop_length)\n",
      "C:\\Users\\danie\\OneDrive - Universidad Tecnológica de Bolívar\\U\\6to Semestre\\Inteligencia Artificial\\Proyecto\\Extract_Data.py:61: FutureWarning: Pass y=[-0.01287599 -0.00508999  0.0036977  ... -0.00275376 -0.00522177\n",
      " -0.00656259], sr=22050 as keyword args. From version 0.10 passing these as positional arguments will result in an error\n",
      "  mfcc = librosa.feature.mfcc(signal[start:finish], sample_rate, n_mfcc=num_mfcc, n_fft=n_fft, hop_length=hop_length)\n",
      "C:\\Users\\danie\\OneDrive - Universidad Tecnológica de Bolívar\\U\\6to Semestre\\Inteligencia Artificial\\Proyecto\\Extract_Data.py:61: FutureWarning: Pass y=[-0.00881559 -0.0115442  -0.01340035 ...  0.00088566  0.00140236\n",
      "  0.00214031], sr=22050 as keyword args. From version 0.10 passing these as positional arguments will result in an error\n",
      "  mfcc = librosa.feature.mfcc(signal[start:finish], sample_rate, n_mfcc=num_mfcc, n_fft=n_fft, hop_length=hop_length)\n",
      "C:\\Users\\danie\\OneDrive - Universidad Tecnológica de Bolívar\\U\\6to Semestre\\Inteligencia Artificial\\Proyecto\\Extract_Data.py:61: FutureWarning: Pass y=[ 0.00307114  0.00391286  0.00470293 ... -0.00360666 -0.00339464\n",
      " -0.00327619], sr=22050 as keyword args. From version 0.10 passing these as positional arguments will result in an error\n",
      "  mfcc = librosa.feature.mfcc(signal[start:finish], sample_rate, n_mfcc=num_mfcc, n_fft=n_fft, hop_length=hop_length)\n",
      "C:\\Users\\danie\\OneDrive - Universidad Tecnológica de Bolívar\\U\\6to Semestre\\Inteligencia Artificial\\Proyecto\\Extract_Data.py:61: FutureWarning: Pass y=[-0.00357643 -0.00322646 -0.00275778 ... -0.00040826 -0.00045037\n",
      "  0.        ], sr=22050 as keyword args. From version 0.10 passing these as positional arguments will result in an error\n",
      "  mfcc = librosa.feature.mfcc(signal[start:finish], sample_rate, n_mfcc=num_mfcc, n_fft=n_fft, hop_length=hop_length)\n"
     ]
    },
    {
     "name": "stdout",
     "output_type": "stream",
     "text": [
      "Audios/Familia Acevedo\\Acevedo 2.wav, segment:1\n",
      "Audios/Familia Acevedo\\Acevedo 2.wav, segment:2\n",
      "Audios/Familia Acevedo\\Acevedo 2.wav, segment:3\n",
      "Audios/Familia Acevedo\\Acevedo 2.wav, segment:4\n",
      "Audios/Familia Acevedo\\Acevedo 2.wav, segment:5\n",
      "Audios/Familia Acevedo\\Acevedo 2.wav, segment:6\n"
     ]
    },
    {
     "name": "stderr",
     "output_type": "stream",
     "text": [
      "C:\\Users\\danie\\OneDrive - Universidad Tecnológica de Bolívar\\U\\6to Semestre\\Inteligencia Artificial\\Proyecto\\Extract_Data.py:61: FutureWarning: Pass y=[-1.9844701e-06  3.4617603e-06 -2.5397916e-05 ... -3.0950379e-02\n",
      " -2.3885073e-02 -1.7215677e-02], sr=22050 as keyword args. From version 0.10 passing these as positional arguments will result in an error\n",
      "  mfcc = librosa.feature.mfcc(signal[start:finish], sample_rate, n_mfcc=num_mfcc, n_fft=n_fft, hop_length=hop_length)\n",
      "C:\\Users\\danie\\OneDrive - Universidad Tecnológica de Bolívar\\U\\6to Semestre\\Inteligencia Artificial\\Proyecto\\Extract_Data.py:61: FutureWarning: Pass y=[-0.01037866 -0.00662529 -0.00533197 ... -0.0318918  -0.03296863\n",
      " -0.03530381], sr=22050 as keyword args. From version 0.10 passing these as positional arguments will result in an error\n",
      "  mfcc = librosa.feature.mfcc(signal[start:finish], sample_rate, n_mfcc=num_mfcc, n_fft=n_fft, hop_length=hop_length)\n",
      "C:\\Users\\danie\\OneDrive - Universidad Tecnológica de Bolívar\\U\\6to Semestre\\Inteligencia Artificial\\Proyecto\\Extract_Data.py:61: FutureWarning: Pass y=[-0.03704562 -0.04021049 -0.04233406 ...  0.02529365  0.02383308\n",
      "  0.01862459], sr=22050 as keyword args. From version 0.10 passing these as positional arguments will result in an error\n",
      "  mfcc = librosa.feature.mfcc(signal[start:finish], sample_rate, n_mfcc=num_mfcc, n_fft=n_fft, hop_length=hop_length)\n",
      "C:\\Users\\danie\\OneDrive - Universidad Tecnológica de Bolívar\\U\\6to Semestre\\Inteligencia Artificial\\Proyecto\\Extract_Data.py:61: FutureWarning: Pass y=[0.01705353 0.01404308 0.00879344 ... 0.0049128  0.00362533 0.00109688], sr=22050 as keyword args. From version 0.10 passing these as positional arguments will result in an error\n",
      "  mfcc = librosa.feature.mfcc(signal[start:finish], sample_rate, n_mfcc=num_mfcc, n_fft=n_fft, hop_length=hop_length)\n",
      "C:\\Users\\danie\\OneDrive - Universidad Tecnológica de Bolívar\\U\\6to Semestre\\Inteligencia Artificial\\Proyecto\\Extract_Data.py:61: FutureWarning: Pass y=[0.00466875 0.00814249 0.00662112 ... 0.00430128 0.00183714 0.00110473], sr=22050 as keyword args. From version 0.10 passing these as positional arguments will result in an error\n",
      "  mfcc = librosa.feature.mfcc(signal[start:finish], sample_rate, n_mfcc=num_mfcc, n_fft=n_fft, hop_length=hop_length)\n",
      "C:\\Users\\danie\\OneDrive - Universidad Tecnológica de Bolívar\\U\\6to Semestre\\Inteligencia Artificial\\Proyecto\\Extract_Data.py:61: FutureWarning: Pass y=[0.00173628 0.00112132 0.0021333  ... 0.01428096 0.01318543 0.01425558], sr=22050 as keyword args. From version 0.10 passing these as positional arguments will result in an error\n",
      "  mfcc = librosa.feature.mfcc(signal[start:finish], sample_rate, n_mfcc=num_mfcc, n_fft=n_fft, hop_length=hop_length)\n",
      "C:\\Users\\danie\\OneDrive - Universidad Tecnológica de Bolívar\\U\\6to Semestre\\Inteligencia Artificial\\Proyecto\\Extract_Data.py:61: FutureWarning: Pass y=[ 0.01382542  0.0132793   0.01273166 ... -0.0039901  -0.00286056\n",
      " -0.0032001 ], sr=22050 as keyword args. From version 0.10 passing these as positional arguments will result in an error\n",
      "  mfcc = librosa.feature.mfcc(signal[start:finish], sample_rate, n_mfcc=num_mfcc, n_fft=n_fft, hop_length=hop_length)\n"
     ]
    },
    {
     "name": "stdout",
     "output_type": "stream",
     "text": [
      "Audios/Familia Acevedo\\Acevedo 3.wav, segment:1\n",
      "Audios/Familia Acevedo\\Acevedo 3.wav, segment:2\n",
      "Audios/Familia Acevedo\\Acevedo 3.wav, segment:3\n",
      "Audios/Familia Acevedo\\Acevedo 3.wav, segment:4\n",
      "Audios/Familia Acevedo\\Acevedo 3.wav, segment:5\n",
      "Audios/Familia Acevedo\\Acevedo 3.wav, segment:6\n",
      "Audios/Familia Acevedo\\Acevedo 3.wav, segment:7\n"
     ]
    },
    {
     "name": "stderr",
     "output_type": "stream",
     "text": [
      "C:\\Users\\danie\\OneDrive - Universidad Tecnológica de Bolívar\\U\\6to Semestre\\Inteligencia Artificial\\Proyecto\\Extract_Data.py:61: FutureWarning: Pass y=[-1.9844701e-06  3.4617603e-06 -2.5397916e-05 ...  4.8369911e-02\n",
      "  4.6718590e-02  3.5046406e-02], sr=22050 as keyword args. From version 0.10 passing these as positional arguments will result in an error\n",
      "  mfcc = librosa.feature.mfcc(signal[start:finish], sample_rate, n_mfcc=num_mfcc, n_fft=n_fft, hop_length=hop_length)\n",
      "C:\\Users\\danie\\OneDrive - Universidad Tecnológica de Bolívar\\U\\6to Semestre\\Inteligencia Artificial\\Proyecto\\Extract_Data.py:61: FutureWarning: Pass y=[ 0.0185315  -0.00258378 -0.0244425  ... -0.12957186 -0.14496648\n",
      " -0.15405998], sr=22050 as keyword args. From version 0.10 passing these as positional arguments will result in an error\n",
      "  mfcc = librosa.feature.mfcc(signal[start:finish], sample_rate, n_mfcc=num_mfcc, n_fft=n_fft, hop_length=hop_length)\n",
      "C:\\Users\\danie\\OneDrive - Universidad Tecnológica de Bolívar\\U\\6to Semestre\\Inteligencia Artificial\\Proyecto\\Extract_Data.py:61: FutureWarning: Pass y=[-0.15096383 -0.14005563 -0.12630205 ...  0.00524689 -0.01717628\n",
      " -0.00753739], sr=22050 as keyword args. From version 0.10 passing these as positional arguments will result in an error\n",
      "  mfcc = librosa.feature.mfcc(signal[start:finish], sample_rate, n_mfcc=num_mfcc, n_fft=n_fft, hop_length=hop_length)\n",
      "C:\\Users\\danie\\OneDrive - Universidad Tecnológica de Bolívar\\U\\6to Semestre\\Inteligencia Artificial\\Proyecto\\Extract_Data.py:61: FutureWarning: Pass y=[-0.0012522  -0.01142215 -0.01694323 ... -0.01060926 -0.01702802\n",
      " -0.02542727], sr=22050 as keyword args. From version 0.10 passing these as positional arguments will result in an error\n",
      "  mfcc = librosa.feature.mfcc(signal[start:finish], sample_rate, n_mfcc=num_mfcc, n_fft=n_fft, hop_length=hop_length)\n",
      "C:\\Users\\danie\\OneDrive - Universidad Tecnológica de Bolívar\\U\\6to Semestre\\Inteligencia Artificial\\Proyecto\\Extract_Data.py:61: FutureWarning: Pass y=[-0.03778294 -0.04727909 -0.04810384 ...  0.03599923  0.02941208\n",
      "  0.02154116], sr=22050 as keyword args. From version 0.10 passing these as positional arguments will result in an error\n",
      "  mfcc = librosa.feature.mfcc(signal[start:finish], sample_rate, n_mfcc=num_mfcc, n_fft=n_fft, hop_length=hop_length)\n",
      "C:\\Users\\danie\\OneDrive - Universidad Tecnológica de Bolívar\\U\\6to Semestre\\Inteligencia Artificial\\Proyecto\\Extract_Data.py:61: FutureWarning: Pass y=[ 0.01416685  0.00697975 -0.00048249 ... -0.00520862 -0.02266724\n",
      " -0.03668331], sr=22050 as keyword args. From version 0.10 passing these as positional arguments will result in an error\n",
      "  mfcc = librosa.feature.mfcc(signal[start:finish], sample_rate, n_mfcc=num_mfcc, n_fft=n_fft, hop_length=hop_length)\n",
      "C:\\Users\\danie\\OneDrive - Universidad Tecnológica de Bolívar\\U\\6to Semestre\\Inteligencia Artificial\\Proyecto\\Extract_Data.py:61: FutureWarning: Pass y=[-0.04888179 -0.05850056 -0.0631749  ...  0.00512005  0.00607552\n",
      "  0.00728392], sr=22050 as keyword args. From version 0.10 passing these as positional arguments will result in an error\n",
      "  mfcc = librosa.feature.mfcc(signal[start:finish], sample_rate, n_mfcc=num_mfcc, n_fft=n_fft, hop_length=hop_length)\n"
     ]
    },
    {
     "name": "stdout",
     "output_type": "stream",
     "text": [
      "Audios/Familia Acevedo\\Acevedo 4.wav, segment:1\n",
      "Audios/Familia Acevedo\\Acevedo 4.wav, segment:2\n",
      "Audios/Familia Acevedo\\Acevedo 4.wav, segment:3\n",
      "Audios/Familia Acevedo\\Acevedo 4.wav, segment:4\n",
      "Audios/Familia Acevedo\\Acevedo 4.wav, segment:5\n",
      "Audios/Familia Acevedo\\Acevedo 4.wav, segment:6\n",
      "Audios/Familia Acevedo\\Acevedo 4.wav, segment:7\n",
      "\n",
      "Processing: Familia Barragan\n"
     ]
    },
    {
     "name": "stderr",
     "output_type": "stream",
     "text": [
      "C:\\Users\\danie\\OneDrive - Universidad Tecnológica de Bolívar\\U\\6to Semestre\\Inteligencia Artificial\\Proyecto\\Extract_Data.py:61: FutureWarning: Pass y=[-1.9844701e-06  3.4617603e-06 -2.5397916e-05 ... -8.7806292e-02\n",
      " -6.9237724e-02 -5.6698393e-02], sr=22050 as keyword args. From version 0.10 passing these as positional arguments will result in an error\n",
      "  mfcc = librosa.feature.mfcc(signal[start:finish], sample_rate, n_mfcc=num_mfcc, n_fft=n_fft, hop_length=hop_length)\n",
      "C:\\Users\\danie\\OneDrive - Universidad Tecnológica de Bolívar\\U\\6to Semestre\\Inteligencia Artificial\\Proyecto\\Extract_Data.py:61: FutureWarning: Pass y=[-0.04922808 -0.04204268 -0.03632461 ... -0.00606848 -0.00369234\n",
      " -0.00073027], sr=22050 as keyword args. From version 0.10 passing these as positional arguments will result in an error\n",
      "  mfcc = librosa.feature.mfcc(signal[start:finish], sample_rate, n_mfcc=num_mfcc, n_fft=n_fft, hop_length=hop_length)\n",
      "C:\\Users\\danie\\OneDrive - Universidad Tecnológica de Bolívar\\U\\6to Semestre\\Inteligencia Artificial\\Proyecto\\Extract_Data.py:61: FutureWarning: Pass y=[ 0.00072491 -0.00110493 -0.00428075 ...  0.13912584  0.13971478\n",
      "  0.13931754], sr=22050 as keyword args. From version 0.10 passing these as positional arguments will result in an error\n",
      "  mfcc = librosa.feature.mfcc(signal[start:finish], sample_rate, n_mfcc=num_mfcc, n_fft=n_fft, hop_length=hop_length)\n",
      "C:\\Users\\danie\\OneDrive - Universidad Tecnológica de Bolívar\\U\\6to Semestre\\Inteligencia Artificial\\Proyecto\\Extract_Data.py:61: FutureWarning: Pass y=[ 0.13442132  0.12629755  0.11941916 ... -0.00189512 -0.00173743\n",
      " -0.00168496], sr=22050 as keyword args. From version 0.10 passing these as positional arguments will result in an error\n",
      "  mfcc = librosa.feature.mfcc(signal[start:finish], sample_rate, n_mfcc=num_mfcc, n_fft=n_fft, hop_length=hop_length)\n",
      "C:\\Users\\danie\\OneDrive - Universidad Tecnológica de Bolívar\\U\\6to Semestre\\Inteligencia Artificial\\Proyecto\\Extract_Data.py:61: FutureWarning: Pass y=[-1.5647708e-03 -1.4561029e-03 -1.4322094e-03 ...  3.1798979e-06\n",
      "  3.0422403e-04  5.8582681e-04], sr=22050 as keyword args. From version 0.10 passing these as positional arguments will result in an error\n",
      "  mfcc = librosa.feature.mfcc(signal[start:finish], sample_rate, n_mfcc=num_mfcc, n_fft=n_fft, hop_length=hop_length)\n",
      "C:\\Users\\danie\\OneDrive - Universidad Tecnológica de Bolívar\\U\\6to Semestre\\Inteligencia Artificial\\Proyecto\\Extract_Data.py:61: FutureWarning: Pass y=[0.00131293 0.001917   0.00194778 ... 0.00731264 0.04005348 0.07064168], sr=22050 as keyword args. From version 0.10 passing these as positional arguments will result in an error\n",
      "  mfcc = librosa.feature.mfcc(signal[start:finish], sample_rate, n_mfcc=num_mfcc, n_fft=n_fft, hop_length=hop_length)\n",
      "C:\\Users\\danie\\OneDrive - Universidad Tecnológica de Bolívar\\U\\6to Semestre\\Inteligencia Artificial\\Proyecto\\Extract_Data.py:61: FutureWarning: Pass y=[0.08196963 0.08202624 0.09506692 ... 0.00301187 0.00329824 0.00387476], sr=22050 as keyword args. From version 0.10 passing these as positional arguments will result in an error\n",
      "  mfcc = librosa.feature.mfcc(signal[start:finish], sample_rate, n_mfcc=num_mfcc, n_fft=n_fft, hop_length=hop_length)\n"
     ]
    },
    {
     "name": "stdout",
     "output_type": "stream",
     "text": [
      "Audios/Familia Barragan\\Barragan 1.wav, segment:1\n",
      "Audios/Familia Barragan\\Barragan 1.wav, segment:2\n",
      "Audios/Familia Barragan\\Barragan 1.wav, segment:3\n",
      "Audios/Familia Barragan\\Barragan 1.wav, segment:4\n",
      "Audios/Familia Barragan\\Barragan 1.wav, segment:5\n",
      "Audios/Familia Barragan\\Barragan 1.wav, segment:6\n",
      "Audios/Familia Barragan\\Barragan 1.wav, segment:7\n"
     ]
    },
    {
     "name": "stderr",
     "output_type": "stream",
     "text": [
      "C:\\Users\\danie\\OneDrive - Universidad Tecnológica de Bolívar\\U\\6to Semestre\\Inteligencia Artificial\\Proyecto\\Extract_Data.py:61: FutureWarning: Pass y=[-1.9844701e-06  3.4617603e-06 -2.5397916e-05 ... -1.1361424e-02\n",
      "  2.0250671e-03  4.3276059e-03], sr=22050 as keyword args. From version 0.10 passing these as positional arguments will result in an error\n",
      "  mfcc = librosa.feature.mfcc(signal[start:finish], sample_rate, n_mfcc=num_mfcc, n_fft=n_fft, hop_length=hop_length)\n",
      "C:\\Users\\danie\\OneDrive - Universidad Tecnológica de Bolívar\\U\\6to Semestre\\Inteligencia Artificial\\Proyecto\\Extract_Data.py:61: FutureWarning: Pass y=[0.0015009  0.00463057 0.00147913 ... 0.00490422 0.00597896 0.00466546], sr=22050 as keyword args. From version 0.10 passing these as positional arguments will result in an error\n",
      "  mfcc = librosa.feature.mfcc(signal[start:finish], sample_rate, n_mfcc=num_mfcc, n_fft=n_fft, hop_length=hop_length)\n",
      "C:\\Users\\danie\\OneDrive - Universidad Tecnológica de Bolívar\\U\\6to Semestre\\Inteligencia Artificial\\Proyecto\\Extract_Data.py:61: FutureWarning: Pass y=[0.00310874 0.00323563 0.0042725  ... 0.00292849 0.0022393  0.00155697], sr=22050 as keyword args. From version 0.10 passing these as positional arguments will result in an error\n",
      "  mfcc = librosa.feature.mfcc(signal[start:finish], sample_rate, n_mfcc=num_mfcc, n_fft=n_fft, hop_length=hop_length)\n",
      "C:\\Users\\danie\\OneDrive - Universidad Tecnológica de Bolívar\\U\\6to Semestre\\Inteligencia Artificial\\Proyecto\\Extract_Data.py:61: FutureWarning: Pass y=[ 0.00137762  0.00134447  0.00064061 ... -0.00262561 -0.00219622\n",
      " -0.00179311], sr=22050 as keyword args. From version 0.10 passing these as positional arguments will result in an error\n",
      "  mfcc = librosa.feature.mfcc(signal[start:finish], sample_rate, n_mfcc=num_mfcc, n_fft=n_fft, hop_length=hop_length)\n",
      "C:\\Users\\danie\\OneDrive - Universidad Tecnológica de Bolívar\\U\\6to Semestre\\Inteligencia Artificial\\Proyecto\\Extract_Data.py:61: FutureWarning: Pass y=[-0.00149311 -0.00133968 -0.00110201 ...  0.00064794  0.00072442\n",
      "  0.00086012], sr=22050 as keyword args. From version 0.10 passing these as positional arguments will result in an error\n",
      "  mfcc = librosa.feature.mfcc(signal[start:finish], sample_rate, n_mfcc=num_mfcc, n_fft=n_fft, hop_length=hop_length)\n",
      "C:\\Users\\danie\\OneDrive - Universidad Tecnológica de Bolívar\\U\\6to Semestre\\Inteligencia Artificial\\Proyecto\\Extract_Data.py:61: FutureWarning: Pass y=[ 0.00096449  0.0009778   0.00100323 ... -0.05944821 -0.06266639\n",
      " -0.06496254], sr=22050 as keyword args. From version 0.10 passing these as positional arguments will result in an error\n",
      "  mfcc = librosa.feature.mfcc(signal[start:finish], sample_rate, n_mfcc=num_mfcc, n_fft=n_fft, hop_length=hop_length)\n",
      "C:\\Users\\danie\\OneDrive - Universidad Tecnológica de Bolívar\\U\\6to Semestre\\Inteligencia Artificial\\Proyecto\\Extract_Data.py:61: FutureWarning: Pass y=[-0.06579369 -0.06509172 -0.06412385 ... -0.02124571 -0.02001319\n",
      " -0.02059286], sr=22050 as keyword args. From version 0.10 passing these as positional arguments will result in an error\n",
      "  mfcc = librosa.feature.mfcc(signal[start:finish], sample_rate, n_mfcc=num_mfcc, n_fft=n_fft, hop_length=hop_length)\n"
     ]
    },
    {
     "name": "stdout",
     "output_type": "stream",
     "text": [
      "Audios/Familia Barragan\\Barragan 2.wav, segment:1\n",
      "Audios/Familia Barragan\\Barragan 2.wav, segment:2\n",
      "Audios/Familia Barragan\\Barragan 2.wav, segment:3\n",
      "Audios/Familia Barragan\\Barragan 2.wav, segment:4\n",
      "Audios/Familia Barragan\\Barragan 2.wav, segment:5\n",
      "Audios/Familia Barragan\\Barragan 2.wav, segment:6\n",
      "Audios/Familia Barragan\\Barragan 2.wav, segment:7\n"
     ]
    },
    {
     "name": "stderr",
     "output_type": "stream",
     "text": [
      "C:\\Users\\danie\\OneDrive - Universidad Tecnológica de Bolívar\\U\\6to Semestre\\Inteligencia Artificial\\Proyecto\\Extract_Data.py:61: FutureWarning: Pass y=[-1.9844701e-06  3.4617603e-06 -2.5397916e-05 ... -5.7556279e-02\n",
      " -5.3867381e-02 -5.1135719e-02], sr=22050 as keyword args. From version 0.10 passing these as positional arguments will result in an error\n",
      "  mfcc = librosa.feature.mfcc(signal[start:finish], sample_rate, n_mfcc=num_mfcc, n_fft=n_fft, hop_length=hop_length)\n",
      "C:\\Users\\danie\\OneDrive - Universidad Tecnológica de Bolívar\\U\\6to Semestre\\Inteligencia Artificial\\Proyecto\\Extract_Data.py:61: FutureWarning: Pass y=[-0.04854336 -0.04498973 -0.03930632 ... -0.2619325  -0.24450292\n",
      " -0.21552297], sr=22050 as keyword args. From version 0.10 passing these as positional arguments will result in an error\n",
      "  mfcc = librosa.feature.mfcc(signal[start:finish], sample_rate, n_mfcc=num_mfcc, n_fft=n_fft, hop_length=hop_length)\n",
      "C:\\Users\\danie\\OneDrive - Universidad Tecnológica de Bolívar\\U\\6to Semestre\\Inteligencia Artificial\\Proyecto\\Extract_Data.py:61: FutureWarning: Pass y=[-1.7977275e-01 -1.4224415e-01 -1.1294208e-01 ... -9.3648807e-05\n",
      " -9.7772526e-04 -2.5650777e-03], sr=22050 as keyword args. From version 0.10 passing these as positional arguments will result in an error\n",
      "  mfcc = librosa.feature.mfcc(signal[start:finish], sample_rate, n_mfcc=num_mfcc, n_fft=n_fft, hop_length=hop_length)\n",
      "C:\\Users\\danie\\OneDrive - Universidad Tecnológica de Bolívar\\U\\6to Semestre\\Inteligencia Artificial\\Proyecto\\Extract_Data.py:61: FutureWarning: Pass y=[-0.00417651 -0.0043148  -0.00247725 ... -0.00244813 -0.0034212\n",
      " -0.00411997], sr=22050 as keyword args. From version 0.10 passing these as positional arguments will result in an error\n",
      "  mfcc = librosa.feature.mfcc(signal[start:finish], sample_rate, n_mfcc=num_mfcc, n_fft=n_fft, hop_length=hop_length)\n",
      "C:\\Users\\danie\\OneDrive - Universidad Tecnológica de Bolívar\\U\\6to Semestre\\Inteligencia Artificial\\Proyecto\\Extract_Data.py:61: FutureWarning: Pass y=[-0.0041287  -0.00377791 -0.00332483 ...  0.07439632  0.10497556\n",
      "  0.12951581], sr=22050 as keyword args. From version 0.10 passing these as positional arguments will result in an error\n",
      "  mfcc = librosa.feature.mfcc(signal[start:finish], sample_rate, n_mfcc=num_mfcc, n_fft=n_fft, hop_length=hop_length)\n",
      "C:\\Users\\danie\\OneDrive - Universidad Tecnológica de Bolívar\\U\\6to Semestre\\Inteligencia Artificial\\Proyecto\\Extract_Data.py:61: FutureWarning: Pass y=[ 0.14733979  0.15992853  0.17120516 ...  0.01175698  0.00470052\n",
      " -0.00117282], sr=22050 as keyword args. From version 0.10 passing these as positional arguments will result in an error\n",
      "  mfcc = librosa.feature.mfcc(signal[start:finish], sample_rate, n_mfcc=num_mfcc, n_fft=n_fft, hop_length=hop_length)\n",
      "C:\\Users\\danie\\OneDrive - Universidad Tecnológica de Bolívar\\U\\6to Semestre\\Inteligencia Artificial\\Proyecto\\Extract_Data.py:61: FutureWarning: Pass y=[-0.00473327 -0.0060799  -0.00741803 ... -0.00097607  0.00222635\n",
      "  0.0052851 ], sr=22050 as keyword args. From version 0.10 passing these as positional arguments will result in an error\n",
      "  mfcc = librosa.feature.mfcc(signal[start:finish], sample_rate, n_mfcc=num_mfcc, n_fft=n_fft, hop_length=hop_length)\n"
     ]
    },
    {
     "name": "stdout",
     "output_type": "stream",
     "text": [
      "Audios/Familia Barragan\\Barragan 3.wav, segment:1\n",
      "Audios/Familia Barragan\\Barragan 3.wav, segment:2\n",
      "Audios/Familia Barragan\\Barragan 3.wav, segment:3\n",
      "Audios/Familia Barragan\\Barragan 3.wav, segment:4\n",
      "Audios/Familia Barragan\\Barragan 3.wav, segment:5\n",
      "Audios/Familia Barragan\\Barragan 3.wav, segment:6\n",
      "Audios/Familia Barragan\\Barragan 3.wav, segment:7\n",
      "\n",
      "Processing: Familia Bertel\n"
     ]
    },
    {
     "name": "stderr",
     "output_type": "stream",
     "text": [
      "C:\\Users\\danie\\OneDrive - Universidad Tecnológica de Bolívar\\U\\6to Semestre\\Inteligencia Artificial\\Proyecto\\Extract_Data.py:61: FutureWarning: Pass y=[-1.9844701e-06  3.4617603e-06 -2.5397916e-05 ... -2.0450056e-02\n",
      " -1.2873274e-02 -9.7717987e-03], sr=22050 as keyword args. From version 0.10 passing these as positional arguments will result in an error\n",
      "  mfcc = librosa.feature.mfcc(signal[start:finish], sample_rate, n_mfcc=num_mfcc, n_fft=n_fft, hop_length=hop_length)\n",
      "C:\\Users\\danie\\OneDrive - Universidad Tecnológica de Bolívar\\U\\6to Semestre\\Inteligencia Artificial\\Proyecto\\Extract_Data.py:61: FutureWarning: Pass y=[-0.00756232 -0.00225835  0.00854129 ...  0.00021839  0.00033761\n",
      "  0.00024164], sr=22050 as keyword args. From version 0.10 passing these as positional arguments will result in an error\n",
      "  mfcc = librosa.feature.mfcc(signal[start:finish], sample_rate, n_mfcc=num_mfcc, n_fft=n_fft, hop_length=hop_length)\n",
      "C:\\Users\\danie\\OneDrive - Universidad Tecnológica de Bolívar\\U\\6to Semestre\\Inteligencia Artificial\\Proyecto\\Extract_Data.py:61: FutureWarning: Pass y=[0.0002924  0.00060938 0.00099709 ... 0.01787514 0.0172085  0.01629137], sr=22050 as keyword args. From version 0.10 passing these as positional arguments will result in an error\n",
      "  mfcc = librosa.feature.mfcc(signal[start:finish], sample_rate, n_mfcc=num_mfcc, n_fft=n_fft, hop_length=hop_length)\n",
      "C:\\Users\\danie\\OneDrive - Universidad Tecnológica de Bolívar\\U\\6to Semestre\\Inteligencia Artificial\\Proyecto\\Extract_Data.py:61: FutureWarning: Pass y=[ 0.0151869   0.01374497  0.01208906 ... -0.00092512 -0.00164\n",
      " -0.00216671], sr=22050 as keyword args. From version 0.10 passing these as positional arguments will result in an error\n",
      "  mfcc = librosa.feature.mfcc(signal[start:finish], sample_rate, n_mfcc=num_mfcc, n_fft=n_fft, hop_length=hop_length)\n",
      "C:\\Users\\danie\\OneDrive - Universidad Tecnológica de Bolívar\\U\\6to Semestre\\Inteligencia Artificial\\Proyecto\\Extract_Data.py:61: FutureWarning: Pass y=[-0.00266811 -0.00301484 -0.00319726 ...  0.03063608  0.03060792\n",
      "  0.02988395], sr=22050 as keyword args. From version 0.10 passing these as positional arguments will result in an error\n",
      "  mfcc = librosa.feature.mfcc(signal[start:finish], sample_rate, n_mfcc=num_mfcc, n_fft=n_fft, hop_length=hop_length)\n",
      "C:\\Users\\danie\\OneDrive - Universidad Tecnológica de Bolívar\\U\\6to Semestre\\Inteligencia Artificial\\Proyecto\\Extract_Data.py:61: FutureWarning: Pass y=[ 0.02873677  0.02861693  0.02868754 ... -0.00317325 -0.00484069\n",
      " -0.00772051], sr=22050 as keyword args. From version 0.10 passing these as positional arguments will result in an error\n",
      "  mfcc = librosa.feature.mfcc(signal[start:finish], sample_rate, n_mfcc=num_mfcc, n_fft=n_fft, hop_length=hop_length)\n",
      "C:\\Users\\danie\\OneDrive - Universidad Tecnológica de Bolívar\\U\\6to Semestre\\Inteligencia Artificial\\Proyecto\\Extract_Data.py:61: FutureWarning: Pass y=[-0.01211049 -0.01712156 -0.02252007 ... -0.00181385 -0.00184076\n",
      "  0.        ], sr=22050 as keyword args. From version 0.10 passing these as positional arguments will result in an error\n",
      "  mfcc = librosa.feature.mfcc(signal[start:finish], sample_rate, n_mfcc=num_mfcc, n_fft=n_fft, hop_length=hop_length)\n"
     ]
    },
    {
     "name": "stdout",
     "output_type": "stream",
     "text": [
      "Audios/Familia Bertel\\Bertel 1.wav, segment:1\n",
      "Audios/Familia Bertel\\Bertel 1.wav, segment:2\n",
      "Audios/Familia Bertel\\Bertel 1.wav, segment:3\n",
      "Audios/Familia Bertel\\Bertel 1.wav, segment:4\n",
      "Audios/Familia Bertel\\Bertel 1.wav, segment:5\n",
      "Audios/Familia Bertel\\Bertel 1.wav, segment:6\n"
     ]
    },
    {
     "name": "stderr",
     "output_type": "stream",
     "text": [
      "C:\\Users\\danie\\OneDrive - Universidad Tecnológica de Bolívar\\U\\6to Semestre\\Inteligencia Artificial\\Proyecto\\Extract_Data.py:61: FutureWarning: Pass y=[-1.9844701e-06  3.4617603e-06 -2.5397916e-05 ...  3.3168301e-03\n",
      "  2.9576337e-03  2.1926498e-03], sr=22050 as keyword args. From version 0.10 passing these as positional arguments will result in an error\n",
      "  mfcc = librosa.feature.mfcc(signal[start:finish], sample_rate, n_mfcc=num_mfcc, n_fft=n_fft, hop_length=hop_length)\n",
      "C:\\Users\\danie\\OneDrive - Universidad Tecnológica de Bolívar\\U\\6to Semestre\\Inteligencia Artificial\\Proyecto\\Extract_Data.py:61: FutureWarning: Pass y=[ 0.00116199  0.00042944  0.00013984 ... -0.05508669 -0.04670062\n",
      " -0.02529177], sr=22050 as keyword args. From version 0.10 passing these as positional arguments will result in an error\n",
      "  mfcc = librosa.feature.mfcc(signal[start:finish], sample_rate, n_mfcc=num_mfcc, n_fft=n_fft, hop_length=hop_length)\n",
      "C:\\Users\\danie\\OneDrive - Universidad Tecnológica de Bolívar\\U\\6to Semestre\\Inteligencia Artificial\\Proyecto\\Extract_Data.py:61: FutureWarning: Pass y=[0.00738879 0.05285462 0.10438069 ... 0.16748522 0.08450486 0.02526831], sr=22050 as keyword args. From version 0.10 passing these as positional arguments will result in an error\n",
      "  mfcc = librosa.feature.mfcc(signal[start:finish], sample_rate, n_mfcc=num_mfcc, n_fft=n_fft, hop_length=hop_length)\n",
      "C:\\Users\\danie\\OneDrive - Universidad Tecnológica de Bolívar\\U\\6to Semestre\\Inteligencia Artificial\\Proyecto\\Extract_Data.py:61: FutureWarning: Pass y=[-0.01465426 -0.04725191 -0.0612458  ... -0.02786071 -0.02525084\n",
      " -0.02318692], sr=22050 as keyword args. From version 0.10 passing these as positional arguments will result in an error\n",
      "  mfcc = librosa.feature.mfcc(signal[start:finish], sample_rate, n_mfcc=num_mfcc, n_fft=n_fft, hop_length=hop_length)\n",
      "C:\\Users\\danie\\OneDrive - Universidad Tecnológica de Bolívar\\U\\6to Semestre\\Inteligencia Artificial\\Proyecto\\Extract_Data.py:61: FutureWarning: Pass y=[-0.02129963 -0.0198383  -0.0182377  ...  0.3288998   0.28036162\n",
      "  0.1348356 ], sr=22050 as keyword args. From version 0.10 passing these as positional arguments will result in an error\n",
      "  mfcc = librosa.feature.mfcc(signal[start:finish], sample_rate, n_mfcc=num_mfcc, n_fft=n_fft, hop_length=hop_length)\n",
      "C:\\Users\\danie\\OneDrive - Universidad Tecnológica de Bolívar\\U\\6to Semestre\\Inteligencia Artificial\\Proyecto\\Extract_Data.py:61: FutureWarning: Pass y=[ 0.04674022  0.1231705   0.26324886 ... -0.01309722 -0.01147895\n",
      " -0.01006734], sr=22050 as keyword args. From version 0.10 passing these as positional arguments will result in an error\n",
      "  mfcc = librosa.feature.mfcc(signal[start:finish], sample_rate, n_mfcc=num_mfcc, n_fft=n_fft, hop_length=hop_length)\n",
      "C:\\Users\\danie\\OneDrive - Universidad Tecnológica de Bolívar\\U\\6to Semestre\\Inteligencia Artificial\\Proyecto\\Extract_Data.py:61: FutureWarning: Pass y=[-0.00888461 -0.00757837 -0.0063567  ...  0.00424114  0.00364327\n",
      "  0.00299061], sr=22050 as keyword args. From version 0.10 passing these as positional arguments will result in an error\n",
      "  mfcc = librosa.feature.mfcc(signal[start:finish], sample_rate, n_mfcc=num_mfcc, n_fft=n_fft, hop_length=hop_length)\n"
     ]
    },
    {
     "name": "stdout",
     "output_type": "stream",
     "text": [
      "Audios/Familia Bertel\\Bertel 2.wav, segment:1\n",
      "Audios/Familia Bertel\\Bertel 2.wav, segment:2\n",
      "Audios/Familia Bertel\\Bertel 2.wav, segment:3\n",
      "Audios/Familia Bertel\\Bertel 2.wav, segment:4\n",
      "Audios/Familia Bertel\\Bertel 2.wav, segment:5\n",
      "Audios/Familia Bertel\\Bertel 2.wav, segment:6\n",
      "Audios/Familia Bertel\\Bertel 2.wav, segment:7\n"
     ]
    },
    {
     "name": "stderr",
     "output_type": "stream",
     "text": [
      "C:\\Users\\danie\\OneDrive - Universidad Tecnológica de Bolívar\\U\\6to Semestre\\Inteligencia Artificial\\Proyecto\\Extract_Data.py:61: FutureWarning: Pass y=[-1.9844701e-06  3.4617603e-06 -2.5397916e-05 ...  2.0998299e-02\n",
      "  1.1359148e-02  4.1164169e-03], sr=22050 as keyword args. From version 0.10 passing these as positional arguments will result in an error\n",
      "  mfcc = librosa.feature.mfcc(signal[start:finish], sample_rate, n_mfcc=num_mfcc, n_fft=n_fft, hop_length=hop_length)\n",
      "C:\\Users\\danie\\OneDrive - Universidad Tecnológica de Bolívar\\U\\6to Semestre\\Inteligencia Artificial\\Proyecto\\Extract_Data.py:61: FutureWarning: Pass y=[-0.00298868 -0.0117853  -0.02192639 ... -0.00421119 -0.00422631\n",
      " -0.00458604], sr=22050 as keyword args. From version 0.10 passing these as positional arguments will result in an error\n",
      "  mfcc = librosa.feature.mfcc(signal[start:finish], sample_rate, n_mfcc=num_mfcc, n_fft=n_fft, hop_length=hop_length)\n",
      "C:\\Users\\danie\\OneDrive - Universidad Tecnológica de Bolívar\\U\\6to Semestre\\Inteligencia Artificial\\Proyecto\\Extract_Data.py:61: FutureWarning: Pass y=[-0.00528604 -0.00503614 -0.00387349 ...  0.00812683  0.02150962\n",
      "  0.0349361 ], sr=22050 as keyword args. From version 0.10 passing these as positional arguments will result in an error\n",
      "  mfcc = librosa.feature.mfcc(signal[start:finish], sample_rate, n_mfcc=num_mfcc, n_fft=n_fft, hop_length=hop_length)\n",
      "C:\\Users\\danie\\OneDrive - Universidad Tecnológica de Bolívar\\U\\6to Semestre\\Inteligencia Artificial\\Proyecto\\Extract_Data.py:61: FutureWarning: Pass y=[0.04751266 0.0578751  0.06908107 ... 0.04882699 0.13524333 0.18422303], sr=22050 as keyword args. From version 0.10 passing these as positional arguments will result in an error\n",
      "  mfcc = librosa.feature.mfcc(signal[start:finish], sample_rate, n_mfcc=num_mfcc, n_fft=n_fft, hop_length=hop_length)\n",
      "C:\\Users\\danie\\OneDrive - Universidad Tecnológica de Bolívar\\U\\6to Semestre\\Inteligencia Artificial\\Proyecto\\Extract_Data.py:61: FutureWarning: Pass y=[ 0.18211986  0.1681573   0.1766114  ... -0.08611765 -0.08654179\n",
      " -0.08423246], sr=22050 as keyword args. From version 0.10 passing these as positional arguments will result in an error\n",
      "  mfcc = librosa.feature.mfcc(signal[start:finish], sample_rate, n_mfcc=num_mfcc, n_fft=n_fft, hop_length=hop_length)\n",
      "C:\\Users\\danie\\OneDrive - Universidad Tecnológica de Bolívar\\U\\6to Semestre\\Inteligencia Artificial\\Proyecto\\Extract_Data.py:61: FutureWarning: Pass y=[-0.08246803 -0.07995199 -0.07742481 ...  0.01052832  0.00592776\n",
      "  0.00115667], sr=22050 as keyword args. From version 0.10 passing these as positional arguments will result in an error\n",
      "  mfcc = librosa.feature.mfcc(signal[start:finish], sample_rate, n_mfcc=num_mfcc, n_fft=n_fft, hop_length=hop_length)\n",
      "C:\\Users\\danie\\OneDrive - Universidad Tecnológica de Bolívar\\U\\6to Semestre\\Inteligencia Artificial\\Proyecto\\Extract_Data.py:61: FutureWarning: Pass y=[-0.00362112 -0.00756339 -0.00990771 ...  0.00288811  0.00144456\n",
      "  0.        ], sr=22050 as keyword args. From version 0.10 passing these as positional arguments will result in an error\n",
      "  mfcc = librosa.feature.mfcc(signal[start:finish], sample_rate, n_mfcc=num_mfcc, n_fft=n_fft, hop_length=hop_length)\n"
     ]
    },
    {
     "name": "stdout",
     "output_type": "stream",
     "text": [
      "Audios/Familia Bertel\\Bertel 3.wav, segment:1\n",
      "Audios/Familia Bertel\\Bertel 3.wav, segment:2\n",
      "Audios/Familia Bertel\\Bertel 3.wav, segment:3\n",
      "Audios/Familia Bertel\\Bertel 3.wav, segment:4\n",
      "Audios/Familia Bertel\\Bertel 3.wav, segment:5\n",
      "Audios/Familia Bertel\\Bertel 3.wav, segment:6\n",
      "\n",
      "Processing: Familia Caro\n"
     ]
    },
    {
     "name": "stderr",
     "output_type": "stream",
     "text": [
      "C:\\Users\\danie\\OneDrive - Universidad Tecnológica de Bolívar\\U\\6to Semestre\\Inteligencia Artificial\\Proyecto\\Extract_Data.py:61: FutureWarning: Pass y=[-1.9844701e-06  3.4617603e-06 -2.5397916e-05 ...  8.7368168e-02\n",
      "  7.5953849e-02  6.1227396e-02], sr=22050 as keyword args. From version 0.10 passing these as positional arguments will result in an error\n",
      "  mfcc = librosa.feature.mfcc(signal[start:finish], sample_rate, n_mfcc=num_mfcc, n_fft=n_fft, hop_length=hop_length)\n",
      "C:\\Users\\danie\\OneDrive - Universidad Tecnológica de Bolívar\\U\\6to Semestre\\Inteligencia Artificial\\Proyecto\\Extract_Data.py:61: FutureWarning: Pass y=[ 0.04593102  0.03233832  0.02131106 ... -0.00482317 -0.00561403\n",
      " -0.00582994], sr=22050 as keyword args. From version 0.10 passing these as positional arguments will result in an error\n",
      "  mfcc = librosa.feature.mfcc(signal[start:finish], sample_rate, n_mfcc=num_mfcc, n_fft=n_fft, hop_length=hop_length)\n",
      "C:\\Users\\danie\\OneDrive - Universidad Tecnológica de Bolívar\\U\\6to Semestre\\Inteligencia Artificial\\Proyecto\\Extract_Data.py:61: FutureWarning: Pass y=[-0.00542183 -0.00436266 -0.003315   ...  0.00939997  0.0113004\n",
      "  0.01211285], sr=22050 as keyword args. From version 0.10 passing these as positional arguments will result in an error\n",
      "  mfcc = librosa.feature.mfcc(signal[start:finish], sample_rate, n_mfcc=num_mfcc, n_fft=n_fft, hop_length=hop_length)\n",
      "C:\\Users\\danie\\OneDrive - Universidad Tecnológica de Bolívar\\U\\6to Semestre\\Inteligencia Artificial\\Proyecto\\Extract_Data.py:61: FutureWarning: Pass y=[0.01282377 0.01383043 0.01533857 ... 0.00345415 0.00402016 0.00488374], sr=22050 as keyword args. From version 0.10 passing these as positional arguments will result in an error\n",
      "  mfcc = librosa.feature.mfcc(signal[start:finish], sample_rate, n_mfcc=num_mfcc, n_fft=n_fft, hop_length=hop_length)\n",
      "C:\\Users\\danie\\OneDrive - Universidad Tecnológica de Bolívar\\U\\6to Semestre\\Inteligencia Artificial\\Proyecto\\Extract_Data.py:61: FutureWarning: Pass y=[ 0.00531132  0.00513192  0.00463424 ... -0.052401   -0.03823177\n",
      " -0.01983323], sr=22050 as keyword args. From version 0.10 passing these as positional arguments will result in an error\n",
      "  mfcc = librosa.feature.mfcc(signal[start:finish], sample_rate, n_mfcc=num_mfcc, n_fft=n_fft, hop_length=hop_length)\n",
      "C:\\Users\\danie\\OneDrive - Universidad Tecnológica de Bolívar\\U\\6to Semestre\\Inteligencia Artificial\\Proyecto\\Extract_Data.py:61: FutureWarning: Pass y=[0.00440245 0.03256615 0.06109169 ... 0.01982844 0.01776423 0.01553859], sr=22050 as keyword args. From version 0.10 passing these as positional arguments will result in an error\n",
      "  mfcc = librosa.feature.mfcc(signal[start:finish], sample_rate, n_mfcc=num_mfcc, n_fft=n_fft, hop_length=hop_length)\n",
      "C:\\Users\\danie\\OneDrive - Universidad Tecnológica de Bolívar\\U\\6to Semestre\\Inteligencia Artificial\\Proyecto\\Extract_Data.py:61: FutureWarning: Pass y=[0.01336675 0.01156824 0.01052486 ... 0.01622972 0.01841068 0.02025808], sr=22050 as keyword args. From version 0.10 passing these as positional arguments will result in an error\n",
      "  mfcc = librosa.feature.mfcc(signal[start:finish], sample_rate, n_mfcc=num_mfcc, n_fft=n_fft, hop_length=hop_length)\n"
     ]
    },
    {
     "name": "stdout",
     "output_type": "stream",
     "text": [
      "Audios/Familia Caro\\Caro 1.wav, segment:1\n",
      "Audios/Familia Caro\\Caro 1.wav, segment:2\n",
      "Audios/Familia Caro\\Caro 1.wav, segment:3\n",
      "Audios/Familia Caro\\Caro 1.wav, segment:4\n",
      "Audios/Familia Caro\\Caro 1.wav, segment:5\n",
      "Audios/Familia Caro\\Caro 1.wav, segment:6\n",
      "Audios/Familia Caro\\Caro 1.wav, segment:7\n"
     ]
    },
    {
     "name": "stderr",
     "output_type": "stream",
     "text": [
      "C:\\Users\\danie\\OneDrive - Universidad Tecnológica de Bolívar\\U\\6to Semestre\\Inteligencia Artificial\\Proyecto\\Extract_Data.py:61: FutureWarning: Pass y=[-1.9844701e-06  3.4617603e-06 -2.5397916e-05 ... -2.3735339e-02\n",
      " -2.6984433e-02 -3.2266207e-02], sr=22050 as keyword args. From version 0.10 passing these as positional arguments will result in an error\n",
      "  mfcc = librosa.feature.mfcc(signal[start:finish], sample_rate, n_mfcc=num_mfcc, n_fft=n_fft, hop_length=hop_length)\n",
      "C:\\Users\\danie\\OneDrive - Universidad Tecnológica de Bolívar\\U\\6to Semestre\\Inteligencia Artificial\\Proyecto\\Extract_Data.py:61: FutureWarning: Pass y=[-0.03540444 -0.03421609 -0.03496719 ... -0.0124131  -0.02072596\n",
      " -0.03021195], sr=22050 as keyword args. From version 0.10 passing these as positional arguments will result in an error\n",
      "  mfcc = librosa.feature.mfcc(signal[start:finish], sample_rate, n_mfcc=num_mfcc, n_fft=n_fft, hop_length=hop_length)\n",
      "C:\\Users\\danie\\OneDrive - Universidad Tecnológica de Bolívar\\U\\6to Semestre\\Inteligencia Artificial\\Proyecto\\Extract_Data.py:61: FutureWarning: Pass y=[-0.04571652 -0.05904033 -0.06725637 ...  0.02175733  0.03046589\n",
      "  0.03763256], sr=22050 as keyword args. From version 0.10 passing these as positional arguments will result in an error\n",
      "  mfcc = librosa.feature.mfcc(signal[start:finish], sample_rate, n_mfcc=num_mfcc, n_fft=n_fft, hop_length=hop_length)\n",
      "C:\\Users\\danie\\OneDrive - Universidad Tecnológica de Bolívar\\U\\6to Semestre\\Inteligencia Artificial\\Proyecto\\Extract_Data.py:61: FutureWarning: Pass y=[ 0.04346532  0.04904303  0.05264577 ... -0.00446833 -0.00392409\n",
      " -0.0033303 ], sr=22050 as keyword args. From version 0.10 passing these as positional arguments will result in an error\n",
      "  mfcc = librosa.feature.mfcc(signal[start:finish], sample_rate, n_mfcc=num_mfcc, n_fft=n_fft, hop_length=hop_length)\n",
      "C:\\Users\\danie\\OneDrive - Universidad Tecnológica de Bolívar\\U\\6to Semestre\\Inteligencia Artificial\\Proyecto\\Extract_Data.py:61: FutureWarning: Pass y=[-0.0028311  -0.00250875 -0.002235   ...  0.0045753   0.00353458\n",
      " -0.01101002], sr=22050 as keyword args. From version 0.10 passing these as positional arguments will result in an error\n",
      "  mfcc = librosa.feature.mfcc(signal[start:finish], sample_rate, n_mfcc=num_mfcc, n_fft=n_fft, hop_length=hop_length)\n",
      "C:\\Users\\danie\\OneDrive - Universidad Tecnológica de Bolívar\\U\\6to Semestre\\Inteligencia Artificial\\Proyecto\\Extract_Data.py:61: FutureWarning: Pass y=[-0.00427493  0.00253931 -0.00888645 ... -0.02706609 -0.03403243\n",
      " -0.04019111], sr=22050 as keyword args. From version 0.10 passing these as positional arguments will result in an error\n",
      "  mfcc = librosa.feature.mfcc(signal[start:finish], sample_rate, n_mfcc=num_mfcc, n_fft=n_fft, hop_length=hop_length)\n",
      "C:\\Users\\danie\\OneDrive - Universidad Tecnológica de Bolívar\\U\\6to Semestre\\Inteligencia Artificial\\Proyecto\\Extract_Data.py:61: FutureWarning: Pass y=[-0.04507907 -0.04937412 -0.05315462 ... -0.00283771 -0.00199157\n",
      " -0.00182143], sr=22050 as keyword args. From version 0.10 passing these as positional arguments will result in an error\n",
      "  mfcc = librosa.feature.mfcc(signal[start:finish], sample_rate, n_mfcc=num_mfcc, n_fft=n_fft, hop_length=hop_length)\n"
     ]
    },
    {
     "name": "stdout",
     "output_type": "stream",
     "text": [
      "Audios/Familia Caro\\Caro 2.wav, segment:1\n",
      "Audios/Familia Caro\\Caro 2.wav, segment:2\n",
      "Audios/Familia Caro\\Caro 2.wav, segment:3\n",
      "Audios/Familia Caro\\Caro 2.wav, segment:4\n",
      "Audios/Familia Caro\\Caro 2.wav, segment:5\n",
      "Audios/Familia Caro\\Caro 2.wav, segment:6\n",
      "Audios/Familia Caro\\Caro 2.wav, segment:7\n",
      "\n",
      "Processing: Familia Carrillo\n"
     ]
    },
    {
     "name": "stderr",
     "output_type": "stream",
     "text": [
      "C:\\Users\\danie\\OneDrive - Universidad Tecnológica de Bolívar\\U\\6to Semestre\\Inteligencia Artificial\\Proyecto\\Extract_Data.py:61: FutureWarning: Pass y=[ 4.9635688e-05  3.5032259e-05 -2.5824695e-05 ...  6.4227461e-05\n",
      " -6.6534063e-05  7.3436974e-04], sr=22050 as keyword args. From version 0.10 passing these as positional arguments will result in an error\n",
      "  mfcc = librosa.feature.mfcc(signal[start:finish], sample_rate, n_mfcc=num_mfcc, n_fft=n_fft, hop_length=hop_length)\n",
      "C:\\Users\\danie\\OneDrive - Universidad Tecnológica de Bolívar\\U\\6to Semestre\\Inteligencia Artificial\\Proyecto\\Extract_Data.py:61: FutureWarning: Pass y=[0.00130401 0.00151784 0.00165511 ... 0.11358608 0.11353447 0.0972036 ], sr=22050 as keyword args. From version 0.10 passing these as positional arguments will result in an error\n",
      "  mfcc = librosa.feature.mfcc(signal[start:finish], sample_rate, n_mfcc=num_mfcc, n_fft=n_fft, hop_length=hop_length)\n",
      "C:\\Users\\danie\\OneDrive - Universidad Tecnológica de Bolívar\\U\\6to Semestre\\Inteligencia Artificial\\Proyecto\\Extract_Data.py:61: FutureWarning: Pass y=[ 0.07009468  0.05705832  0.06530555 ... -0.00130529 -0.00161302\n",
      " -0.00249627], sr=22050 as keyword args. From version 0.10 passing these as positional arguments will result in an error\n",
      "  mfcc = librosa.feature.mfcc(signal[start:finish], sample_rate, n_mfcc=num_mfcc, n_fft=n_fft, hop_length=hop_length)\n",
      "C:\\Users\\danie\\OneDrive - Universidad Tecnológica de Bolívar\\U\\6to Semestre\\Inteligencia Artificial\\Proyecto\\Extract_Data.py:61: FutureWarning: Pass y=[-0.0038135  -0.0040223  -0.00253316 ...  0.0099818  -0.00536731\n",
      "  0.01092777], sr=22050 as keyword args. From version 0.10 passing these as positional arguments will result in an error\n",
      "  mfcc = librosa.feature.mfcc(signal[start:finish], sample_rate, n_mfcc=num_mfcc, n_fft=n_fft, hop_length=hop_length)\n",
      "C:\\Users\\danie\\OneDrive - Universidad Tecnológica de Bolívar\\U\\6to Semestre\\Inteligencia Artificial\\Proyecto\\Extract_Data.py:61: FutureWarning: Pass y=[ 0.0079517  -0.00405202  0.00619626 ...  0.00466772  0.00454575\n",
      "  0.00482143], sr=22050 as keyword args. From version 0.10 passing these as positional arguments will result in an error\n",
      "  mfcc = librosa.feature.mfcc(signal[start:finish], sample_rate, n_mfcc=num_mfcc, n_fft=n_fft, hop_length=hop_length)\n",
      "C:\\Users\\danie\\OneDrive - Universidad Tecnológica de Bolívar\\U\\6to Semestre\\Inteligencia Artificial\\Proyecto\\Extract_Data.py:61: FutureWarning: Pass y=[ 0.00531101  0.00540315  0.00555962 ...  0.0052334   0.00159851\n",
      " -0.00369714], sr=22050 as keyword args. From version 0.10 passing these as positional arguments will result in an error\n",
      "  mfcc = librosa.feature.mfcc(signal[start:finish], sample_rate, n_mfcc=num_mfcc, n_fft=n_fft, hop_length=hop_length)\n",
      "C:\\Users\\danie\\OneDrive - Universidad Tecnológica de Bolívar\\U\\6to Semestre\\Inteligencia Artificial\\Proyecto\\Extract_Data.py:61: FutureWarning: Pass y=[-0.00590061 -0.00805316 -0.01251915 ... -0.05074052 -0.05242385\n",
      " -0.05445635], sr=22050 as keyword args. From version 0.10 passing these as positional arguments will result in an error\n",
      "  mfcc = librosa.feature.mfcc(signal[start:finish], sample_rate, n_mfcc=num_mfcc, n_fft=n_fft, hop_length=hop_length)\n"
     ]
    },
    {
     "name": "stdout",
     "output_type": "stream",
     "text": [
      "Audios/Familia Carrillo\\Carrillo 1.wav, segment:1\n",
      "Audios/Familia Carrillo\\Carrillo 1.wav, segment:2\n",
      "Audios/Familia Carrillo\\Carrillo 1.wav, segment:3\n",
      "Audios/Familia Carrillo\\Carrillo 1.wav, segment:4\n",
      "Audios/Familia Carrillo\\Carrillo 1.wav, segment:5\n",
      "Audios/Familia Carrillo\\Carrillo 1.wav, segment:6\n",
      "Audios/Familia Carrillo\\Carrillo 1.wav, segment:7\n"
     ]
    },
    {
     "name": "stderr",
     "output_type": "stream",
     "text": [
      "C:\\Users\\danie\\OneDrive - Universidad Tecnológica de Bolívar\\U\\6to Semestre\\Inteligencia Artificial\\Proyecto\\Extract_Data.py:61: FutureWarning: Pass y=[-1.9844701e-06  3.4617603e-06 -2.5397916e-05 ... -1.8230372e-03\n",
      " -1.0386890e-03  3.1111215e-04], sr=22050 as keyword args. From version 0.10 passing these as positional arguments will result in an error\n",
      "  mfcc = librosa.feature.mfcc(signal[start:finish], sample_rate, n_mfcc=num_mfcc, n_fft=n_fft, hop_length=hop_length)\n",
      "C:\\Users\\danie\\OneDrive - Universidad Tecnológica de Bolívar\\U\\6to Semestre\\Inteligencia Artificial\\Proyecto\\Extract_Data.py:61: FutureWarning: Pass y=[0.00159225 0.00216502 0.00262229 ... 0.00558935 0.00558291 0.0059239 ], sr=22050 as keyword args. From version 0.10 passing these as positional arguments will result in an error\n",
      "  mfcc = librosa.feature.mfcc(signal[start:finish], sample_rate, n_mfcc=num_mfcc, n_fft=n_fft, hop_length=hop_length)\n",
      "C:\\Users\\danie\\OneDrive - Universidad Tecnológica de Bolívar\\U\\6to Semestre\\Inteligencia Artificial\\Proyecto\\Extract_Data.py:61: FutureWarning: Pass y=[0.00626126 0.00662118 0.00687258 ... 0.0021994  0.00219835 0.00176342], sr=22050 as keyword args. From version 0.10 passing these as positional arguments will result in an error\n",
      "  mfcc = librosa.feature.mfcc(signal[start:finish], sample_rate, n_mfcc=num_mfcc, n_fft=n_fft, hop_length=hop_length)\n",
      "C:\\Users\\danie\\OneDrive - Universidad Tecnológica de Bolívar\\U\\6to Semestre\\Inteligencia Artificial\\Proyecto\\Extract_Data.py:61: FutureWarning: Pass y=[ 0.00128281  0.00112969  0.00118552 ... -0.00185371 -0.00195073\n",
      " -0.00170884], sr=22050 as keyword args. From version 0.10 passing these as positional arguments will result in an error\n",
      "  mfcc = librosa.feature.mfcc(signal[start:finish], sample_rate, n_mfcc=num_mfcc, n_fft=n_fft, hop_length=hop_length)\n",
      "C:\\Users\\danie\\OneDrive - Universidad Tecnológica de Bolívar\\U\\6to Semestre\\Inteligencia Artificial\\Proyecto\\Extract_Data.py:61: FutureWarning: Pass y=[-0.0017315  -0.00165351 -0.00143589 ...  0.00406643  0.00433708\n",
      "  0.00464417], sr=22050 as keyword args. From version 0.10 passing these as positional arguments will result in an error\n",
      "  mfcc = librosa.feature.mfcc(signal[start:finish], sample_rate, n_mfcc=num_mfcc, n_fft=n_fft, hop_length=hop_length)\n",
      "C:\\Users\\danie\\OneDrive - Universidad Tecnológica de Bolívar\\U\\6to Semestre\\Inteligencia Artificial\\Proyecto\\Extract_Data.py:61: FutureWarning: Pass y=[ 0.0048442   0.00451328  0.00421918 ... -0.00939638 -0.01005569\n",
      " -0.00894076], sr=22050 as keyword args. From version 0.10 passing these as positional arguments will result in an error\n",
      "  mfcc = librosa.feature.mfcc(signal[start:finish], sample_rate, n_mfcc=num_mfcc, n_fft=n_fft, hop_length=hop_length)\n",
      "C:\\Users\\danie\\OneDrive - Universidad Tecnológica de Bolívar\\U\\6to Semestre\\Inteligencia Artificial\\Proyecto\\Extract_Data.py:61: FutureWarning: Pass y=[-0.00928325 -0.01047976 -0.0107282  ...  0.00182706  0.00205097\n",
      "  0.00240416], sr=22050 as keyword args. From version 0.10 passing these as positional arguments will result in an error\n",
      "  mfcc = librosa.feature.mfcc(signal[start:finish], sample_rate, n_mfcc=num_mfcc, n_fft=n_fft, hop_length=hop_length)\n"
     ]
    },
    {
     "name": "stdout",
     "output_type": "stream",
     "text": [
      "Audios/Familia Carrillo\\Carrillo 2.wav, segment:1\n",
      "Audios/Familia Carrillo\\Carrillo 2.wav, segment:2\n",
      "Audios/Familia Carrillo\\Carrillo 2.wav, segment:3\n",
      "Audios/Familia Carrillo\\Carrillo 2.wav, segment:4\n",
      "Audios/Familia Carrillo\\Carrillo 2.wav, segment:5\n",
      "Audios/Familia Carrillo\\Carrillo 2.wav, segment:6\n",
      "Audios/Familia Carrillo\\Carrillo 2.wav, segment:7\n"
     ]
    },
    {
     "name": "stderr",
     "output_type": "stream",
     "text": [
      "C:\\Users\\danie\\OneDrive - Universidad Tecnológica de Bolívar\\U\\6to Semestre\\Inteligencia Artificial\\Proyecto\\Extract_Data.py:61: FutureWarning: Pass y=[0.         0.         0.         ... 0.01360181 0.01326487 0.01291587], sr=22050 as keyword args. From version 0.10 passing these as positional arguments will result in an error\n",
      "  mfcc = librosa.feature.mfcc(signal[start:finish], sample_rate, n_mfcc=num_mfcc, n_fft=n_fft, hop_length=hop_length)\n",
      "C:\\Users\\danie\\OneDrive - Universidad Tecnológica de Bolívar\\U\\6to Semestre\\Inteligencia Artificial\\Proyecto\\Extract_Data.py:61: FutureWarning: Pass y=[ 0.01191356  0.01102341  0.00879976 ... -0.21190055 -0.15619686\n",
      " -0.03224767], sr=22050 as keyword args. From version 0.10 passing these as positional arguments will result in an error\n",
      "  mfcc = librosa.feature.mfcc(signal[start:finish], sample_rate, n_mfcc=num_mfcc, n_fft=n_fft, hop_length=hop_length)\n",
      "C:\\Users\\danie\\OneDrive - Universidad Tecnológica de Bolívar\\U\\6to Semestre\\Inteligencia Artificial\\Proyecto\\Extract_Data.py:61: FutureWarning: Pass y=[-0.03218705 -0.11666568 -0.19606273 ... -0.12816311 -0.12664607\n",
      " -0.13431707], sr=22050 as keyword args. From version 0.10 passing these as positional arguments will result in an error\n",
      "  mfcc = librosa.feature.mfcc(signal[start:finish], sample_rate, n_mfcc=num_mfcc, n_fft=n_fft, hop_length=hop_length)\n",
      "C:\\Users\\danie\\OneDrive - Universidad Tecnológica de Bolívar\\U\\6to Semestre\\Inteligencia Artificial\\Proyecto\\Extract_Data.py:61: FutureWarning: Pass y=[-0.15066627 -0.14379995 -0.13106775 ...  0.02038066  0.01575397\n",
      "  0.01101048], sr=22050 as keyword args. From version 0.10 passing these as positional arguments will result in an error\n",
      "  mfcc = librosa.feature.mfcc(signal[start:finish], sample_rate, n_mfcc=num_mfcc, n_fft=n_fft, hop_length=hop_length)\n",
      "C:\\Users\\danie\\OneDrive - Universidad Tecnológica de Bolívar\\U\\6to Semestre\\Inteligencia Artificial\\Proyecto\\Extract_Data.py:61: FutureWarning: Pass y=[0.01435218 0.01566124 0.01518248 ... 0.05484166 0.06365088 0.07421573], sr=22050 as keyword args. From version 0.10 passing these as positional arguments will result in an error\n",
      "  mfcc = librosa.feature.mfcc(signal[start:finish], sample_rate, n_mfcc=num_mfcc, n_fft=n_fft, hop_length=hop_length)\n",
      "C:\\Users\\danie\\OneDrive - Universidad Tecnológica de Bolívar\\U\\6to Semestre\\Inteligencia Artificial\\Proyecto\\Extract_Data.py:61: FutureWarning: Pass y=[ 0.08541868  0.09567061  0.10072368 ... -0.08500181 -0.0958117\n",
      " -0.10972091], sr=22050 as keyword args. From version 0.10 passing these as positional arguments will result in an error\n",
      "  mfcc = librosa.feature.mfcc(signal[start:finish], sample_rate, n_mfcc=num_mfcc, n_fft=n_fft, hop_length=hop_length)\n",
      "C:\\Users\\danie\\OneDrive - Universidad Tecnológica de Bolívar\\U\\6to Semestre\\Inteligencia Artificial\\Proyecto\\Extract_Data.py:61: FutureWarning: Pass y=[-0.13389798 -0.15407577 -0.16788672 ... -0.00266117 -0.00393168\n",
      " -0.00152255], sr=22050 as keyword args. From version 0.10 passing these as positional arguments will result in an error\n",
      "  mfcc = librosa.feature.mfcc(signal[start:finish], sample_rate, n_mfcc=num_mfcc, n_fft=n_fft, hop_length=hop_length)\n"
     ]
    },
    {
     "name": "stdout",
     "output_type": "stream",
     "text": [
      "Audios/Familia Carrillo\\Carrillo 3.wav, segment:1\n",
      "Audios/Familia Carrillo\\Carrillo 3.wav, segment:2\n",
      "Audios/Familia Carrillo\\Carrillo 3.wav, segment:3\n",
      "Audios/Familia Carrillo\\Carrillo 3.wav, segment:4\n",
      "Audios/Familia Carrillo\\Carrillo 3.wav, segment:5\n",
      "Audios/Familia Carrillo\\Carrillo 3.wav, segment:6\n",
      "Audios/Familia Carrillo\\Carrillo 3.wav, segment:7\n",
      "\n",
      "Processing: Familia Florez\n"
     ]
    },
    {
     "name": "stderr",
     "output_type": "stream",
     "text": [
      "C:\\Users\\danie\\OneDrive - Universidad Tecnológica de Bolívar\\U\\6to Semestre\\Inteligencia Artificial\\Proyecto\\Extract_Data.py:61: FutureWarning: Pass y=[0.         0.         0.         ... 0.18519567 0.17531058 0.1549309 ], sr=22050 as keyword args. From version 0.10 passing these as positional arguments will result in an error\n",
      "  mfcc = librosa.feature.mfcc(signal[start:finish], sample_rate, n_mfcc=num_mfcc, n_fft=n_fft, hop_length=hop_length)\n",
      "C:\\Users\\danie\\OneDrive - Universidad Tecnológica de Bolívar\\U\\6to Semestre\\Inteligencia Artificial\\Proyecto\\Extract_Data.py:61: FutureWarning: Pass y=[ 0.14017819  0.12718937  0.11512248 ... -0.00136948  0.00383613\n",
      " -0.01027016], sr=22050 as keyword args. From version 0.10 passing these as positional arguments will result in an error\n",
      "  mfcc = librosa.feature.mfcc(signal[start:finish], sample_rate, n_mfcc=num_mfcc, n_fft=n_fft, hop_length=hop_length)\n",
      "C:\\Users\\danie\\OneDrive - Universidad Tecnológica de Bolívar\\U\\6to Semestre\\Inteligencia Artificial\\Proyecto\\Extract_Data.py:61: FutureWarning: Pass y=[-0.00820129  0.00352942 -0.02237755 ... -0.2804009  -0.2209653\n",
      " -0.21605738], sr=22050 as keyword args. From version 0.10 passing these as positional arguments will result in an error\n",
      "  mfcc = librosa.feature.mfcc(signal[start:finish], sample_rate, n_mfcc=num_mfcc, n_fft=n_fft, hop_length=hop_length)\n",
      "C:\\Users\\danie\\OneDrive - Universidad Tecnológica de Bolívar\\U\\6to Semestre\\Inteligencia Artificial\\Proyecto\\Extract_Data.py:61: FutureWarning: Pass y=[-0.24878033 -0.26304337 -0.25589645 ... -0.00486951 -0.00342352\n",
      " -0.00354119], sr=22050 as keyword args. From version 0.10 passing these as positional arguments will result in an error\n",
      "  mfcc = librosa.feature.mfcc(signal[start:finish], sample_rate, n_mfcc=num_mfcc, n_fft=n_fft, hop_length=hop_length)\n",
      "C:\\Users\\danie\\OneDrive - Universidad Tecnológica de Bolívar\\U\\6to Semestre\\Inteligencia Artificial\\Proyecto\\Extract_Data.py:61: FutureWarning: Pass y=[-0.004418   -0.00547286 -0.00591924 ...  0.09233179  0.07927056\n",
      "  0.08472336], sr=22050 as keyword args. From version 0.10 passing these as positional arguments will result in an error\n",
      "  mfcc = librosa.feature.mfcc(signal[start:finish], sample_rate, n_mfcc=num_mfcc, n_fft=n_fft, hop_length=hop_length)\n",
      "C:\\Users\\danie\\OneDrive - Universidad Tecnológica de Bolívar\\U\\6to Semestre\\Inteligencia Artificial\\Proyecto\\Extract_Data.py:61: FutureWarning: Pass y=[ 0.07828356  0.04709364  0.00217218 ... -0.01016179 -0.01252071\n",
      " -0.01149257], sr=22050 as keyword args. From version 0.10 passing these as positional arguments will result in an error\n",
      "  mfcc = librosa.feature.mfcc(signal[start:finish], sample_rate, n_mfcc=num_mfcc, n_fft=n_fft, hop_length=hop_length)\n",
      "C:\\Users\\danie\\OneDrive - Universidad Tecnológica de Bolívar\\U\\6to Semestre\\Inteligencia Artificial\\Proyecto\\Extract_Data.py:61: FutureWarning: Pass y=[-0.00663709 -0.00418952 -0.00202888 ... -0.04668491 -0.05898464\n",
      " -0.06054668], sr=22050 as keyword args. From version 0.10 passing these as positional arguments will result in an error\n",
      "  mfcc = librosa.feature.mfcc(signal[start:finish], sample_rate, n_mfcc=num_mfcc, n_fft=n_fft, hop_length=hop_length)\n"
     ]
    },
    {
     "name": "stdout",
     "output_type": "stream",
     "text": [
      "Audios/Familia Florez\\Florez 1.wav, segment:1\n",
      "Audios/Familia Florez\\Florez 1.wav, segment:2\n",
      "Audios/Familia Florez\\Florez 1.wav, segment:3\n",
      "Audios/Familia Florez\\Florez 1.wav, segment:4\n",
      "Audios/Familia Florez\\Florez 1.wav, segment:5\n",
      "Audios/Familia Florez\\Florez 1.wav, segment:6\n",
      "Audios/Familia Florez\\Florez 1.wav, segment:7\n"
     ]
    },
    {
     "name": "stderr",
     "output_type": "stream",
     "text": [
      "C:\\Users\\danie\\OneDrive - Universidad Tecnológica de Bolívar\\U\\6to Semestre\\Inteligencia Artificial\\Proyecto\\Extract_Data.py:61: FutureWarning: Pass y=[0.         0.         0.         ... 0.06919353 0.06758408 0.06525448], sr=22050 as keyword args. From version 0.10 passing these as positional arguments will result in an error\n",
      "  mfcc = librosa.feature.mfcc(signal[start:finish], sample_rate, n_mfcc=num_mfcc, n_fft=n_fft, hop_length=hop_length)\n",
      "C:\\Users\\danie\\OneDrive - Universidad Tecnológica de Bolívar\\U\\6to Semestre\\Inteligencia Artificial\\Proyecto\\Extract_Data.py:61: FutureWarning: Pass y=[0.06355861 0.06111829 0.05855125 ... 0.01599004 0.01788613 0.02010618], sr=22050 as keyword args. From version 0.10 passing these as positional arguments will result in an error\n",
      "  mfcc = librosa.feature.mfcc(signal[start:finish], sample_rate, n_mfcc=num_mfcc, n_fft=n_fft, hop_length=hop_length)\n",
      "C:\\Users\\danie\\OneDrive - Universidad Tecnológica de Bolívar\\U\\6to Semestre\\Inteligencia Artificial\\Proyecto\\Extract_Data.py:61: FutureWarning: Pass y=[ 0.02077723  0.0205326   0.02011735 ...  0.03708784  0.00207774\n",
      " -0.03381505], sr=22050 as keyword args. From version 0.10 passing these as positional arguments will result in an error\n",
      "  mfcc = librosa.feature.mfcc(signal[start:finish], sample_rate, n_mfcc=num_mfcc, n_fft=n_fft, hop_length=hop_length)\n",
      "C:\\Users\\danie\\OneDrive - Universidad Tecnológica de Bolívar\\U\\6to Semestre\\Inteligencia Artificial\\Proyecto\\Extract_Data.py:61: FutureWarning: Pass y=[-0.06324555 -0.07442264 -0.07019942 ...  0.05104268  0.04726299\n",
      "  0.04101006], sr=22050 as keyword args. From version 0.10 passing these as positional arguments will result in an error\n",
      "  mfcc = librosa.feature.mfcc(signal[start:finish], sample_rate, n_mfcc=num_mfcc, n_fft=n_fft, hop_length=hop_length)\n",
      "C:\\Users\\danie\\OneDrive - Universidad Tecnológica de Bolívar\\U\\6to Semestre\\Inteligencia Artificial\\Proyecto\\Extract_Data.py:61: FutureWarning: Pass y=[ 0.02649745  0.01245394  0.01894513 ... -0.08140689 -0.1312811\n",
      " -0.19719563], sr=22050 as keyword args. From version 0.10 passing these as positional arguments will result in an error\n",
      "  mfcc = librosa.feature.mfcc(signal[start:finish], sample_rate, n_mfcc=num_mfcc, n_fft=n_fft, hop_length=hop_length)\n",
      "C:\\Users\\danie\\OneDrive - Universidad Tecnológica de Bolívar\\U\\6to Semestre\\Inteligencia Artificial\\Proyecto\\Extract_Data.py:61: FutureWarning: Pass y=[-0.26039016 -0.30621725 -0.31960234 ...  0.03813976 -0.07742678\n",
      " -0.00659211], sr=22050 as keyword args. From version 0.10 passing these as positional arguments will result in an error\n",
      "  mfcc = librosa.feature.mfcc(signal[start:finish], sample_rate, n_mfcc=num_mfcc, n_fft=n_fft, hop_length=hop_length)\n",
      "C:\\Users\\danie\\OneDrive - Universidad Tecnológica de Bolívar\\U\\6to Semestre\\Inteligencia Artificial\\Proyecto\\Extract_Data.py:61: FutureWarning: Pass y=[ 0.02966452 -0.04368857  0.08953231 ...  0.00021731  0.00020947\n",
      "  0.00020235], sr=22050 as keyword args. From version 0.10 passing these as positional arguments will result in an error\n",
      "  mfcc = librosa.feature.mfcc(signal[start:finish], sample_rate, n_mfcc=num_mfcc, n_fft=n_fft, hop_length=hop_length)\n"
     ]
    },
    {
     "name": "stdout",
     "output_type": "stream",
     "text": [
      "Audios/Familia Florez\\Florez 2.wav, segment:1\n",
      "Audios/Familia Florez\\Florez 2.wav, segment:2\n",
      "Audios/Familia Florez\\Florez 2.wav, segment:3\n",
      "Audios/Familia Florez\\Florez 2.wav, segment:4\n",
      "Audios/Familia Florez\\Florez 2.wav, segment:5\n",
      "Audios/Familia Florez\\Florez 2.wav, segment:6\n"
     ]
    },
    {
     "name": "stderr",
     "output_type": "stream",
     "text": [
      "C:\\Users\\danie\\OneDrive - Universidad Tecnológica de Bolívar\\U\\6to Semestre\\Inteligencia Artificial\\Proyecto\\Extract_Data.py:61: FutureWarning: Pass y=[ 2.4911596e-05  2.4885667e-05 -2.9839059e-06 ...  1.5593681e-02\n",
      "  2.3188025e-02  3.0610658e-02], sr=22050 as keyword args. From version 0.10 passing these as positional arguments will result in an error\n",
      "  mfcc = librosa.feature.mfcc(signal[start:finish], sample_rate, n_mfcc=num_mfcc, n_fft=n_fft, hop_length=hop_length)\n",
      "C:\\Users\\danie\\OneDrive - Universidad Tecnológica de Bolívar\\U\\6to Semestre\\Inteligencia Artificial\\Proyecto\\Extract_Data.py:61: FutureWarning: Pass y=[ 0.03301991  0.02653264  0.01430989 ... -0.02707568  0.02652745\n",
      "  0.02614655], sr=22050 as keyword args. From version 0.10 passing these as positional arguments will result in an error\n",
      "  mfcc = librosa.feature.mfcc(signal[start:finish], sample_rate, n_mfcc=num_mfcc, n_fft=n_fft, hop_length=hop_length)\n",
      "C:\\Users\\danie\\OneDrive - Universidad Tecnológica de Bolívar\\U\\6to Semestre\\Inteligencia Artificial\\Proyecto\\Extract_Data.py:61: FutureWarning: Pass y=[-0.0583123  -0.00852904  0.03799718 ... -0.05753433 -0.04539107\n",
      " -0.03198076], sr=22050 as keyword args. From version 0.10 passing these as positional arguments will result in an error\n",
      "  mfcc = librosa.feature.mfcc(signal[start:finish], sample_rate, n_mfcc=num_mfcc, n_fft=n_fft, hop_length=hop_length)\n",
      "C:\\Users\\danie\\OneDrive - Universidad Tecnológica de Bolívar\\U\\6to Semestre\\Inteligencia Artificial\\Proyecto\\Extract_Data.py:61: FutureWarning: Pass y=[-0.0190403  -0.00210809  0.01803737 ...  0.0045434   0.00672425\n",
      "  0.00399599], sr=22050 as keyword args. From version 0.10 passing these as positional arguments will result in an error\n",
      "  mfcc = librosa.feature.mfcc(signal[start:finish], sample_rate, n_mfcc=num_mfcc, n_fft=n_fft, hop_length=hop_length)\n",
      "C:\\Users\\danie\\OneDrive - Universidad Tecnológica de Bolívar\\U\\6to Semestre\\Inteligencia Artificial\\Proyecto\\Extract_Data.py:61: FutureWarning: Pass y=[ 0.00405163  0.00885709  0.00836177 ... -0.00720778 -0.0074737\n",
      " -0.0111967 ], sr=22050 as keyword args. From version 0.10 passing these as positional arguments will result in an error\n",
      "  mfcc = librosa.feature.mfcc(signal[start:finish], sample_rate, n_mfcc=num_mfcc, n_fft=n_fft, hop_length=hop_length)\n",
      "C:\\Users\\danie\\OneDrive - Universidad Tecnológica de Bolívar\\U\\6to Semestre\\Inteligencia Artificial\\Proyecto\\Extract_Data.py:61: FutureWarning: Pass y=[-0.01368564 -0.01435573 -0.01300056 ...  0.00798748  0.01663076\n",
      "  0.01711148], sr=22050 as keyword args. From version 0.10 passing these as positional arguments will result in an error\n",
      "  mfcc = librosa.feature.mfcc(signal[start:finish], sample_rate, n_mfcc=num_mfcc, n_fft=n_fft, hop_length=hop_length)\n",
      "C:\\Users\\danie\\OneDrive - Universidad Tecnológica de Bolívar\\U\\6to Semestre\\Inteligencia Artificial\\Proyecto\\Extract_Data.py:61: FutureWarning: Pass y=[0.01336614 0.01220958 0.00985745 ... 0.01123317 0.02063858 0.03096703], sr=22050 as keyword args. From version 0.10 passing these as positional arguments will result in an error\n",
      "  mfcc = librosa.feature.mfcc(signal[start:finish], sample_rate, n_mfcc=num_mfcc, n_fft=n_fft, hop_length=hop_length)\n"
     ]
    },
    {
     "name": "stdout",
     "output_type": "stream",
     "text": [
      "Audios/Familia Florez\\Florez 3.wav, segment:1\n",
      "Audios/Familia Florez\\Florez 3.wav, segment:2\n",
      "Audios/Familia Florez\\Florez 3.wav, segment:3\n",
      "Audios/Familia Florez\\Florez 3.wav, segment:4\n",
      "Audios/Familia Florez\\Florez 3.wav, segment:5\n",
      "Audios/Familia Florez\\Florez 3.wav, segment:6\n",
      "Audios/Familia Florez\\Florez 3.wav, segment:7\n"
     ]
    },
    {
     "name": "stderr",
     "output_type": "stream",
     "text": [
      "C:\\Users\\danie\\OneDrive - Universidad Tecnológica de Bolívar\\U\\6to Semestre\\Inteligencia Artificial\\Proyecto\\Extract_Data.py:61: FutureWarning: Pass y=[ 1.3409036e-07 -1.7778392e-07  2.2402892e-07 ...  2.2647986e-02\n",
      "  3.3087350e-02  3.5644352e-02], sr=22050 as keyword args. From version 0.10 passing these as positional arguments will result in an error\n",
      "  mfcc = librosa.feature.mfcc(signal[start:finish], sample_rate, n_mfcc=num_mfcc, n_fft=n_fft, hop_length=hop_length)\n",
      "C:\\Users\\danie\\OneDrive - Universidad Tecnológica de Bolívar\\U\\6to Semestre\\Inteligencia Artificial\\Proyecto\\Extract_Data.py:61: FutureWarning: Pass y=[0.03020527 0.02300667 0.02161798 ... 0.01102824 0.00667046 0.00359845], sr=22050 as keyword args. From version 0.10 passing these as positional arguments will result in an error\n",
      "  mfcc = librosa.feature.mfcc(signal[start:finish], sample_rate, n_mfcc=num_mfcc, n_fft=n_fft, hop_length=hop_length)\n",
      "C:\\Users\\danie\\OneDrive - Universidad Tecnológica de Bolívar\\U\\6to Semestre\\Inteligencia Artificial\\Proyecto\\Extract_Data.py:61: FutureWarning: Pass y=[ 1.2456690e-03 -1.6730215e-03 -4.6822322e-03 ...  4.4729528e-03\n",
      "  2.8088999e-03  2.5296478e-05], sr=22050 as keyword args. From version 0.10 passing these as positional arguments will result in an error\n",
      "  mfcc = librosa.feature.mfcc(signal[start:finish], sample_rate, n_mfcc=num_mfcc, n_fft=n_fft, hop_length=hop_length)\n",
      "C:\\Users\\danie\\OneDrive - Universidad Tecnológica de Bolívar\\U\\6to Semestre\\Inteligencia Artificial\\Proyecto\\Extract_Data.py:61: FutureWarning: Pass y=[-0.00233845 -0.00279303 -0.00214657 ... -0.01367802 -0.00898045\n",
      " -0.00215811], sr=22050 as keyword args. From version 0.10 passing these as positional arguments will result in an error\n",
      "  mfcc = librosa.feature.mfcc(signal[start:finish], sample_rate, n_mfcc=num_mfcc, n_fft=n_fft, hop_length=hop_length)\n",
      "C:\\Users\\danie\\OneDrive - Universidad Tecnológica de Bolívar\\U\\6to Semestre\\Inteligencia Artificial\\Proyecto\\Extract_Data.py:61: FutureWarning: Pass y=[ 0.00548563  0.01173094  0.01553983 ... -0.04460117 -0.05238273\n",
      " -0.0503012 ], sr=22050 as keyword args. From version 0.10 passing these as positional arguments will result in an error\n",
      "  mfcc = librosa.feature.mfcc(signal[start:finish], sample_rate, n_mfcc=num_mfcc, n_fft=n_fft, hop_length=hop_length)\n",
      "C:\\Users\\danie\\OneDrive - Universidad Tecnológica de Bolívar\\U\\6to Semestre\\Inteligencia Artificial\\Proyecto\\Extract_Data.py:61: FutureWarning: Pass y=[-0.04009946 -0.03155863 -0.02890003 ... -0.00100885 -0.00108024\n",
      " -0.00205784], sr=22050 as keyword args. From version 0.10 passing these as positional arguments will result in an error\n",
      "  mfcc = librosa.feature.mfcc(signal[start:finish], sample_rate, n_mfcc=num_mfcc, n_fft=n_fft, hop_length=hop_length)\n",
      "C:\\Users\\danie\\OneDrive - Universidad Tecnológica de Bolívar\\U\\6to Semestre\\Inteligencia Artificial\\Proyecto\\Extract_Data.py:61: FutureWarning: Pass y=[-0.00245636 -0.00101453  0.00062272 ...  0.01728664 -0.01824776\n",
      "  0.0047438 ], sr=22050 as keyword args. From version 0.10 passing these as positional arguments will result in an error\n",
      "  mfcc = librosa.feature.mfcc(signal[start:finish], sample_rate, n_mfcc=num_mfcc, n_fft=n_fft, hop_length=hop_length)\n"
     ]
    },
    {
     "name": "stdout",
     "output_type": "stream",
     "text": [
      "Audios/Familia Florez\\Florez 4.wav, segment:1\n",
      "Audios/Familia Florez\\Florez 4.wav, segment:2\n",
      "Audios/Familia Florez\\Florez 4.wav, segment:3\n",
      "Audios/Familia Florez\\Florez 4.wav, segment:4\n",
      "Audios/Familia Florez\\Florez 4.wav, segment:5\n",
      "Audios/Familia Florez\\Florez 4.wav, segment:6\n",
      "Audios/Familia Florez\\Florez 4.wav, segment:7\n",
      "\n",
      "Processing: Familia Gamarra\n"
     ]
    },
    {
     "name": "stderr",
     "output_type": "stream",
     "text": [
      "C:\\Users\\danie\\OneDrive - Universidad Tecnológica de Bolívar\\U\\6to Semestre\\Inteligencia Artificial\\Proyecto\\Extract_Data.py:61: FutureWarning: Pass y=[0.         0.         0.         ... 0.01941643 0.01577836 0.01461357], sr=22050 as keyword args. From version 0.10 passing these as positional arguments will result in an error\n",
      "  mfcc = librosa.feature.mfcc(signal[start:finish], sample_rate, n_mfcc=num_mfcc, n_fft=n_fft, hop_length=hop_length)\n",
      "C:\\Users\\danie\\OneDrive - Universidad Tecnológica de Bolívar\\U\\6to Semestre\\Inteligencia Artificial\\Proyecto\\Extract_Data.py:61: FutureWarning: Pass y=[0.01518985 0.01248033 0.01217723 ... 0.02013142 0.02655468 0.02635593], sr=22050 as keyword args. From version 0.10 passing these as positional arguments will result in an error\n",
      "  mfcc = librosa.feature.mfcc(signal[start:finish], sample_rate, n_mfcc=num_mfcc, n_fft=n_fft, hop_length=hop_length)\n",
      "C:\\Users\\danie\\OneDrive - Universidad Tecnológica de Bolívar\\U\\6to Semestre\\Inteligencia Artificial\\Proyecto\\Extract_Data.py:61: FutureWarning: Pass y=[0.03259244 0.02876261 0.02931918 ... 0.03501133 0.03794186 0.03503199], sr=22050 as keyword args. From version 0.10 passing these as positional arguments will result in an error\n",
      "  mfcc = librosa.feature.mfcc(signal[start:finish], sample_rate, n_mfcc=num_mfcc, n_fft=n_fft, hop_length=hop_length)\n",
      "C:\\Users\\danie\\OneDrive - Universidad Tecnológica de Bolívar\\U\\6to Semestre\\Inteligencia Artificial\\Proyecto\\Extract_Data.py:61: FutureWarning: Pass y=[0.04072315 0.04696258 0.04926232 ... 0.01013202 0.01050386 0.01045681], sr=22050 as keyword args. From version 0.10 passing these as positional arguments will result in an error\n",
      "  mfcc = librosa.feature.mfcc(signal[start:finish], sample_rate, n_mfcc=num_mfcc, n_fft=n_fft, hop_length=hop_length)\n",
      "C:\\Users\\danie\\OneDrive - Universidad Tecnológica de Bolívar\\U\\6to Semestre\\Inteligencia Artificial\\Proyecto\\Extract_Data.py:61: FutureWarning: Pass y=[ 0.00831622  0.01106237  0.00939033 ... -0.03064646 -0.03407404\n",
      " -0.03560957], sr=22050 as keyword args. From version 0.10 passing these as positional arguments will result in an error\n",
      "  mfcc = librosa.feature.mfcc(signal[start:finish], sample_rate, n_mfcc=num_mfcc, n_fft=n_fft, hop_length=hop_length)\n",
      "C:\\Users\\danie\\OneDrive - Universidad Tecnológica de Bolívar\\U\\6to Semestre\\Inteligencia Artificial\\Proyecto\\Extract_Data.py:61: FutureWarning: Pass y=[-0.03183277 -0.02828727 -0.0258499  ...  0.01074872  0.01188476\n",
      "  0.01361995], sr=22050 as keyword args. From version 0.10 passing these as positional arguments will result in an error\n",
      "  mfcc = librosa.feature.mfcc(signal[start:finish], sample_rate, n_mfcc=num_mfcc, n_fft=n_fft, hop_length=hop_length)\n"
     ]
    },
    {
     "name": "stdout",
     "output_type": "stream",
     "text": [
      "Audios/Familia Gamarra\\Gamarra 1.wav, segment:1\n",
      "Audios/Familia Gamarra\\Gamarra 1.wav, segment:2\n",
      "Audios/Familia Gamarra\\Gamarra 1.wav, segment:3\n",
      "Audios/Familia Gamarra\\Gamarra 1.wav, segment:4\n",
      "Audios/Familia Gamarra\\Gamarra 1.wav, segment:5\n"
     ]
    },
    {
     "name": "stderr",
     "output_type": "stream",
     "text": [
      "C:\\Users\\danie\\OneDrive - Universidad Tecnológica de Bolívar\\U\\6to Semestre\\Inteligencia Artificial\\Proyecto\\Extract_Data.py:61: FutureWarning: Pass y=[0.         0.         0.         ... 0.03575023 0.03212194 0.02444715], sr=22050 as keyword args. From version 0.10 passing these as positional arguments will result in an error\n",
      "  mfcc = librosa.feature.mfcc(signal[start:finish], sample_rate, n_mfcc=num_mfcc, n_fft=n_fft, hop_length=hop_length)\n",
      "C:\\Users\\danie\\OneDrive - Universidad Tecnológica de Bolívar\\U\\6to Semestre\\Inteligencia Artificial\\Proyecto\\Extract_Data.py:61: FutureWarning: Pass y=[ 0.02845978  0.02821283  0.02680737 ... -0.00618275 -0.00731525\n",
      " -0.00844639], sr=22050 as keyword args. From version 0.10 passing these as positional arguments will result in an error\n",
      "  mfcc = librosa.feature.mfcc(signal[start:finish], sample_rate, n_mfcc=num_mfcc, n_fft=n_fft, hop_length=hop_length)\n",
      "C:\\Users\\danie\\OneDrive - Universidad Tecnológica de Bolívar\\U\\6to Semestre\\Inteligencia Artificial\\Proyecto\\Extract_Data.py:61: FutureWarning: Pass y=[-0.00851    -0.01003746 -0.01064653 ...  0.01027715  0.00923015\n",
      "  0.00978049], sr=22050 as keyword args. From version 0.10 passing these as positional arguments will result in an error\n",
      "  mfcc = librosa.feature.mfcc(signal[start:finish], sample_rate, n_mfcc=num_mfcc, n_fft=n_fft, hop_length=hop_length)\n",
      "C:\\Users\\danie\\OneDrive - Universidad Tecnológica de Bolívar\\U\\6to Semestre\\Inteligencia Artificial\\Proyecto\\Extract_Data.py:61: FutureWarning: Pass y=[ 0.00812832  0.00880275  0.00869576 ... -0.00964352 -0.0086252\n",
      " -0.00683163], sr=22050 as keyword args. From version 0.10 passing these as positional arguments will result in an error\n",
      "  mfcc = librosa.feature.mfcc(signal[start:finish], sample_rate, n_mfcc=num_mfcc, n_fft=n_fft, hop_length=hop_length)\n",
      "C:\\Users\\danie\\OneDrive - Universidad Tecnológica de Bolívar\\U\\6to Semestre\\Inteligencia Artificial\\Proyecto\\Extract_Data.py:61: FutureWarning: Pass y=[-0.00703457 -0.0060472  -0.00489697 ...  0.00095629  0.00108602\n",
      " -0.00167233], sr=22050 as keyword args. From version 0.10 passing these as positional arguments will result in an error\n",
      "  mfcc = librosa.feature.mfcc(signal[start:finish], sample_rate, n_mfcc=num_mfcc, n_fft=n_fft, hop_length=hop_length)\n",
      "C:\\Users\\danie\\OneDrive - Universidad Tecnológica de Bolívar\\U\\6to Semestre\\Inteligencia Artificial\\Proyecto\\Extract_Data.py:61: FutureWarning: Pass y=[-0.00225522 -0.00514891 -0.01093873 ...  0.12640858  0.13377278\n",
      "  0.1378014 ], sr=22050 as keyword args. From version 0.10 passing these as positional arguments will result in an error\n",
      "  mfcc = librosa.feature.mfcc(signal[start:finish], sample_rate, n_mfcc=num_mfcc, n_fft=n_fft, hop_length=hop_length)\n",
      "C:\\Users\\danie\\OneDrive - Universidad Tecnológica de Bolívar\\U\\6to Semestre\\Inteligencia Artificial\\Proyecto\\Extract_Data.py:61: FutureWarning: Pass y=[0.14007477 0.138055   0.13459294 ... 0.00096006 0.00143267 0.00112146], sr=22050 as keyword args. From version 0.10 passing these as positional arguments will result in an error\n",
      "  mfcc = librosa.feature.mfcc(signal[start:finish], sample_rate, n_mfcc=num_mfcc, n_fft=n_fft, hop_length=hop_length)\n"
     ]
    },
    {
     "name": "stdout",
     "output_type": "stream",
     "text": [
      "Audios/Familia Gamarra\\Gamarra 2.wav, segment:1\n",
      "Audios/Familia Gamarra\\Gamarra 2.wav, segment:2\n",
      "Audios/Familia Gamarra\\Gamarra 2.wav, segment:3\n",
      "Audios/Familia Gamarra\\Gamarra 2.wav, segment:4\n",
      "Audios/Familia Gamarra\\Gamarra 2.wav, segment:5\n",
      "Audios/Familia Gamarra\\Gamarra 2.wav, segment:6\n",
      "Audios/Familia Gamarra\\Gamarra 2.wav, segment:7\n"
     ]
    },
    {
     "name": "stderr",
     "output_type": "stream",
     "text": [
      "C:\\Users\\danie\\OneDrive - Universidad Tecnológica de Bolívar\\U\\6to Semestre\\Inteligencia Artificial\\Proyecto\\Extract_Data.py:61: FutureWarning: Pass y=[ 0.          0.          0.         ... -0.0061565  -0.00369776\n",
      " -0.00224369], sr=22050 as keyword args. From version 0.10 passing these as positional arguments will result in an error\n",
      "  mfcc = librosa.feature.mfcc(signal[start:finish], sample_rate, n_mfcc=num_mfcc, n_fft=n_fft, hop_length=hop_length)\n",
      "C:\\Users\\danie\\OneDrive - Universidad Tecnológica de Bolívar\\U\\6to Semestre\\Inteligencia Artificial\\Proyecto\\Extract_Data.py:61: FutureWarning: Pass y=[-0.00144858  0.00331279  0.00414774 ...  0.04516035  0.03318819\n",
      "  0.01895163], sr=22050 as keyword args. From version 0.10 passing these as positional arguments will result in an error\n",
      "  mfcc = librosa.feature.mfcc(signal[start:finish], sample_rate, n_mfcc=num_mfcc, n_fft=n_fft, hop_length=hop_length)\n",
      "C:\\Users\\danie\\OneDrive - Universidad Tecnológica de Bolívar\\U\\6to Semestre\\Inteligencia Artificial\\Proyecto\\Extract_Data.py:61: FutureWarning: Pass y=[ 0.03121027  0.01280202  0.03303726 ... -0.07290267 -0.08325049\n",
      " -0.02083508], sr=22050 as keyword args. From version 0.10 passing these as positional arguments will result in an error\n",
      "  mfcc = librosa.feature.mfcc(signal[start:finish], sample_rate, n_mfcc=num_mfcc, n_fft=n_fft, hop_length=hop_length)\n",
      "C:\\Users\\danie\\OneDrive - Universidad Tecnológica de Bolívar\\U\\6to Semestre\\Inteligencia Artificial\\Proyecto\\Extract_Data.py:61: FutureWarning: Pass y=[-0.0517062  -0.03124086 -0.00334607 ... -0.00709574 -0.00941787\n",
      " -0.00843845], sr=22050 as keyword args. From version 0.10 passing these as positional arguments will result in an error\n",
      "  mfcc = librosa.feature.mfcc(signal[start:finish], sample_rate, n_mfcc=num_mfcc, n_fft=n_fft, hop_length=hop_length)\n",
      "C:\\Users\\danie\\OneDrive - Universidad Tecnológica de Bolívar\\U\\6to Semestre\\Inteligencia Artificial\\Proyecto\\Extract_Data.py:61: FutureWarning: Pass y=[-0.00731    -0.01073142 -0.0080638  ... -0.06003258 -0.05686362\n",
      " -0.04434281], sr=22050 as keyword args. From version 0.10 passing these as positional arguments will result in an error\n",
      "  mfcc = librosa.feature.mfcc(signal[start:finish], sample_rate, n_mfcc=num_mfcc, n_fft=n_fft, hop_length=hop_length)\n",
      "C:\\Users\\danie\\OneDrive - Universidad Tecnológica de Bolívar\\U\\6to Semestre\\Inteligencia Artificial\\Proyecto\\Extract_Data.py:61: FutureWarning: Pass y=[-0.04261484 -0.03330455 -0.01962841 ... -0.01614584 -0.01249645\n",
      " -0.00996815], sr=22050 as keyword args. From version 0.10 passing these as positional arguments will result in an error\n",
      "  mfcc = librosa.feature.mfcc(signal[start:finish], sample_rate, n_mfcc=num_mfcc, n_fft=n_fft, hop_length=hop_length)\n",
      "C:\\Users\\danie\\OneDrive - Universidad Tecnológica de Bolívar\\U\\6to Semestre\\Inteligencia Artificial\\Proyecto\\Extract_Data.py:61: FutureWarning: Pass y=[-0.01455368 -0.00886955 -0.01358461 ... -0.02895048 -0.02912149\n",
      " -0.02780095], sr=22050 as keyword args. From version 0.10 passing these as positional arguments will result in an error\n",
      "  mfcc = librosa.feature.mfcc(signal[start:finish], sample_rate, n_mfcc=num_mfcc, n_fft=n_fft, hop_length=hop_length)\n"
     ]
    },
    {
     "name": "stdout",
     "output_type": "stream",
     "text": [
      "Audios/Familia Gamarra\\Gamarra 3.wav, segment:1\n",
      "Audios/Familia Gamarra\\Gamarra 3.wav, segment:2\n",
      "Audios/Familia Gamarra\\Gamarra 3.wav, segment:3\n",
      "Audios/Familia Gamarra\\Gamarra 3.wav, segment:4\n",
      "Audios/Familia Gamarra\\Gamarra 3.wav, segment:5\n",
      "Audios/Familia Gamarra\\Gamarra 3.wav, segment:6\n",
      "Audios/Familia Gamarra\\Gamarra 3.wav, segment:7\n"
     ]
    },
    {
     "name": "stderr",
     "output_type": "stream",
     "text": [
      "C:\\Users\\danie\\OneDrive - Universidad Tecnológica de Bolívar\\U\\6to Semestre\\Inteligencia Artificial\\Proyecto\\Extract_Data.py:61: FutureWarning: Pass y=[ 0.          0.          0.         ... -0.01077956 -0.01161898\n",
      " -0.02510253], sr=22050 as keyword args. From version 0.10 passing these as positional arguments will result in an error\n",
      "  mfcc = librosa.feature.mfcc(signal[start:finish], sample_rate, n_mfcc=num_mfcc, n_fft=n_fft, hop_length=hop_length)\n",
      "C:\\Users\\danie\\OneDrive - Universidad Tecnológica de Bolívar\\U\\6to Semestre\\Inteligencia Artificial\\Proyecto\\Extract_Data.py:61: FutureWarning: Pass y=[-0.03145743 -0.0431444  -0.03541599 ...  0.02634269  0.014178\n",
      "  0.01271708], sr=22050 as keyword args. From version 0.10 passing these as positional arguments will result in an error\n",
      "  mfcc = librosa.feature.mfcc(signal[start:finish], sample_rate, n_mfcc=num_mfcc, n_fft=n_fft, hop_length=hop_length)\n",
      "C:\\Users\\danie\\OneDrive - Universidad Tecnológica de Bolívar\\U\\6to Semestre\\Inteligencia Artificial\\Proyecto\\Extract_Data.py:61: FutureWarning: Pass y=[-0.00010956 -0.00397238  0.00060381 ... -0.03499789 -0.01688893\n",
      "  0.00237693], sr=22050 as keyword args. From version 0.10 passing these as positional arguments will result in an error\n",
      "  mfcc = librosa.feature.mfcc(signal[start:finish], sample_rate, n_mfcc=num_mfcc, n_fft=n_fft, hop_length=hop_length)\n",
      "C:\\Users\\danie\\OneDrive - Universidad Tecnológica de Bolívar\\U\\6to Semestre\\Inteligencia Artificial\\Proyecto\\Extract_Data.py:61: FutureWarning: Pass y=[0.01820756 0.03443456 0.04102666 ... 0.01433499 0.01850513 0.02306595], sr=22050 as keyword args. From version 0.10 passing these as positional arguments will result in an error\n",
      "  mfcc = librosa.feature.mfcc(signal[start:finish], sample_rate, n_mfcc=num_mfcc, n_fft=n_fft, hop_length=hop_length)\n",
      "C:\\Users\\danie\\OneDrive - Universidad Tecnológica de Bolívar\\U\\6to Semestre\\Inteligencia Artificial\\Proyecto\\Extract_Data.py:61: FutureWarning: Pass y=[ 0.01614537  0.01847642  0.01578163 ...  0.0064831  -0.00576156\n",
      " -0.00148   ], sr=22050 as keyword args. From version 0.10 passing these as positional arguments will result in an error\n",
      "  mfcc = librosa.feature.mfcc(signal[start:finish], sample_rate, n_mfcc=num_mfcc, n_fft=n_fft, hop_length=hop_length)\n",
      "C:\\Users\\danie\\OneDrive - Universidad Tecnológica de Bolívar\\U\\6to Semestre\\Inteligencia Artificial\\Proyecto\\Extract_Data.py:61: FutureWarning: Pass y=[-6.0477592e-03  8.1462052e-04  9.8102237e-04 ... -4.9409890e-03\n",
      "  4.6870413e-05 -7.6488080e-04], sr=22050 as keyword args. From version 0.10 passing these as positional arguments will result in an error\n",
      "  mfcc = librosa.feature.mfcc(signal[start:finish], sample_rate, n_mfcc=num_mfcc, n_fft=n_fft, hop_length=hop_length)\n",
      "C:\\Users\\danie\\OneDrive - Universidad Tecnológica de Bolívar\\U\\6to Semestre\\Inteligencia Artificial\\Proyecto\\Extract_Data.py:61: FutureWarning: Pass y=[-0.00695737 -0.00543241  0.00177143 ...  0.00236894  0.00181779\n",
      "  0.        ], sr=22050 as keyword args. From version 0.10 passing these as positional arguments will result in an error\n",
      "  mfcc = librosa.feature.mfcc(signal[start:finish], sample_rate, n_mfcc=num_mfcc, n_fft=n_fft, hop_length=hop_length)\n"
     ]
    },
    {
     "name": "stdout",
     "output_type": "stream",
     "text": [
      "Audios/Familia Gamarra\\Gamarra 4.wav, segment:1\n",
      "Audios/Familia Gamarra\\Gamarra 4.wav, segment:2\n",
      "Audios/Familia Gamarra\\Gamarra 4.wav, segment:3\n",
      "Audios/Familia Gamarra\\Gamarra 4.wav, segment:4\n",
      "Audios/Familia Gamarra\\Gamarra 4.wav, segment:5\n",
      "Audios/Familia Gamarra\\Gamarra 4.wav, segment:6\n"
     ]
    },
    {
     "name": "stderr",
     "output_type": "stream",
     "text": [
      "C:\\Users\\danie\\OneDrive - Universidad Tecnológica de Bolívar\\U\\6to Semestre\\Inteligencia Artificial\\Proyecto\\Extract_Data.py:61: FutureWarning: Pass y=[0.         0.         0.         ... 0.03514876 0.03536861 0.03427483], sr=22050 as keyword args. From version 0.10 passing these as positional arguments will result in an error\n",
      "  mfcc = librosa.feature.mfcc(signal[start:finish], sample_rate, n_mfcc=num_mfcc, n_fft=n_fft, hop_length=hop_length)\n",
      "C:\\Users\\danie\\OneDrive - Universidad Tecnológica de Bolívar\\U\\6to Semestre\\Inteligencia Artificial\\Proyecto\\Extract_Data.py:61: FutureWarning: Pass y=[0.03229891 0.02916271 0.02670128 ... 0.00514565 0.01209323 0.00154377], sr=22050 as keyword args. From version 0.10 passing these as positional arguments will result in an error\n",
      "  mfcc = librosa.feature.mfcc(signal[start:finish], sample_rate, n_mfcc=num_mfcc, n_fft=n_fft, hop_length=hop_length)\n",
      "C:\\Users\\danie\\OneDrive - Universidad Tecnológica de Bolívar\\U\\6to Semestre\\Inteligencia Artificial\\Proyecto\\Extract_Data.py:61: FutureWarning: Pass y=[ 0.00319091  0.00675948  0.00346247 ... -0.00785868 -0.00765927\n",
      " -0.0076769 ], sr=22050 as keyword args. From version 0.10 passing these as positional arguments will result in an error\n",
      "  mfcc = librosa.feature.mfcc(signal[start:finish], sample_rate, n_mfcc=num_mfcc, n_fft=n_fft, hop_length=hop_length)\n",
      "C:\\Users\\danie\\OneDrive - Universidad Tecnológica de Bolívar\\U\\6to Semestre\\Inteligencia Artificial\\Proyecto\\Extract_Data.py:61: FutureWarning: Pass y=[-0.00800428 -0.00880845 -0.00959894 ... -0.01791055  0.00717234\n",
      " -0.0191937 ], sr=22050 as keyword args. From version 0.10 passing these as positional arguments will result in an error\n",
      "  mfcc = librosa.feature.mfcc(signal[start:finish], sample_rate, n_mfcc=num_mfcc, n_fft=n_fft, hop_length=hop_length)\n",
      "C:\\Users\\danie\\OneDrive - Universidad Tecnológica de Bolívar\\U\\6to Semestre\\Inteligencia Artificial\\Proyecto\\Extract_Data.py:61: FutureWarning: Pass y=[-0.0138221  -0.0124044  -0.01318939 ...  0.00941873  0.00799798\n",
      "  0.00485212], sr=22050 as keyword args. From version 0.10 passing these as positional arguments will result in an error\n",
      "  mfcc = librosa.feature.mfcc(signal[start:finish], sample_rate, n_mfcc=num_mfcc, n_fft=n_fft, hop_length=hop_length)\n",
      "C:\\Users\\danie\\OneDrive - Universidad Tecnológica de Bolívar\\U\\6to Semestre\\Inteligencia Artificial\\Proyecto\\Extract_Data.py:61: FutureWarning: Pass y=[ 0.00418821  0.00122818 -0.00034999 ... -0.00461994 -0.00246662\n",
      " -0.00420243], sr=22050 as keyword args. From version 0.10 passing these as positional arguments will result in an error\n",
      "  mfcc = librosa.feature.mfcc(signal[start:finish], sample_rate, n_mfcc=num_mfcc, n_fft=n_fft, hop_length=hop_length)\n",
      "C:\\Users\\danie\\OneDrive - Universidad Tecnológica de Bolívar\\U\\6to Semestre\\Inteligencia Artificial\\Proyecto\\Extract_Data.py:61: FutureWarning: Pass y=[-0.00204767 -0.00255994 -0.00391921 ...  0.01276484  0.00174737\n",
      " -0.00912002], sr=22050 as keyword args. From version 0.10 passing these as positional arguments will result in an error\n",
      "  mfcc = librosa.feature.mfcc(signal[start:finish], sample_rate, n_mfcc=num_mfcc, n_fft=n_fft, hop_length=hop_length)\n"
     ]
    },
    {
     "name": "stdout",
     "output_type": "stream",
     "text": [
      "Audios/Familia Gamarra\\Gamarra 5.wav, segment:1\n",
      "Audios/Familia Gamarra\\Gamarra 5.wav, segment:2\n",
      "Audios/Familia Gamarra\\Gamarra 5.wav, segment:3\n",
      "Audios/Familia Gamarra\\Gamarra 5.wav, segment:4\n",
      "Audios/Familia Gamarra\\Gamarra 5.wav, segment:5\n",
      "Audios/Familia Gamarra\\Gamarra 5.wav, segment:6\n",
      "Audios/Familia Gamarra\\Gamarra 5.wav, segment:7\n"
     ]
    },
    {
     "name": "stderr",
     "output_type": "stream",
     "text": [
      "C:\\Users\\danie\\OneDrive - Universidad Tecnológica de Bolívar\\U\\6to Semestre\\Inteligencia Artificial\\Proyecto\\Extract_Data.py:61: FutureWarning: Pass y=[ 0.          0.          0.         ... -0.02496762 -0.02312047\n",
      " -0.0255624 ], sr=22050 as keyword args. From version 0.10 passing these as positional arguments will result in an error\n",
      "  mfcc = librosa.feature.mfcc(signal[start:finish], sample_rate, n_mfcc=num_mfcc, n_fft=n_fft, hop_length=hop_length)\n",
      "C:\\Users\\danie\\OneDrive - Universidad Tecnológica de Bolívar\\U\\6to Semestre\\Inteligencia Artificial\\Proyecto\\Extract_Data.py:61: FutureWarning: Pass y=[-0.02640253 -0.02785116 -0.02926913 ... -0.00649061 -0.00644728\n",
      " -0.01054042], sr=22050 as keyword args. From version 0.10 passing these as positional arguments will result in an error\n",
      "  mfcc = librosa.feature.mfcc(signal[start:finish], sample_rate, n_mfcc=num_mfcc, n_fft=n_fft, hop_length=hop_length)\n",
      "C:\\Users\\danie\\OneDrive - Universidad Tecnológica de Bolívar\\U\\6to Semestre\\Inteligencia Artificial\\Proyecto\\Extract_Data.py:61: FutureWarning: Pass y=[-0.0080964  -0.01026193 -0.00889437 ... -0.04008349  0.03378482\n",
      "  0.03499082], sr=22050 as keyword args. From version 0.10 passing these as positional arguments will result in an error\n",
      "  mfcc = librosa.feature.mfcc(signal[start:finish], sample_rate, n_mfcc=num_mfcc, n_fft=n_fft, hop_length=hop_length)\n",
      "C:\\Users\\danie\\OneDrive - Universidad Tecnológica de Bolívar\\U\\6to Semestre\\Inteligencia Artificial\\Proyecto\\Extract_Data.py:61: FutureWarning: Pass y=[-0.02324545  0.06419136 -0.02245574 ... -0.02538559 -0.02572114\n",
      " -0.02600893], sr=22050 as keyword args. From version 0.10 passing these as positional arguments will result in an error\n",
      "  mfcc = librosa.feature.mfcc(signal[start:finish], sample_rate, n_mfcc=num_mfcc, n_fft=n_fft, hop_length=hop_length)\n",
      "C:\\Users\\danie\\OneDrive - Universidad Tecnológica de Bolívar\\U\\6to Semestre\\Inteligencia Artificial\\Proyecto\\Extract_Data.py:61: FutureWarning: Pass y=[-0.02912953 -0.03007626 -0.03307316 ... -0.05932308 -0.05827255\n",
      " -0.06048154], sr=22050 as keyword args. From version 0.10 passing these as positional arguments will result in an error\n",
      "  mfcc = librosa.feature.mfcc(signal[start:finish], sample_rate, n_mfcc=num_mfcc, n_fft=n_fft, hop_length=hop_length)\n",
      "C:\\Users\\danie\\OneDrive - Universidad Tecnológica de Bolívar\\U\\6to Semestre\\Inteligencia Artificial\\Proyecto\\Extract_Data.py:61: FutureWarning: Pass y=[-0.04879684 -0.02442546 -0.03000286 ... -0.0104281  -0.01495038\n",
      " -0.04503566], sr=22050 as keyword args. From version 0.10 passing these as positional arguments will result in an error\n",
      "  mfcc = librosa.feature.mfcc(signal[start:finish], sample_rate, n_mfcc=num_mfcc, n_fft=n_fft, hop_length=hop_length)\n",
      "C:\\Users\\danie\\OneDrive - Universidad Tecnológica de Bolívar\\U\\6to Semestre\\Inteligencia Artificial\\Proyecto\\Extract_Data.py:61: FutureWarning: Pass y=[-0.05266729 -0.02354416 -0.03779831 ...  0.01140949  0.00894713\n",
      "  0.0047001 ], sr=22050 as keyword args. From version 0.10 passing these as positional arguments will result in an error\n",
      "  mfcc = librosa.feature.mfcc(signal[start:finish], sample_rate, n_mfcc=num_mfcc, n_fft=n_fft, hop_length=hop_length)\n"
     ]
    },
    {
     "name": "stdout",
     "output_type": "stream",
     "text": [
      "Audios/Familia Gamarra\\Gamarra 6.wav, segment:1\n",
      "Audios/Familia Gamarra\\Gamarra 6.wav, segment:2\n",
      "Audios/Familia Gamarra\\Gamarra 6.wav, segment:3\n",
      "Audios/Familia Gamarra\\Gamarra 6.wav, segment:4\n",
      "Audios/Familia Gamarra\\Gamarra 6.wav, segment:5\n",
      "Audios/Familia Gamarra\\Gamarra 6.wav, segment:6\n",
      "Audios/Familia Gamarra\\Gamarra 6.wav, segment:7\n",
      "\n",
      "Processing: Familia Gnecco\n"
     ]
    },
    {
     "name": "stderr",
     "output_type": "stream",
     "text": [
      "C:\\Users\\danie\\OneDrive - Universidad Tecnológica de Bolívar\\U\\6to Semestre\\Inteligencia Artificial\\Proyecto\\Extract_Data.py:61: FutureWarning: Pass y=[ 0.          0.          0.         ...  0.03466487  0.01218688\n",
      " -0.02394307], sr=22050 as keyword args. From version 0.10 passing these as positional arguments will result in an error\n",
      "  mfcc = librosa.feature.mfcc(signal[start:finish], sample_rate, n_mfcc=num_mfcc, n_fft=n_fft, hop_length=hop_length)\n",
      "C:\\Users\\danie\\OneDrive - Universidad Tecnológica de Bolívar\\U\\6to Semestre\\Inteligencia Artificial\\Proyecto\\Extract_Data.py:61: FutureWarning: Pass y=[-0.0309335   0.03791572  0.02427611 ...  0.26593202  0.23009695\n",
      "  0.2063258 ], sr=22050 as keyword args. From version 0.10 passing these as positional arguments will result in an error\n",
      "  mfcc = librosa.feature.mfcc(signal[start:finish], sample_rate, n_mfcc=num_mfcc, n_fft=n_fft, hop_length=hop_length)\n",
      "C:\\Users\\danie\\OneDrive - Universidad Tecnológica de Bolívar\\U\\6to Semestre\\Inteligencia Artificial\\Proyecto\\Extract_Data.py:61: FutureWarning: Pass y=[0.15842684 0.09142604 0.07661641 ... 0.10404705 0.10786384 0.05445838], sr=22050 as keyword args. From version 0.10 passing these as positional arguments will result in an error\n",
      "  mfcc = librosa.feature.mfcc(signal[start:finish], sample_rate, n_mfcc=num_mfcc, n_fft=n_fft, hop_length=hop_length)\n",
      "C:\\Users\\danie\\OneDrive - Universidad Tecnológica de Bolívar\\U\\6to Semestre\\Inteligencia Artificial\\Proyecto\\Extract_Data.py:61: FutureWarning: Pass y=[ 0.07785968  0.06555144  0.02194818 ... -0.18590878 -0.1838093\n",
      " -0.1494427 ], sr=22050 as keyword args. From version 0.10 passing these as positional arguments will result in an error\n",
      "  mfcc = librosa.feature.mfcc(signal[start:finish], sample_rate, n_mfcc=num_mfcc, n_fft=n_fft, hop_length=hop_length)\n",
      "C:\\Users\\danie\\OneDrive - Universidad Tecnológica de Bolívar\\U\\6to Semestre\\Inteligencia Artificial\\Proyecto\\Extract_Data.py:61: FutureWarning: Pass y=[-0.12299814 -0.10493662 -0.0520499  ... -0.05958388 -0.04637205\n",
      " -0.05589864], sr=22050 as keyword args. From version 0.10 passing these as positional arguments will result in an error\n",
      "  mfcc = librosa.feature.mfcc(signal[start:finish], sample_rate, n_mfcc=num_mfcc, n_fft=n_fft, hop_length=hop_length)\n",
      "C:\\Users\\danie\\OneDrive - Universidad Tecnológica de Bolívar\\U\\6to Semestre\\Inteligencia Artificial\\Proyecto\\Extract_Data.py:61: FutureWarning: Pass y=[-0.04517835 -0.03229273 -0.03084916 ...  0.11653809  0.11389841\n",
      "  0.11101182], sr=22050 as keyword args. From version 0.10 passing these as positional arguments will result in an error\n",
      "  mfcc = librosa.feature.mfcc(signal[start:finish], sample_rate, n_mfcc=num_mfcc, n_fft=n_fft, hop_length=hop_length)\n",
      "C:\\Users\\danie\\OneDrive - Universidad Tecnológica de Bolívar\\U\\6to Semestre\\Inteligencia Artificial\\Proyecto\\Extract_Data.py:61: FutureWarning: Pass y=[ 0.10970057  0.10564426  0.09587448 ... -0.00879418 -0.00715537\n",
      "  0.        ], sr=22050 as keyword args. From version 0.10 passing these as positional arguments will result in an error\n",
      "  mfcc = librosa.feature.mfcc(signal[start:finish], sample_rate, n_mfcc=num_mfcc, n_fft=n_fft, hop_length=hop_length)\n"
     ]
    },
    {
     "name": "stdout",
     "output_type": "stream",
     "text": [
      "Audios/Familia Gnecco\\Gnecco 1.wav, segment:1\n",
      "Audios/Familia Gnecco\\Gnecco 1.wav, segment:2\n",
      "Audios/Familia Gnecco\\Gnecco 1.wav, segment:3\n",
      "Audios/Familia Gnecco\\Gnecco 1.wav, segment:4\n",
      "Audios/Familia Gnecco\\Gnecco 1.wav, segment:5\n",
      "Audios/Familia Gnecco\\Gnecco 1.wav, segment:6\n"
     ]
    },
    {
     "name": "stderr",
     "output_type": "stream",
     "text": [
      "C:\\Users\\danie\\OneDrive - Universidad Tecnológica de Bolívar\\U\\6to Semestre\\Inteligencia Artificial\\Proyecto\\Extract_Data.py:61: FutureWarning: Pass y=[ 0.          0.          0.         ... -0.03180793  0.00223287\n",
      " -0.03503222], sr=22050 as keyword args. From version 0.10 passing these as positional arguments will result in an error\n",
      "  mfcc = librosa.feature.mfcc(signal[start:finish], sample_rate, n_mfcc=num_mfcc, n_fft=n_fft, hop_length=hop_length)\n",
      "C:\\Users\\danie\\OneDrive - Universidad Tecnológica de Bolívar\\U\\6to Semestre\\Inteligencia Artificial\\Proyecto\\Extract_Data.py:61: FutureWarning: Pass y=[-0.02329244 -0.01264739 -0.04056506 ...  0.0180488   0.07500586\n",
      "  0.0363318 ], sr=22050 as keyword args. From version 0.10 passing these as positional arguments will result in an error\n",
      "  mfcc = librosa.feature.mfcc(signal[start:finish], sample_rate, n_mfcc=num_mfcc, n_fft=n_fft, hop_length=hop_length)\n",
      "C:\\Users\\danie\\OneDrive - Universidad Tecnológica de Bolívar\\U\\6to Semestre\\Inteligencia Artificial\\Proyecto\\Extract_Data.py:61: FutureWarning: Pass y=[ 0.04754012  0.02436025  0.0606235  ... -0.02224525 -0.02835979\n",
      " -0.03528747], sr=22050 as keyword args. From version 0.10 passing these as positional arguments will result in an error\n",
      "  mfcc = librosa.feature.mfcc(signal[start:finish], sample_rate, n_mfcc=num_mfcc, n_fft=n_fft, hop_length=hop_length)\n",
      "C:\\Users\\danie\\OneDrive - Universidad Tecnológica de Bolívar\\U\\6to Semestre\\Inteligencia Artificial\\Proyecto\\Extract_Data.py:61: FutureWarning: Pass y=[-0.0482424  -0.05149389 -0.04880314 ... -0.00406618 -0.00239345\n",
      " -0.00091349], sr=22050 as keyword args. From version 0.10 passing these as positional arguments will result in an error\n",
      "  mfcc = librosa.feature.mfcc(signal[start:finish], sample_rate, n_mfcc=num_mfcc, n_fft=n_fft, hop_length=hop_length)\n",
      "C:\\Users\\danie\\OneDrive - Universidad Tecnológica de Bolívar\\U\\6to Semestre\\Inteligencia Artificial\\Proyecto\\Extract_Data.py:61: FutureWarning: Pass y=[0.00330169 0.00430475 0.00526042 ... 0.01969699 0.02094192 0.02193543], sr=22050 as keyword args. From version 0.10 passing these as positional arguments will result in an error\n",
      "  mfcc = librosa.feature.mfcc(signal[start:finish], sample_rate, n_mfcc=num_mfcc, n_fft=n_fft, hop_length=hop_length)\n",
      "C:\\Users\\danie\\OneDrive - Universidad Tecnológica de Bolívar\\U\\6to Semestre\\Inteligencia Artificial\\Proyecto\\Extract_Data.py:61: FutureWarning: Pass y=[ 0.02482005  0.02550951  0.02413167 ... -0.01387387  0.01233053\n",
      "  0.02767797], sr=22050 as keyword args. From version 0.10 passing these as positional arguments will result in an error\n",
      "  mfcc = librosa.feature.mfcc(signal[start:finish], sample_rate, n_mfcc=num_mfcc, n_fft=n_fft, hop_length=hop_length)\n",
      "C:\\Users\\danie\\OneDrive - Universidad Tecnológica de Bolívar\\U\\6to Semestre\\Inteligencia Artificial\\Proyecto\\Extract_Data.py:61: FutureWarning: Pass y=[0.0332651  0.04032541 0.03377352 ... 0.00717712 0.01058059 0.01177594], sr=22050 as keyword args. From version 0.10 passing these as positional arguments will result in an error\n",
      "  mfcc = librosa.feature.mfcc(signal[start:finish], sample_rate, n_mfcc=num_mfcc, n_fft=n_fft, hop_length=hop_length)\n"
     ]
    },
    {
     "name": "stdout",
     "output_type": "stream",
     "text": [
      "Audios/Familia Gnecco\\Gnecco 2.wav, segment:1\n",
      "Audios/Familia Gnecco\\Gnecco 2.wav, segment:2\n",
      "Audios/Familia Gnecco\\Gnecco 2.wav, segment:3\n",
      "Audios/Familia Gnecco\\Gnecco 2.wav, segment:4\n",
      "Audios/Familia Gnecco\\Gnecco 2.wav, segment:5\n",
      "Audios/Familia Gnecco\\Gnecco 2.wav, segment:6\n",
      "Audios/Familia Gnecco\\Gnecco 2.wav, segment:7\n"
     ]
    },
    {
     "name": "stderr",
     "output_type": "stream",
     "text": [
      "C:\\Users\\danie\\OneDrive - Universidad Tecnológica de Bolívar\\U\\6to Semestre\\Inteligencia Artificial\\Proyecto\\Extract_Data.py:61: FutureWarning: Pass y=[ 0.          0.          0.         ... -0.0041266  -0.01150297\n",
      " -0.00330317], sr=22050 as keyword args. From version 0.10 passing these as positional arguments will result in an error\n",
      "  mfcc = librosa.feature.mfcc(signal[start:finish], sample_rate, n_mfcc=num_mfcc, n_fft=n_fft, hop_length=hop_length)\n",
      "C:\\Users\\danie\\OneDrive - Universidad Tecnológica de Bolívar\\U\\6to Semestre\\Inteligencia Artificial\\Proyecto\\Extract_Data.py:61: FutureWarning: Pass y=[-0.0382268  -0.05475244 -0.02859501 ... -0.01530137 -0.02228632\n",
      " -0.02835924], sr=22050 as keyword args. From version 0.10 passing these as positional arguments will result in an error\n",
      "  mfcc = librosa.feature.mfcc(signal[start:finish], sample_rate, n_mfcc=num_mfcc, n_fft=n_fft, hop_length=hop_length)\n",
      "C:\\Users\\danie\\OneDrive - Universidad Tecnológica de Bolívar\\U\\6to Semestre\\Inteligencia Artificial\\Proyecto\\Extract_Data.py:61: FutureWarning: Pass y=[-0.03044761 -0.03270897 -0.02845698 ... -0.07814573 -0.0676958\n",
      " -0.06176627], sr=22050 as keyword args. From version 0.10 passing these as positional arguments will result in an error\n",
      "  mfcc = librosa.feature.mfcc(signal[start:finish], sample_rate, n_mfcc=num_mfcc, n_fft=n_fft, hop_length=hop_length)\n",
      "C:\\Users\\danie\\OneDrive - Universidad Tecnológica de Bolívar\\U\\6to Semestre\\Inteligencia Artificial\\Proyecto\\Extract_Data.py:61: FutureWarning: Pass y=[-0.07563419 -0.05927436 -0.04469094 ...  0.01027415  0.00697365\n",
      "  0.00520491], sr=22050 as keyword args. From version 0.10 passing these as positional arguments will result in an error\n",
      "  mfcc = librosa.feature.mfcc(signal[start:finish], sample_rate, n_mfcc=num_mfcc, n_fft=n_fft, hop_length=hop_length)\n",
      "C:\\Users\\danie\\OneDrive - Universidad Tecnológica de Bolívar\\U\\6to Semestre\\Inteligencia Artificial\\Proyecto\\Extract_Data.py:61: FutureWarning: Pass y=[ 0.00396914  0.00426186  0.00818816 ...  0.02696523  0.03086171\n",
      " -0.00364712], sr=22050 as keyword args. From version 0.10 passing these as positional arguments will result in an error\n",
      "  mfcc = librosa.feature.mfcc(signal[start:finish], sample_rate, n_mfcc=num_mfcc, n_fft=n_fft, hop_length=hop_length)\n",
      "C:\\Users\\danie\\OneDrive - Universidad Tecnológica de Bolívar\\U\\6to Semestre\\Inteligencia Artificial\\Proyecto\\Extract_Data.py:61: FutureWarning: Pass y=[ 0.02455142  0.02080595 -0.00382052 ...  0.0328473   0.00347779\n",
      " -0.01606118], sr=22050 as keyword args. From version 0.10 passing these as positional arguments will result in an error\n",
      "  mfcc = librosa.feature.mfcc(signal[start:finish], sample_rate, n_mfcc=num_mfcc, n_fft=n_fft, hop_length=hop_length)\n",
      "C:\\Users\\danie\\OneDrive - Universidad Tecnológica de Bolívar\\U\\6to Semestre\\Inteligencia Artificial\\Proyecto\\Extract_Data.py:61: FutureWarning: Pass y=[-0.04027418 -0.05271209 -0.05303822 ...  0.00219219  0.00275054\n",
      "  0.00112948], sr=22050 as keyword args. From version 0.10 passing these as positional arguments will result in an error\n",
      "  mfcc = librosa.feature.mfcc(signal[start:finish], sample_rate, n_mfcc=num_mfcc, n_fft=n_fft, hop_length=hop_length)\n"
     ]
    },
    {
     "name": "stdout",
     "output_type": "stream",
     "text": [
      "Audios/Familia Gnecco\\Gnecco 3.wav, segment:1\n",
      "Audios/Familia Gnecco\\Gnecco 3.wav, segment:2\n",
      "Audios/Familia Gnecco\\Gnecco 3.wav, segment:3\n",
      "Audios/Familia Gnecco\\Gnecco 3.wav, segment:4\n",
      "Audios/Familia Gnecco\\Gnecco 3.wav, segment:5\n",
      "Audios/Familia Gnecco\\Gnecco 3.wav, segment:6\n",
      "Audios/Familia Gnecco\\Gnecco 3.wav, segment:7\n"
     ]
    },
    {
     "name": "stderr",
     "output_type": "stream",
     "text": [
      "C:\\Users\\danie\\OneDrive - Universidad Tecnológica de Bolívar\\U\\6to Semestre\\Inteligencia Artificial\\Proyecto\\Extract_Data.py:61: FutureWarning: Pass y=[-1.9844701e-06  3.4617603e-06 -2.5397916e-05 ... -2.7328420e-03\n",
      " -3.6892407e-03 -5.0155097e-03], sr=22050 as keyword args. From version 0.10 passing these as positional arguments will result in an error\n",
      "  mfcc = librosa.feature.mfcc(signal[start:finish], sample_rate, n_mfcc=num_mfcc, n_fft=n_fft, hop_length=hop_length)\n",
      "C:\\Users\\danie\\OneDrive - Universidad Tecnológica de Bolívar\\U\\6to Semestre\\Inteligencia Artificial\\Proyecto\\Extract_Data.py:61: FutureWarning: Pass y=[-0.0057091  -0.00597895 -0.00615201 ...  0.02352459  0.01812025\n",
      "  0.01108806], sr=22050 as keyword args. From version 0.10 passing these as positional arguments will result in an error\n",
      "  mfcc = librosa.feature.mfcc(signal[start:finish], sample_rate, n_mfcc=num_mfcc, n_fft=n_fft, hop_length=hop_length)\n",
      "C:\\Users\\danie\\OneDrive - Universidad Tecnológica de Bolívar\\U\\6to Semestre\\Inteligencia Artificial\\Proyecto\\Extract_Data.py:61: FutureWarning: Pass y=[0.01050521 0.0082644  0.00500258 ... 0.00433073 0.00330357 0.00261751], sr=22050 as keyword args. From version 0.10 passing these as positional arguments will result in an error\n",
      "  mfcc = librosa.feature.mfcc(signal[start:finish], sample_rate, n_mfcc=num_mfcc, n_fft=n_fft, hop_length=hop_length)\n",
      "C:\\Users\\danie\\OneDrive - Universidad Tecnológica de Bolívar\\U\\6to Semestre\\Inteligencia Artificial\\Proyecto\\Extract_Data.py:61: FutureWarning: Pass y=[ 0.00240609  0.00177273  0.00103891 ... -0.00387371 -0.00519844\n",
      " -0.00591759], sr=22050 as keyword args. From version 0.10 passing these as positional arguments will result in an error\n",
      "  mfcc = librosa.feature.mfcc(signal[start:finish], sample_rate, n_mfcc=num_mfcc, n_fft=n_fft, hop_length=hop_length)\n",
      "C:\\Users\\danie\\OneDrive - Universidad Tecnológica de Bolívar\\U\\6to Semestre\\Inteligencia Artificial\\Proyecto\\Extract_Data.py:61: FutureWarning: Pass y=[-0.00641277 -0.00634317 -0.00611242 ... -0.02609207 -0.02783339\n",
      " -0.02962634], sr=22050 as keyword args. From version 0.10 passing these as positional arguments will result in an error\n",
      "  mfcc = librosa.feature.mfcc(signal[start:finish], sample_rate, n_mfcc=num_mfcc, n_fft=n_fft, hop_length=hop_length)\n",
      "C:\\Users\\danie\\OneDrive - Universidad Tecnológica de Bolívar\\U\\6to Semestre\\Inteligencia Artificial\\Proyecto\\Extract_Data.py:61: FutureWarning: Pass y=[-0.03292704 -0.03491232 -0.03615803 ...  0.00255684  0.0018344\n",
      "  0.00102331], sr=22050 as keyword args. From version 0.10 passing these as positional arguments will result in an error\n",
      "  mfcc = librosa.feature.mfcc(signal[start:finish], sample_rate, n_mfcc=num_mfcc, n_fft=n_fft, hop_length=hop_length)\n",
      "C:\\Users\\danie\\OneDrive - Universidad Tecnológica de Bolívar\\U\\6to Semestre\\Inteligencia Artificial\\Proyecto\\Extract_Data.py:61: FutureWarning: Pass y=[0.00067401 0.00058352 0.00014988 ... 0.00790633 0.0074713  0.00723018], sr=22050 as keyword args. From version 0.10 passing these as positional arguments will result in an error\n",
      "  mfcc = librosa.feature.mfcc(signal[start:finish], sample_rate, n_mfcc=num_mfcc, n_fft=n_fft, hop_length=hop_length)\n"
     ]
    },
    {
     "name": "stdout",
     "output_type": "stream",
     "text": [
      "Audios/Familia Gnecco\\Gnecco 4.wav, segment:1\n",
      "Audios/Familia Gnecco\\Gnecco 4.wav, segment:2\n",
      "Audios/Familia Gnecco\\Gnecco 4.wav, segment:3\n",
      "Audios/Familia Gnecco\\Gnecco 4.wav, segment:4\n",
      "Audios/Familia Gnecco\\Gnecco 4.wav, segment:5\n",
      "Audios/Familia Gnecco\\Gnecco 4.wav, segment:6\n",
      "Audios/Familia Gnecco\\Gnecco 4.wav, segment:7\n"
     ]
    },
    {
     "name": "stderr",
     "output_type": "stream",
     "text": [
      "C:\\Users\\danie\\OneDrive - Universidad Tecnológica de Bolívar\\U\\6to Semestre\\Inteligencia Artificial\\Proyecto\\Extract_Data.py:61: FutureWarning: Pass y=[-1.6269234e-06  2.6351865e-06 -2.5575877e-05 ... -4.2712379e-02\n",
      " -3.8063146e-02 -2.6675457e-02], sr=22050 as keyword args. From version 0.10 passing these as positional arguments will result in an error\n",
      "  mfcc = librosa.feature.mfcc(signal[start:finish], sample_rate, n_mfcc=num_mfcc, n_fft=n_fft, hop_length=hop_length)\n",
      "C:\\Users\\danie\\OneDrive - Universidad Tecnológica de Bolívar\\U\\6to Semestre\\Inteligencia Artificial\\Proyecto\\Extract_Data.py:61: FutureWarning: Pass y=[-0.01403125 -0.00444826  0.00214961 ...  0.03065111  0.0238469\n",
      "  0.01781792], sr=22050 as keyword args. From version 0.10 passing these as positional arguments will result in an error\n",
      "  mfcc = librosa.feature.mfcc(signal[start:finish], sample_rate, n_mfcc=num_mfcc, n_fft=n_fft, hop_length=hop_length)\n",
      "C:\\Users\\danie\\OneDrive - Universidad Tecnológica de Bolívar\\U\\6to Semestre\\Inteligencia Artificial\\Proyecto\\Extract_Data.py:61: FutureWarning: Pass y=[ 0.01220851  0.00533347 -0.00403227 ... -0.03357454 -0.04866621\n",
      " -0.04633816], sr=22050 as keyword args. From version 0.10 passing these as positional arguments will result in an error\n",
      "  mfcc = librosa.feature.mfcc(signal[start:finish], sample_rate, n_mfcc=num_mfcc, n_fft=n_fft, hop_length=hop_length)\n",
      "C:\\Users\\danie\\OneDrive - Universidad Tecnológica de Bolívar\\U\\6to Semestre\\Inteligencia Artificial\\Proyecto\\Extract_Data.py:61: FutureWarning: Pass y=[-0.03087229 -0.00230548  0.02171366 ... -0.0007065   0.00174144\n",
      "  0.00433318], sr=22050 as keyword args. From version 0.10 passing these as positional arguments will result in an error\n",
      "  mfcc = librosa.feature.mfcc(signal[start:finish], sample_rate, n_mfcc=num_mfcc, n_fft=n_fft, hop_length=hop_length)\n",
      "C:\\Users\\danie\\OneDrive - Universidad Tecnológica de Bolívar\\U\\6to Semestre\\Inteligencia Artificial\\Proyecto\\Extract_Data.py:61: FutureWarning: Pass y=[0.00628802 0.00740477 0.00799082 ... 0.00467914 0.00494456 0.00526729], sr=22050 as keyword args. From version 0.10 passing these as positional arguments will result in an error\n",
      "  mfcc = librosa.feature.mfcc(signal[start:finish], sample_rate, n_mfcc=num_mfcc, n_fft=n_fft, hop_length=hop_length)\n",
      "C:\\Users\\danie\\OneDrive - Universidad Tecnológica de Bolívar\\U\\6to Semestre\\Inteligencia Artificial\\Proyecto\\Extract_Data.py:61: FutureWarning: Pass y=[ 0.00565053  0.00593731  0.00628769 ... -0.14437011 -0.15300214\n",
      " -0.13899495], sr=22050 as keyword args. From version 0.10 passing these as positional arguments will result in an error\n",
      "  mfcc = librosa.feature.mfcc(signal[start:finish], sample_rate, n_mfcc=num_mfcc, n_fft=n_fft, hop_length=hop_length)\n",
      "C:\\Users\\danie\\OneDrive - Universidad Tecnológica de Bolívar\\U\\6to Semestre\\Inteligencia Artificial\\Proyecto\\Extract_Data.py:61: FutureWarning: Pass y=[-0.1152978  -0.09366254 -0.07621184 ... -0.03931924 -0.0005243\n",
      "  0.04931699], sr=22050 as keyword args. From version 0.10 passing these as positional arguments will result in an error\n",
      "  mfcc = librosa.feature.mfcc(signal[start:finish], sample_rate, n_mfcc=num_mfcc, n_fft=n_fft, hop_length=hop_length)\n"
     ]
    },
    {
     "name": "stdout",
     "output_type": "stream",
     "text": [
      "Audios/Familia Gnecco\\Gnecco 5.wav, segment:1\n",
      "Audios/Familia Gnecco\\Gnecco 5.wav, segment:2\n",
      "Audios/Familia Gnecco\\Gnecco 5.wav, segment:3\n",
      "Audios/Familia Gnecco\\Gnecco 5.wav, segment:4\n",
      "Audios/Familia Gnecco\\Gnecco 5.wav, segment:5\n",
      "Audios/Familia Gnecco\\Gnecco 5.wav, segment:6\n",
      "Audios/Familia Gnecco\\Gnecco 5.wav, segment:7\n",
      "\n",
      "Processing: Familia Morillo\n"
     ]
    },
    {
     "name": "stderr",
     "output_type": "stream",
     "text": [
      "C:\\Users\\danie\\OneDrive - Universidad Tecnológica de Bolívar\\U\\6to Semestre\\Inteligencia Artificial\\Proyecto\\Extract_Data.py:61: FutureWarning: Pass y=[ 0.00681467  0.0108166   0.00988808 ... -0.00915421 -0.01028714\n",
      " -0.01058421], sr=22050 as keyword args. From version 0.10 passing these as positional arguments will result in an error\n",
      "  mfcc = librosa.feature.mfcc(signal[start:finish], sample_rate, n_mfcc=num_mfcc, n_fft=n_fft, hop_length=hop_length)\n",
      "C:\\Users\\danie\\OneDrive - Universidad Tecnológica de Bolívar\\U\\6to Semestre\\Inteligencia Artificial\\Proyecto\\Extract_Data.py:61: FutureWarning: Pass y=[-0.01028979 -0.01042848 -0.01061817 ...  0.00867811  0.00800614\n",
      "  0.01363863], sr=22050 as keyword args. From version 0.10 passing these as positional arguments will result in an error\n",
      "  mfcc = librosa.feature.mfcc(signal[start:finish], sample_rate, n_mfcc=num_mfcc, n_fft=n_fft, hop_length=hop_length)\n",
      "C:\\Users\\danie\\OneDrive - Universidad Tecnológica de Bolívar\\U\\6to Semestre\\Inteligencia Artificial\\Proyecto\\Extract_Data.py:61: FutureWarning: Pass y=[0.02743554 0.0329246  0.02820258 ... 0.00174857 0.00423158 0.00349003], sr=22050 as keyword args. From version 0.10 passing these as positional arguments will result in an error\n",
      "  mfcc = librosa.feature.mfcc(signal[start:finish], sample_rate, n_mfcc=num_mfcc, n_fft=n_fft, hop_length=hop_length)\n",
      "C:\\Users\\danie\\OneDrive - Universidad Tecnológica de Bolívar\\U\\6to Semestre\\Inteligencia Artificial\\Proyecto\\Extract_Data.py:61: FutureWarning: Pass y=[ 0.00065528  0.00068162 -0.00100605 ... -0.0001265  -0.00024499\n",
      " -0.00033458], sr=22050 as keyword args. From version 0.10 passing these as positional arguments will result in an error\n",
      "  mfcc = librosa.feature.mfcc(signal[start:finish], sample_rate, n_mfcc=num_mfcc, n_fft=n_fft, hop_length=hop_length)\n",
      "C:\\Users\\danie\\OneDrive - Universidad Tecnológica de Bolívar\\U\\6to Semestre\\Inteligencia Artificial\\Proyecto\\Extract_Data.py:61: FutureWarning: Pass y=[-1.7061741e-04 -2.2248266e-04 -3.6359040e-04 ...  3.0977774e-01\n",
      "  3.0831006e-01  2.9372212e-01], sr=22050 as keyword args. From version 0.10 passing these as positional arguments will result in an error\n",
      "  mfcc = librosa.feature.mfcc(signal[start:finish], sample_rate, n_mfcc=num_mfcc, n_fft=n_fft, hop_length=hop_length)\n",
      "C:\\Users\\danie\\OneDrive - Universidad Tecnológica de Bolívar\\U\\6to Semestre\\Inteligencia Artificial\\Proyecto\\Extract_Data.py:61: FutureWarning: Pass y=[0.27521226 0.24785914 0.21285722 ... 0.01229344 0.00962501 0.00625245], sr=22050 as keyword args. From version 0.10 passing these as positional arguments will result in an error\n",
      "  mfcc = librosa.feature.mfcc(signal[start:finish], sample_rate, n_mfcc=num_mfcc, n_fft=n_fft, hop_length=hop_length)\n",
      "C:\\Users\\danie\\OneDrive - Universidad Tecnológica de Bolívar\\U\\6to Semestre\\Inteligencia Artificial\\Proyecto\\Extract_Data.py:61: FutureWarning: Pass y=[0.0034461  0.0024789  0.0016526  ... 0.01711197 0.02012129 0.02388826], sr=22050 as keyword args. From version 0.10 passing these as positional arguments will result in an error\n",
      "  mfcc = librosa.feature.mfcc(signal[start:finish], sample_rate, n_mfcc=num_mfcc, n_fft=n_fft, hop_length=hop_length)\n"
     ]
    },
    {
     "name": "stdout",
     "output_type": "stream",
     "text": [
      "Audios/Familia Morillo\\Morillo 1.wav, segment:1\n",
      "Audios/Familia Morillo\\Morillo 1.wav, segment:2\n",
      "Audios/Familia Morillo\\Morillo 1.wav, segment:3\n",
      "Audios/Familia Morillo\\Morillo 1.wav, segment:4\n",
      "Audios/Familia Morillo\\Morillo 1.wav, segment:5\n",
      "Audios/Familia Morillo\\Morillo 1.wav, segment:6\n"
     ]
    },
    {
     "name": "stderr",
     "output_type": "stream",
     "text": [
      "C:\\Users\\danie\\OneDrive - Universidad Tecnológica de Bolívar\\U\\6to Semestre\\Inteligencia Artificial\\Proyecto\\Extract_Data.py:61: FutureWarning: Pass y=[-1.9844701e-06  3.4617603e-06 -2.5397916e-05 ... -5.9723940e-02\n",
      " -5.4867316e-02 -5.0911009e-02], sr=22050 as keyword args. From version 0.10 passing these as positional arguments will result in an error\n",
      "  mfcc = librosa.feature.mfcc(signal[start:finish], sample_rate, n_mfcc=num_mfcc, n_fft=n_fft, hop_length=hop_length)\n",
      "C:\\Users\\danie\\OneDrive - Universidad Tecnológica de Bolívar\\U\\6to Semestre\\Inteligencia Artificial\\Proyecto\\Extract_Data.py:61: FutureWarning: Pass y=[-0.04742706 -0.04315345 -0.04182976 ... -0.02270115 -0.00955962\n",
      "  0.02906407], sr=22050 as keyword args. From version 0.10 passing these as positional arguments will result in an error\n",
      "  mfcc = librosa.feature.mfcc(signal[start:finish], sample_rate, n_mfcc=num_mfcc, n_fft=n_fft, hop_length=hop_length)\n",
      "C:\\Users\\danie\\OneDrive - Universidad Tecnológica de Bolívar\\U\\6to Semestre\\Inteligencia Artificial\\Proyecto\\Extract_Data.py:61: FutureWarning: Pass y=[ 0.03564947  0.00487973 -0.02163673 ... -0.03815841 -0.0346663\n",
      " -0.03623319], sr=22050 as keyword args. From version 0.10 passing these as positional arguments will result in an error\n",
      "  mfcc = librosa.feature.mfcc(signal[start:finish], sample_rate, n_mfcc=num_mfcc, n_fft=n_fft, hop_length=hop_length)\n",
      "C:\\Users\\danie\\OneDrive - Universidad Tecnológica de Bolívar\\U\\6to Semestre\\Inteligencia Artificial\\Proyecto\\Extract_Data.py:61: FutureWarning: Pass y=[-0.04156887 -0.04269021 -0.04003828 ... -0.0351163  -0.03430018\n",
      " -0.03381024], sr=22050 as keyword args. From version 0.10 passing these as positional arguments will result in an error\n",
      "  mfcc = librosa.feature.mfcc(signal[start:finish], sample_rate, n_mfcc=num_mfcc, n_fft=n_fft, hop_length=hop_length)\n",
      "C:\\Users\\danie\\OneDrive - Universidad Tecnológica de Bolívar\\U\\6to Semestre\\Inteligencia Artificial\\Proyecto\\Extract_Data.py:61: FutureWarning: Pass y=[-0.03326083 -0.03338605 -0.03379189 ... -0.01100563 -0.01030122\n",
      " -0.01047576], sr=22050 as keyword args. From version 0.10 passing these as positional arguments will result in an error\n",
      "  mfcc = librosa.feature.mfcc(signal[start:finish], sample_rate, n_mfcc=num_mfcc, n_fft=n_fft, hop_length=hop_length)\n",
      "C:\\Users\\danie\\OneDrive - Universidad Tecnológica de Bolívar\\U\\6to Semestre\\Inteligencia Artificial\\Proyecto\\Extract_Data.py:61: FutureWarning: Pass y=[-0.01064604 -0.01035357 -0.01046863 ...  0.00432439  0.00558701\n",
      "  0.00659351], sr=22050 as keyword args. From version 0.10 passing these as positional arguments will result in an error\n",
      "  mfcc = librosa.feature.mfcc(signal[start:finish], sample_rate, n_mfcc=num_mfcc, n_fft=n_fft, hop_length=hop_length)\n",
      "C:\\Users\\danie\\OneDrive - Universidad Tecnológica de Bolívar\\U\\6to Semestre\\Inteligencia Artificial\\Proyecto\\Extract_Data.py:61: FutureWarning: Pass y=[ 0.00735118  0.00799724  0.00841312 ... -0.00496833 -0.0049718\n",
      " -0.00322167], sr=22050 as keyword args. From version 0.10 passing these as positional arguments will result in an error\n",
      "  mfcc = librosa.feature.mfcc(signal[start:finish], sample_rate, n_mfcc=num_mfcc, n_fft=n_fft, hop_length=hop_length)\n"
     ]
    },
    {
     "name": "stdout",
     "output_type": "stream",
     "text": [
      "Audios/Familia Morillo\\Morillo 2.wav, segment:1\n",
      "Audios/Familia Morillo\\Morillo 2.wav, segment:2\n",
      "Audios/Familia Morillo\\Morillo 2.wav, segment:3\n",
      "Audios/Familia Morillo\\Morillo 2.wav, segment:4\n",
      "Audios/Familia Morillo\\Morillo 2.wav, segment:5\n",
      "Audios/Familia Morillo\\Morillo 2.wav, segment:6\n",
      "Audios/Familia Morillo\\Morillo 2.wav, segment:7\n"
     ]
    },
    {
     "name": "stderr",
     "output_type": "stream",
     "text": [
      "C:\\Users\\danie\\OneDrive - Universidad Tecnológica de Bolívar\\U\\6to Semestre\\Inteligencia Artificial\\Proyecto\\Extract_Data.py:61: FutureWarning: Pass y=[-1.9844701e-06  3.4617603e-06 -2.5397916e-05 ...  2.9120961e-02\n",
      "  2.9608874e-02  2.9379809e-02], sr=22050 as keyword args. From version 0.10 passing these as positional arguments will result in an error\n",
      "  mfcc = librosa.feature.mfcc(signal[start:finish], sample_rate, n_mfcc=num_mfcc, n_fft=n_fft, hop_length=hop_length)\n",
      "C:\\Users\\danie\\OneDrive - Universidad Tecnológica de Bolívar\\U\\6to Semestre\\Inteligencia Artificial\\Proyecto\\Extract_Data.py:61: FutureWarning: Pass y=[0.02770492 0.02527787 0.0220966  ... 0.00064162 0.00133398 0.00177659], sr=22050 as keyword args. From version 0.10 passing these as positional arguments will result in an error\n",
      "  mfcc = librosa.feature.mfcc(signal[start:finish], sample_rate, n_mfcc=num_mfcc, n_fft=n_fft, hop_length=hop_length)\n",
      "C:\\Users\\danie\\OneDrive - Universidad Tecnológica de Bolívar\\U\\6to Semestre\\Inteligencia Artificial\\Proyecto\\Extract_Data.py:61: FutureWarning: Pass y=[ 0.00203825  0.00226384  0.00292883 ... -0.0017112  -0.00152823\n",
      " -0.00167336], sr=22050 as keyword args. From version 0.10 passing these as positional arguments will result in an error\n",
      "  mfcc = librosa.feature.mfcc(signal[start:finish], sample_rate, n_mfcc=num_mfcc, n_fft=n_fft, hop_length=hop_length)\n",
      "C:\\Users\\danie\\OneDrive - Universidad Tecnológica de Bolívar\\U\\6to Semestre\\Inteligencia Artificial\\Proyecto\\Extract_Data.py:61: FutureWarning: Pass y=[-0.0017732  -0.00174498 -0.00185496 ...  0.00038691  0.00023682\n",
      "  0.00017971], sr=22050 as keyword args. From version 0.10 passing these as positional arguments will result in an error\n",
      "  mfcc = librosa.feature.mfcc(signal[start:finish], sample_rate, n_mfcc=num_mfcc, n_fft=n_fft, hop_length=hop_length)\n",
      "C:\\Users\\danie\\OneDrive - Universidad Tecnológica de Bolívar\\U\\6to Semestre\\Inteligencia Artificial\\Proyecto\\Extract_Data.py:61: FutureWarning: Pass y=[ 1.7632602e-04  5.4819644e-05 -9.1428148e-05 ...  5.4996175e-04\n",
      "  3.1424672e-04 -3.1292446e-05], sr=22050 as keyword args. From version 0.10 passing these as positional arguments will result in an error\n",
      "  mfcc = librosa.feature.mfcc(signal[start:finish], sample_rate, n_mfcc=num_mfcc, n_fft=n_fft, hop_length=hop_length)\n",
      "C:\\Users\\danie\\OneDrive - Universidad Tecnológica de Bolívar\\U\\6to Semestre\\Inteligencia Artificial\\Proyecto\\Extract_Data.py:61: FutureWarning: Pass y=[-3.9298969e-04 -6.5226795e-04 -6.6711660e-04 ...  3.2372707e-05\n",
      "  5.6165558e-05  2.1264094e-04], sr=22050 as keyword args. From version 0.10 passing these as positional arguments will result in an error\n",
      "  mfcc = librosa.feature.mfcc(signal[start:finish], sample_rate, n_mfcc=num_mfcc, n_fft=n_fft, hop_length=hop_length)\n",
      "C:\\Users\\danie\\OneDrive - Universidad Tecnológica de Bolívar\\U\\6to Semestre\\Inteligencia Artificial\\Proyecto\\Extract_Data.py:61: FutureWarning: Pass y=[ 9.9393605e-05  8.8816698e-05  1.8532181e-04 ... -2.1377665e-03\n",
      " -2.1367576e-03 -2.1120722e-03], sr=22050 as keyword args. From version 0.10 passing these as positional arguments will result in an error\n",
      "  mfcc = librosa.feature.mfcc(signal[start:finish], sample_rate, n_mfcc=num_mfcc, n_fft=n_fft, hop_length=hop_length)\n"
     ]
    },
    {
     "name": "stdout",
     "output_type": "stream",
     "text": [
      "Audios/Familia Morillo\\Morillo 3.wav, segment:1\n",
      "Audios/Familia Morillo\\Morillo 3.wav, segment:2\n",
      "Audios/Familia Morillo\\Morillo 3.wav, segment:3\n",
      "Audios/Familia Morillo\\Morillo 3.wav, segment:4\n",
      "Audios/Familia Morillo\\Morillo 3.wav, segment:5\n",
      "Audios/Familia Morillo\\Morillo 3.wav, segment:6\n",
      "Audios/Familia Morillo\\Morillo 3.wav, segment:7\n",
      "\n",
      "Processing: Familia Ospina\n"
     ]
    },
    {
     "name": "stderr",
     "output_type": "stream",
     "text": [
      "C:\\Users\\danie\\OneDrive - Universidad Tecnológica de Bolívar\\U\\6to Semestre\\Inteligencia Artificial\\Proyecto\\Extract_Data.py:61: FutureWarning: Pass y=[ 0.          0.          0.         ... -0.01535555 -0.01916084\n",
      " -0.01833663], sr=22050 as keyword args. From version 0.10 passing these as positional arguments will result in an error\n",
      "  mfcc = librosa.feature.mfcc(signal[start:finish], sample_rate, n_mfcc=num_mfcc, n_fft=n_fft, hop_length=hop_length)\n",
      "C:\\Users\\danie\\OneDrive - Universidad Tecnológica de Bolívar\\U\\6to Semestre\\Inteligencia Artificial\\Proyecto\\Extract_Data.py:61: FutureWarning: Pass y=[-1.1342761e-02 -7.6778881e-05  1.2762717e-02 ...  6.8307174e-03\n",
      "  7.3585021e-03  7.5648017e-03], sr=22050 as keyword args. From version 0.10 passing these as positional arguments will result in an error\n",
      "  mfcc = librosa.feature.mfcc(signal[start:finish], sample_rate, n_mfcc=num_mfcc, n_fft=n_fft, hop_length=hop_length)\n",
      "C:\\Users\\danie\\OneDrive - Universidad Tecnológica de Bolívar\\U\\6to Semestre\\Inteligencia Artificial\\Proyecto\\Extract_Data.py:61: FutureWarning: Pass y=[0.00763467 0.00847777 0.00954579 ... 0.00610958 0.00713465 0.00781652], sr=22050 as keyword args. From version 0.10 passing these as positional arguments will result in an error\n",
      "  mfcc = librosa.feature.mfcc(signal[start:finish], sample_rate, n_mfcc=num_mfcc, n_fft=n_fft, hop_length=hop_length)\n",
      "C:\\Users\\danie\\OneDrive - Universidad Tecnológica de Bolívar\\U\\6to Semestre\\Inteligencia Artificial\\Proyecto\\Extract_Data.py:61: FutureWarning: Pass y=[ 0.00816864  0.00784159  0.00787438 ... -0.03759815 -0.03796122\n",
      " -0.03814504], sr=22050 as keyword args. From version 0.10 passing these as positional arguments will result in an error\n",
      "  mfcc = librosa.feature.mfcc(signal[start:finish], sample_rate, n_mfcc=num_mfcc, n_fft=n_fft, hop_length=hop_length)\n",
      "C:\\Users\\danie\\OneDrive - Universidad Tecnológica de Bolívar\\U\\6to Semestre\\Inteligencia Artificial\\Proyecto\\Extract_Data.py:61: FutureWarning: Pass y=[-0.03875467 -0.04050697 -0.04294395 ... -0.01630487 -0.02069208\n",
      " -0.02469044], sr=22050 as keyword args. From version 0.10 passing these as positional arguments will result in an error\n",
      "  mfcc = librosa.feature.mfcc(signal[start:finish], sample_rate, n_mfcc=num_mfcc, n_fft=n_fft, hop_length=hop_length)\n",
      "C:\\Users\\danie\\OneDrive - Universidad Tecnológica de Bolívar\\U\\6to Semestre\\Inteligencia Artificial\\Proyecto\\Extract_Data.py:61: FutureWarning: Pass y=[-0.02761419 -0.02926053 -0.02969273 ...  0.02350744  0.02343799\n",
      "  0.02240399], sr=22050 as keyword args. From version 0.10 passing these as positional arguments will result in an error\n",
      "  mfcc = librosa.feature.mfcc(signal[start:finish], sample_rate, n_mfcc=num_mfcc, n_fft=n_fft, hop_length=hop_length)\n",
      "C:\\Users\\danie\\OneDrive - Universidad Tecnológica de Bolívar\\U\\6to Semestre\\Inteligencia Artificial\\Proyecto\\Extract_Data.py:61: FutureWarning: Pass y=[ 0.02108915  0.02045947  0.02126776 ... -0.02140707 -0.0291501\n",
      " -0.03762241], sr=22050 as keyword args. From version 0.10 passing these as positional arguments will result in an error\n",
      "  mfcc = librosa.feature.mfcc(signal[start:finish], sample_rate, n_mfcc=num_mfcc, n_fft=n_fft, hop_length=hop_length)\n"
     ]
    },
    {
     "name": "stdout",
     "output_type": "stream",
     "text": [
      "Audios/Familia Ospina\\Ospina 1.wav, segment:1\n",
      "Audios/Familia Ospina\\Ospina 1.wav, segment:2\n",
      "Audios/Familia Ospina\\Ospina 1.wav, segment:3\n",
      "Audios/Familia Ospina\\Ospina 1.wav, segment:4\n",
      "Audios/Familia Ospina\\Ospina 1.wav, segment:5\n",
      "Audios/Familia Ospina\\Ospina 1.wav, segment:6\n",
      "Audios/Familia Ospina\\Ospina 1.wav, segment:7\n"
     ]
    },
    {
     "name": "stderr",
     "output_type": "stream",
     "text": [
      "C:\\Users\\danie\\OneDrive - Universidad Tecnológica de Bolívar\\U\\6to Semestre\\Inteligencia Artificial\\Proyecto\\Extract_Data.py:61: FutureWarning: Pass y=[0.00539019 0.00914674 0.00727091 ... 0.00138771 0.00190077 0.00347093], sr=22050 as keyword args. From version 0.10 passing these as positional arguments will result in an error\n",
      "  mfcc = librosa.feature.mfcc(signal[start:finish], sample_rate, n_mfcc=num_mfcc, n_fft=n_fft, hop_length=hop_length)\n",
      "C:\\Users\\danie\\OneDrive - Universidad Tecnológica de Bolívar\\U\\6to Semestre\\Inteligencia Artificial\\Proyecto\\Extract_Data.py:61: FutureWarning: Pass y=[ 0.00357769 -0.0009525  -0.00290591 ... -0.02756633 -0.03435754\n",
      " -0.04294251], sr=22050 as keyword args. From version 0.10 passing these as positional arguments will result in an error\n",
      "  mfcc = librosa.feature.mfcc(signal[start:finish], sample_rate, n_mfcc=num_mfcc, n_fft=n_fft, hop_length=hop_length)\n",
      "C:\\Users\\danie\\OneDrive - Universidad Tecnológica de Bolívar\\U\\6to Semestre\\Inteligencia Artificial\\Proyecto\\Extract_Data.py:61: FutureWarning: Pass y=[-0.04749117 -0.0484015  -0.0469947  ...  0.01189404  0.02436495\n",
      "  0.03064351], sr=22050 as keyword args. From version 0.10 passing these as positional arguments will result in an error\n",
      "  mfcc = librosa.feature.mfcc(signal[start:finish], sample_rate, n_mfcc=num_mfcc, n_fft=n_fft, hop_length=hop_length)\n",
      "C:\\Users\\danie\\OneDrive - Universidad Tecnológica de Bolívar\\U\\6to Semestre\\Inteligencia Artificial\\Proyecto\\Extract_Data.py:61: FutureWarning: Pass y=[ 3.2470856e-02  3.1068092e-02  2.1639254e-02 ...  4.2600647e-04\n",
      " -2.5818999e-05 -1.4708699e-03], sr=22050 as keyword args. From version 0.10 passing these as positional arguments will result in an error\n",
      "  mfcc = librosa.feature.mfcc(signal[start:finish], sample_rate, n_mfcc=num_mfcc, n_fft=n_fft, hop_length=hop_length)\n",
      "C:\\Users\\danie\\OneDrive - Universidad Tecnológica de Bolívar\\U\\6to Semestre\\Inteligencia Artificial\\Proyecto\\Extract_Data.py:61: FutureWarning: Pass y=[-3.98482336e-03 -3.89980501e-03  3.31460069e-06 ... -1.15077402e-02\n",
      " -1.12284655e-02 -1.10753933e-02], sr=22050 as keyword args. From version 0.10 passing these as positional arguments will result in an error\n",
      "  mfcc = librosa.feature.mfcc(signal[start:finish], sample_rate, n_mfcc=num_mfcc, n_fft=n_fft, hop_length=hop_length)\n",
      "C:\\Users\\danie\\OneDrive - Universidad Tecnológica de Bolívar\\U\\6to Semestre\\Inteligencia Artificial\\Proyecto\\Extract_Data.py:61: FutureWarning: Pass y=[-0.01052887 -0.00976432 -0.0091809  ...  0.14838816  0.23752521\n",
      "  0.16118813], sr=22050 as keyword args. From version 0.10 passing these as positional arguments will result in an error\n",
      "  mfcc = librosa.feature.mfcc(signal[start:finish], sample_rate, n_mfcc=num_mfcc, n_fft=n_fft, hop_length=hop_length)\n",
      "C:\\Users\\danie\\OneDrive - Universidad Tecnológica de Bolívar\\U\\6to Semestre\\Inteligencia Artificial\\Proyecto\\Extract_Data.py:61: FutureWarning: Pass y=[ 0.00217578 -0.09646075 -0.08358407 ... -0.00304144 -0.00244483\n",
      " -0.00215524], sr=22050 as keyword args. From version 0.10 passing these as positional arguments will result in an error\n",
      "  mfcc = librosa.feature.mfcc(signal[start:finish], sample_rate, n_mfcc=num_mfcc, n_fft=n_fft, hop_length=hop_length)\n"
     ]
    },
    {
     "name": "stdout",
     "output_type": "stream",
     "text": [
      "Audios/Familia Ospina\\Ospina 2.wav, segment:1\n",
      "Audios/Familia Ospina\\Ospina 2.wav, segment:2\n",
      "Audios/Familia Ospina\\Ospina 2.wav, segment:3\n",
      "Audios/Familia Ospina\\Ospina 2.wav, segment:4\n",
      "Audios/Familia Ospina\\Ospina 2.wav, segment:5\n",
      "Audios/Familia Ospina\\Ospina 2.wav, segment:6\n"
     ]
    },
    {
     "name": "stderr",
     "output_type": "stream",
     "text": [
      "C:\\Users\\danie\\OneDrive - Universidad Tecnológica de Bolívar\\U\\6to Semestre\\Inteligencia Artificial\\Proyecto\\Extract_Data.py:61: FutureWarning: Pass y=[ 0.01345286  0.01970468  0.01562839 ... -0.07402632 -0.09122471\n",
      " -0.08165661], sr=22050 as keyword args. From version 0.10 passing these as positional arguments will result in an error\n",
      "  mfcc = librosa.feature.mfcc(signal[start:finish], sample_rate, n_mfcc=num_mfcc, n_fft=n_fft, hop_length=hop_length)\n",
      "C:\\Users\\danie\\OneDrive - Universidad Tecnológica de Bolívar\\U\\6to Semestre\\Inteligencia Artificial\\Proyecto\\Extract_Data.py:61: FutureWarning: Pass y=[-0.05414818 -0.03940145 -0.05207124 ...  0.0007904   0.00111655\n",
      "  0.00163926], sr=22050 as keyword args. From version 0.10 passing these as positional arguments will result in an error\n",
      "  mfcc = librosa.feature.mfcc(signal[start:finish], sample_rate, n_mfcc=num_mfcc, n_fft=n_fft, hop_length=hop_length)\n",
      "C:\\Users\\danie\\OneDrive - Universidad Tecnológica de Bolívar\\U\\6to Semestre\\Inteligencia Artificial\\Proyecto\\Extract_Data.py:61: FutureWarning: Pass y=[ 0.00186586  0.00183064  0.00092241 ... -0.00443018 -0.00417605\n",
      " -0.00619501], sr=22050 as keyword args. From version 0.10 passing these as positional arguments will result in an error\n",
      "  mfcc = librosa.feature.mfcc(signal[start:finish], sample_rate, n_mfcc=num_mfcc, n_fft=n_fft, hop_length=hop_length)\n",
      "C:\\Users\\danie\\OneDrive - Universidad Tecnológica de Bolívar\\U\\6to Semestre\\Inteligencia Artificial\\Proyecto\\Extract_Data.py:61: FutureWarning: Pass y=[-0.01009245 -0.01283509 -0.01214759 ...  0.00765874  0.00659149\n",
      "  0.00436303], sr=22050 as keyword args. From version 0.10 passing these as positional arguments will result in an error\n",
      "  mfcc = librosa.feature.mfcc(signal[start:finish], sample_rate, n_mfcc=num_mfcc, n_fft=n_fft, hop_length=hop_length)\n",
      "C:\\Users\\danie\\OneDrive - Universidad Tecnológica de Bolívar\\U\\6to Semestre\\Inteligencia Artificial\\Proyecto\\Extract_Data.py:61: FutureWarning: Pass y=[ 0.00226475  0.00158148  0.00217018 ... -0.01712674 -0.01968229\n",
      " -0.01861055], sr=22050 as keyword args. From version 0.10 passing these as positional arguments will result in an error\n",
      "  mfcc = librosa.feature.mfcc(signal[start:finish], sample_rate, n_mfcc=num_mfcc, n_fft=n_fft, hop_length=hop_length)\n",
      "C:\\Users\\danie\\OneDrive - Universidad Tecnológica de Bolívar\\U\\6to Semestre\\Inteligencia Artificial\\Proyecto\\Extract_Data.py:61: FutureWarning: Pass y=[-0.01471855 -0.01064882 -0.00732242 ... -0.06915221 -0.04267508\n",
      "  0.01446382], sr=22050 as keyword args. From version 0.10 passing these as positional arguments will result in an error\n",
      "  mfcc = librosa.feature.mfcc(signal[start:finish], sample_rate, n_mfcc=num_mfcc, n_fft=n_fft, hop_length=hop_length)\n",
      "C:\\Users\\danie\\OneDrive - Universidad Tecnológica de Bolívar\\U\\6to Semestre\\Inteligencia Artificial\\Proyecto\\Extract_Data.py:61: FutureWarning: Pass y=[ 0.03624953  0.01638129 -0.03125231 ... -0.01167839 -0.00814871\n",
      " -0.00543882], sr=22050 as keyword args. From version 0.10 passing these as positional arguments will result in an error\n",
      "  mfcc = librosa.feature.mfcc(signal[start:finish], sample_rate, n_mfcc=num_mfcc, n_fft=n_fft, hop_length=hop_length)\n"
     ]
    },
    {
     "name": "stdout",
     "output_type": "stream",
     "text": [
      "Audios/Familia Ospina\\Ospina 3.wav, segment:1\n",
      "Audios/Familia Ospina\\Ospina 3.wav, segment:2\n",
      "Audios/Familia Ospina\\Ospina 3.wav, segment:3\n",
      "Audios/Familia Ospina\\Ospina 3.wav, segment:4\n",
      "Audios/Familia Ospina\\Ospina 3.wav, segment:5\n",
      "Audios/Familia Ospina\\Ospina 3.wav, segment:6\n",
      "Audios/Familia Ospina\\Ospina 3.wav, segment:7\n"
     ]
    },
    {
     "name": "stderr",
     "output_type": "stream",
     "text": [
      "C:\\Users\\danie\\OneDrive - Universidad Tecnológica de Bolívar\\U\\6to Semestre\\Inteligencia Artificial\\Proyecto\\Extract_Data.py:61: FutureWarning: Pass y=[-1.9844701e-06  3.4617603e-06 -2.5397916e-05 ...  3.1974237e-02\n",
      "  1.2705660e-02  2.8201889e-02], sr=22050 as keyword args. From version 0.10 passing these as positional arguments will result in an error\n",
      "  mfcc = librosa.feature.mfcc(signal[start:finish], sample_rate, n_mfcc=num_mfcc, n_fft=n_fft, hop_length=hop_length)\n",
      "C:\\Users\\danie\\OneDrive - Universidad Tecnológica de Bolívar\\U\\6to Semestre\\Inteligencia Artificial\\Proyecto\\Extract_Data.py:61: FutureWarning: Pass y=[ 0.01569835 -0.00379331  0.01663767 ...  0.06896472  0.08004722\n",
      "  0.087486  ], sr=22050 as keyword args. From version 0.10 passing these as positional arguments will result in an error\n",
      "  mfcc = librosa.feature.mfcc(signal[start:finish], sample_rate, n_mfcc=num_mfcc, n_fft=n_fft, hop_length=hop_length)\n",
      "C:\\Users\\danie\\OneDrive - Universidad Tecnológica de Bolívar\\U\\6to Semestre\\Inteligencia Artificial\\Proyecto\\Extract_Data.py:61: FutureWarning: Pass y=[ 0.08837481  0.09337811  0.10260225 ...  0.01733079  0.00769988\n",
      " -0.00018681], sr=22050 as keyword args. From version 0.10 passing these as positional arguments will result in an error\n",
      "  mfcc = librosa.feature.mfcc(signal[start:finish], sample_rate, n_mfcc=num_mfcc, n_fft=n_fft, hop_length=hop_length)\n",
      "C:\\Users\\danie\\OneDrive - Universidad Tecnológica de Bolívar\\U\\6to Semestre\\Inteligencia Artificial\\Proyecto\\Extract_Data.py:61: FutureWarning: Pass y=[-0.00742109 -0.01510452 -0.02197971 ...  0.0129382   0.0098961\n",
      "  0.00720117], sr=22050 as keyword args. From version 0.10 passing these as positional arguments will result in an error\n",
      "  mfcc = librosa.feature.mfcc(signal[start:finish], sample_rate, n_mfcc=num_mfcc, n_fft=n_fft, hop_length=hop_length)\n",
      "C:\\Users\\danie\\OneDrive - Universidad Tecnológica de Bolívar\\U\\6to Semestre\\Inteligencia Artificial\\Proyecto\\Extract_Data.py:61: FutureWarning: Pass y=[ 0.00472873  0.00186324 -0.00112672 ...  0.00069974  0.00063258\n",
      "  0.00057147], sr=22050 as keyword args. From version 0.10 passing these as positional arguments will result in an error\n",
      "  mfcc = librosa.feature.mfcc(signal[start:finish], sample_rate, n_mfcc=num_mfcc, n_fft=n_fft, hop_length=hop_length)\n",
      "C:\\Users\\danie\\OneDrive - Universidad Tecnológica de Bolívar\\U\\6to Semestre\\Inteligencia Artificial\\Proyecto\\Extract_Data.py:61: FutureWarning: Pass y=[6.3103484e-04 7.0382084e-04 6.6659204e-04 ... 2.4598502e-04 1.4687708e-04\n",
      " 9.9110257e-05], sr=22050 as keyword args. From version 0.10 passing these as positional arguments will result in an error\n",
      "  mfcc = librosa.feature.mfcc(signal[start:finish], sample_rate, n_mfcc=num_mfcc, n_fft=n_fft, hop_length=hop_length)\n",
      "C:\\Users\\danie\\OneDrive - Universidad Tecnológica de Bolívar\\U\\6to Semestre\\Inteligencia Artificial\\Proyecto\\Extract_Data.py:61: FutureWarning: Pass y=[8.9289526e-05 9.5290961e-05 1.7933141e-04 ... 2.9910755e-04 2.3133784e-04\n",
      " 1.8413126e-04], sr=22050 as keyword args. From version 0.10 passing these as positional arguments will result in an error\n",
      "  mfcc = librosa.feature.mfcc(signal[start:finish], sample_rate, n_mfcc=num_mfcc, n_fft=n_fft, hop_length=hop_length)\n"
     ]
    },
    {
     "name": "stdout",
     "output_type": "stream",
     "text": [
      "Audios/Familia Ospina\\Ospina 4.wav, segment:1\n",
      "Audios/Familia Ospina\\Ospina 4.wav, segment:2\n",
      "Audios/Familia Ospina\\Ospina 4.wav, segment:3\n",
      "Audios/Familia Ospina\\Ospina 4.wav, segment:4\n",
      "Audios/Familia Ospina\\Ospina 4.wav, segment:5\n",
      "Audios/Familia Ospina\\Ospina 4.wav, segment:6\n",
      "Audios/Familia Ospina\\Ospina 4.wav, segment:7\n"
     ]
    },
    {
     "name": "stderr",
     "output_type": "stream",
     "text": [
      "C:\\Users\\danie\\OneDrive - Universidad Tecnológica de Bolívar\\U\\6to Semestre\\Inteligencia Artificial\\Proyecto\\Extract_Data.py:61: FutureWarning: Pass y=[-1.9844701e-06  3.4617603e-06 -2.5397916e-05 ... -4.7513988e-02\n",
      " -5.3069472e-02 -5.9069749e-02], sr=22050 as keyword args. From version 0.10 passing these as positional arguments will result in an error\n",
      "  mfcc = librosa.feature.mfcc(signal[start:finish], sample_rate, n_mfcc=num_mfcc, n_fft=n_fft, hop_length=hop_length)\n",
      "C:\\Users\\danie\\OneDrive - Universidad Tecnológica de Bolívar\\U\\6to Semestre\\Inteligencia Artificial\\Proyecto\\Extract_Data.py:61: FutureWarning: Pass y=[-0.06469214 -0.06839364 -0.06960443 ...  0.00029323  0.00098429\n",
      "  0.00094664], sr=22050 as keyword args. From version 0.10 passing these as positional arguments will result in an error\n",
      "  mfcc = librosa.feature.mfcc(signal[start:finish], sample_rate, n_mfcc=num_mfcc, n_fft=n_fft, hop_length=hop_length)\n",
      "C:\\Users\\danie\\OneDrive - Universidad Tecnológica de Bolívar\\U\\6to Semestre\\Inteligencia Artificial\\Proyecto\\Extract_Data.py:61: FutureWarning: Pass y=[7.2743429e-04 5.5530545e-04 4.5826385e-04 ... 3.6669669e-05 6.9909007e-04\n",
      " 9.5306616e-04], sr=22050 as keyword args. From version 0.10 passing these as positional arguments will result in an error\n",
      "  mfcc = librosa.feature.mfcc(signal[start:finish], sample_rate, n_mfcc=num_mfcc, n_fft=n_fft, hop_length=hop_length)\n",
      "C:\\Users\\danie\\OneDrive - Universidad Tecnológica de Bolívar\\U\\6to Semestre\\Inteligencia Artificial\\Proyecto\\Extract_Data.py:61: FutureWarning: Pass y=[0.0010399  0.0006721  0.00031095 ... 0.00701802 0.00629228 0.00539913], sr=22050 as keyword args. From version 0.10 passing these as positional arguments will result in an error\n",
      "  mfcc = librosa.feature.mfcc(signal[start:finish], sample_rate, n_mfcc=num_mfcc, n_fft=n_fft, hop_length=hop_length)\n",
      "C:\\Users\\danie\\OneDrive - Universidad Tecnológica de Bolívar\\U\\6to Semestre\\Inteligencia Artificial\\Proyecto\\Extract_Data.py:61: FutureWarning: Pass y=[ 0.00418298  0.00282644  0.00137304 ... -0.00054876 -0.00045302\n",
      " -0.00028526], sr=22050 as keyword args. From version 0.10 passing these as positional arguments will result in an error\n",
      "  mfcc = librosa.feature.mfcc(signal[start:finish], sample_rate, n_mfcc=num_mfcc, n_fft=n_fft, hop_length=hop_length)\n",
      "C:\\Users\\danie\\OneDrive - Universidad Tecnológica de Bolívar\\U\\6to Semestre\\Inteligencia Artificial\\Proyecto\\Extract_Data.py:61: FutureWarning: Pass y=[-1.9291534e-04 -6.8110356e-05  1.3349760e-04 ...  5.1113102e-04\n",
      "  5.5093883e-04  3.1040076e-04], sr=22050 as keyword args. From version 0.10 passing these as positional arguments will result in an error\n",
      "  mfcc = librosa.feature.mfcc(signal[start:finish], sample_rate, n_mfcc=num_mfcc, n_fft=n_fft, hop_length=hop_length)\n",
      "C:\\Users\\danie\\OneDrive - Universidad Tecnológica de Bolívar\\U\\6to Semestre\\Inteligencia Artificial\\Proyecto\\Extract_Data.py:61: FutureWarning: Pass y=[-0.00095335 -0.00142733 -0.00066966 ...  0.00908881  0.01163032\n",
      "  0.00618844], sr=22050 as keyword args. From version 0.10 passing these as positional arguments will result in an error\n",
      "  mfcc = librosa.feature.mfcc(signal[start:finish], sample_rate, n_mfcc=num_mfcc, n_fft=n_fft, hop_length=hop_length)\n"
     ]
    },
    {
     "name": "stdout",
     "output_type": "stream",
     "text": [
      "Audios/Familia Ospina\\Ospina 5.wav, segment:1\n",
      "Audios/Familia Ospina\\Ospina 5.wav, segment:2\n",
      "Audios/Familia Ospina\\Ospina 5.wav, segment:3\n",
      "Audios/Familia Ospina\\Ospina 5.wav, segment:4\n",
      "Audios/Familia Ospina\\Ospina 5.wav, segment:5\n",
      "Audios/Familia Ospina\\Ospina 5.wav, segment:6\n",
      "Audios/Familia Ospina\\Ospina 5.wav, segment:7\n",
      "\n",
      "Processing: Familia Pena\n"
     ]
    },
    {
     "name": "stderr",
     "output_type": "stream",
     "text": [
      "C:\\Users\\danie\\OneDrive - Universidad Tecnológica de Bolívar\\U\\6to Semestre\\Inteligencia Artificial\\Proyecto\\Extract_Data.py:61: FutureWarning: Pass y=[-7.8615476e-06 -6.6506859e-06  1.3326343e-07 ... -1.0052960e-03\n",
      " -1.2128724e-04 -3.8125933e-04], sr=22050 as keyword args. From version 0.10 passing these as positional arguments will result in an error\n",
      "  mfcc = librosa.feature.mfcc(signal[start:finish], sample_rate, n_mfcc=num_mfcc, n_fft=n_fft, hop_length=hop_length)\n",
      "C:\\Users\\danie\\OneDrive - Universidad Tecnológica de Bolívar\\U\\6to Semestre\\Inteligencia Artificial\\Proyecto\\Extract_Data.py:61: FutureWarning: Pass y=[-0.00040708  0.00092962  0.00033541 ...  0.00140528  0.00087206\n",
      "  0.0014699 ], sr=22050 as keyword args. From version 0.10 passing these as positional arguments will result in an error\n",
      "  mfcc = librosa.feature.mfcc(signal[start:finish], sample_rate, n_mfcc=num_mfcc, n_fft=n_fft, hop_length=hop_length)\n",
      "C:\\Users\\danie\\OneDrive - Universidad Tecnológica de Bolívar\\U\\6to Semestre\\Inteligencia Artificial\\Proyecto\\Extract_Data.py:61: FutureWarning: Pass y=[ 0.00118537  0.00150057  0.00200351 ...  0.0011008  -0.00183441\n",
      " -0.00215185], sr=22050 as keyword args. From version 0.10 passing these as positional arguments will result in an error\n",
      "  mfcc = librosa.feature.mfcc(signal[start:finish], sample_rate, n_mfcc=num_mfcc, n_fft=n_fft, hop_length=hop_length)\n",
      "C:\\Users\\danie\\OneDrive - Universidad Tecnológica de Bolívar\\U\\6to Semestre\\Inteligencia Artificial\\Proyecto\\Extract_Data.py:61: FutureWarning: Pass y=[-0.00526065 -0.00266989 -0.00146787 ...  0.02735282  0.03063743\n",
      "  0.03374847], sr=22050 as keyword args. From version 0.10 passing these as positional arguments will result in an error\n",
      "  mfcc = librosa.feature.mfcc(signal[start:finish], sample_rate, n_mfcc=num_mfcc, n_fft=n_fft, hop_length=hop_length)\n",
      "C:\\Users\\danie\\OneDrive - Universidad Tecnológica de Bolívar\\U\\6to Semestre\\Inteligencia Artificial\\Proyecto\\Extract_Data.py:61: FutureWarning: Pass y=[ 0.03872124  0.03983874  0.03848641 ... -0.03446873 -0.0344217\n",
      " -0.03146247], sr=22050 as keyword args. From version 0.10 passing these as positional arguments will result in an error\n",
      "  mfcc = librosa.feature.mfcc(signal[start:finish], sample_rate, n_mfcc=num_mfcc, n_fft=n_fft, hop_length=hop_length)\n",
      "C:\\Users\\danie\\OneDrive - Universidad Tecnológica de Bolívar\\U\\6to Semestre\\Inteligencia Artificial\\Proyecto\\Extract_Data.py:61: FutureWarning: Pass y=[-0.02975221 -0.0298891  -0.02753694 ... -0.00427915 -0.00566387\n",
      " -0.00477668], sr=22050 as keyword args. From version 0.10 passing these as positional arguments will result in an error\n",
      "  mfcc = librosa.feature.mfcc(signal[start:finish], sample_rate, n_mfcc=num_mfcc, n_fft=n_fft, hop_length=hop_length)\n",
      "C:\\Users\\danie\\OneDrive - Universidad Tecnológica de Bolívar\\U\\6to Semestre\\Inteligencia Artificial\\Proyecto\\Extract_Data.py:61: FutureWarning: Pass y=[-0.00563753 -0.0057203  -0.00503034 ...  0.03675857  0.02807127\n",
      "  0.01406473], sr=22050 as keyword args. From version 0.10 passing these as positional arguments will result in an error\n",
      "  mfcc = librosa.feature.mfcc(signal[start:finish], sample_rate, n_mfcc=num_mfcc, n_fft=n_fft, hop_length=hop_length)\n"
     ]
    },
    {
     "name": "stdout",
     "output_type": "stream",
     "text": [
      "Audios/Familia Pena\\Pena 1.wav, segment:1\n",
      "Audios/Familia Pena\\Pena 1.wav, segment:2\n",
      "Audios/Familia Pena\\Pena 1.wav, segment:3\n",
      "Audios/Familia Pena\\Pena 1.wav, segment:4\n",
      "Audios/Familia Pena\\Pena 1.wav, segment:5\n",
      "Audios/Familia Pena\\Pena 1.wav, segment:6\n",
      "Audios/Familia Pena\\Pena 1.wav, segment:7\n"
     ]
    },
    {
     "name": "stderr",
     "output_type": "stream",
     "text": [
      "C:\\Users\\danie\\OneDrive - Universidad Tecnológica de Bolívar\\U\\6to Semestre\\Inteligencia Artificial\\Proyecto\\Extract_Data.py:61: FutureWarning: Pass y=[7.4432114e-06 3.3955854e-05 6.4737969e-06 ... 5.2511664e-03 6.1249295e-03\n",
      " 7.7227089e-03], sr=22050 as keyword args. From version 0.10 passing these as positional arguments will result in an error\n",
      "  mfcc = librosa.feature.mfcc(signal[start:finish], sample_rate, n_mfcc=num_mfcc, n_fft=n_fft, hop_length=hop_length)\n",
      "C:\\Users\\danie\\OneDrive - Universidad Tecnológica de Bolívar\\U\\6to Semestre\\Inteligencia Artificial\\Proyecto\\Extract_Data.py:61: FutureWarning: Pass y=[0.00957182 0.01101378 0.01085704 ... 0.02567033 0.02825803 0.03125659], sr=22050 as keyword args. From version 0.10 passing these as positional arguments will result in an error\n",
      "  mfcc = librosa.feature.mfcc(signal[start:finish], sample_rate, n_mfcc=num_mfcc, n_fft=n_fft, hop_length=hop_length)\n",
      "C:\\Users\\danie\\OneDrive - Universidad Tecnológica de Bolívar\\U\\6to Semestre\\Inteligencia Artificial\\Proyecto\\Extract_Data.py:61: FutureWarning: Pass y=[ 0.03426615  0.03750061  0.04043322 ... -0.00190945 -0.00195714\n",
      " -0.00210041], sr=22050 as keyword args. From version 0.10 passing these as positional arguments will result in an error\n",
      "  mfcc = librosa.feature.mfcc(signal[start:finish], sample_rate, n_mfcc=num_mfcc, n_fft=n_fft, hop_length=hop_length)\n",
      "C:\\Users\\danie\\OneDrive - Universidad Tecnológica de Bolívar\\U\\6to Semestre\\Inteligencia Artificial\\Proyecto\\Extract_Data.py:61: FutureWarning: Pass y=[-2.2915953e-03 -2.4744666e-03 -2.7158065e-03 ... -4.4289667e-12\n",
      "  1.8654208e-12 -2.9651913e-13], sr=22050 as keyword args. From version 0.10 passing these as positional arguments will result in an error\n",
      "  mfcc = librosa.feature.mfcc(signal[start:finish], sample_rate, n_mfcc=num_mfcc, n_fft=n_fft, hop_length=hop_length)\n",
      "C:\\Users\\danie\\OneDrive - Universidad Tecnológica de Bolívar\\U\\6to Semestre\\Inteligencia Artificial\\Proyecto\\Extract_Data.py:61: FutureWarning: Pass y=[0.         0.         0.         ... 0.00010321 0.00012623 0.00016396], sr=22050 as keyword args. From version 0.10 passing these as positional arguments will result in an error\n",
      "  mfcc = librosa.feature.mfcc(signal[start:finish], sample_rate, n_mfcc=num_mfcc, n_fft=n_fft, hop_length=hop_length)\n",
      "C:\\Users\\danie\\OneDrive - Universidad Tecnológica de Bolívar\\U\\6to Semestre\\Inteligencia Artificial\\Proyecto\\Extract_Data.py:61: FutureWarning: Pass y=[0.00018582 0.00024779 0.00027553 ... 0.01685352 0.01691379 0.0150132 ], sr=22050 as keyword args. From version 0.10 passing these as positional arguments will result in an error\n",
      "  mfcc = librosa.feature.mfcc(signal[start:finish], sample_rate, n_mfcc=num_mfcc, n_fft=n_fft, hop_length=hop_length)\n",
      "C:\\Users\\danie\\OneDrive - Universidad Tecnológica de Bolívar\\U\\6to Semestre\\Inteligencia Artificial\\Proyecto\\Extract_Data.py:61: FutureWarning: Pass y=[ 9.7323162e-03  4.3286951e-03  1.5655230e-03 ...  1.2801796e-07\n",
      " -9.0892961e-08  5.8351702e-08], sr=22050 as keyword args. From version 0.10 passing these as positional arguments will result in an error\n",
      "  mfcc = librosa.feature.mfcc(signal[start:finish], sample_rate, n_mfcc=num_mfcc, n_fft=n_fft, hop_length=hop_length)\n"
     ]
    },
    {
     "name": "stdout",
     "output_type": "stream",
     "text": [
      "Audios/Familia Pena\\Pena 2.wav, segment:1\n",
      "Audios/Familia Pena\\Pena 2.wav, segment:2\n",
      "Audios/Familia Pena\\Pena 2.wav, segment:3\n",
      "Audios/Familia Pena\\Pena 2.wav, segment:4\n",
      "Audios/Familia Pena\\Pena 2.wav, segment:5\n",
      "Audios/Familia Pena\\Pena 2.wav, segment:6\n"
     ]
    },
    {
     "name": "stderr",
     "output_type": "stream",
     "text": [
      "C:\\Users\\danie\\OneDrive - Universidad Tecnológica de Bolívar\\U\\6to Semestre\\Inteligencia Artificial\\Proyecto\\Extract_Data.py:61: FutureWarning: Pass y=[-1.6269234e-06  2.6351865e-06 -2.5575877e-05 ... -1.1864158e-04\n",
      " -1.0317725e-04 -8.9544403e-05], sr=22050 as keyword args. From version 0.10 passing these as positional arguments will result in an error\n",
      "  mfcc = librosa.feature.mfcc(signal[start:finish], sample_rate, n_mfcc=num_mfcc, n_fft=n_fft, hop_length=hop_length)\n",
      "C:\\Users\\danie\\OneDrive - Universidad Tecnológica de Bolívar\\U\\6to Semestre\\Inteligencia Artificial\\Proyecto\\Extract_Data.py:61: FutureWarning: Pass y=[-9.14276170e-05 -1.04886036e-04 -1.23992024e-04 ...  2.12723427e-02\n",
      "  1.93972476e-02  1.52999694e-02], sr=22050 as keyword args. From version 0.10 passing these as positional arguments will result in an error\n",
      "  mfcc = librosa.feature.mfcc(signal[start:finish], sample_rate, n_mfcc=num_mfcc, n_fft=n_fft, hop_length=hop_length)\n",
      "C:\\Users\\danie\\OneDrive - Universidad Tecnológica de Bolívar\\U\\6to Semestre\\Inteligencia Artificial\\Proyecto\\Extract_Data.py:61: FutureWarning: Pass y=[ 0.0123779   0.00828843  0.00172718 ... -0.07640004 -0.07796214\n",
      " -0.07736465], sr=22050 as keyword args. From version 0.10 passing these as positional arguments will result in an error\n",
      "  mfcc = librosa.feature.mfcc(signal[start:finish], sample_rate, n_mfcc=num_mfcc, n_fft=n_fft, hop_length=hop_length)\n",
      "C:\\Users\\danie\\OneDrive - Universidad Tecnológica de Bolívar\\U\\6to Semestre\\Inteligencia Artificial\\Proyecto\\Extract_Data.py:61: FutureWarning: Pass y=[-7.8337692e-02 -8.1175156e-02 -8.2894593e-02 ... -3.9351391e-05\n",
      "  1.6507747e-05  3.1597738e-05], sr=22050 as keyword args. From version 0.10 passing these as positional arguments will result in an error\n",
      "  mfcc = librosa.feature.mfcc(signal[start:finish], sample_rate, n_mfcc=num_mfcc, n_fft=n_fft, hop_length=hop_length)\n",
      "C:\\Users\\danie\\OneDrive - Universidad Tecnológica de Bolívar\\U\\6to Semestre\\Inteligencia Artificial\\Proyecto\\Extract_Data.py:61: FutureWarning: Pass y=[ 3.2988592e-05  8.8384746e-05  1.4032325e-04 ... -4.3022289e-04\n",
      " -4.0568071e-04 -4.1261484e-04], sr=22050 as keyword args. From version 0.10 passing these as positional arguments will result in an error\n",
      "  mfcc = librosa.feature.mfcc(signal[start:finish], sample_rate, n_mfcc=num_mfcc, n_fft=n_fft, hop_length=hop_length)\n",
      "C:\\Users\\danie\\OneDrive - Universidad Tecnológica de Bolívar\\U\\6to Semestre\\Inteligencia Artificial\\Proyecto\\Extract_Data.py:61: FutureWarning: Pass y=[-0.0005155  -0.00059854 -0.00061454 ...  0.00020747  0.00016625\n",
      "  0.00015354], sr=22050 as keyword args. From version 0.10 passing these as positional arguments will result in an error\n",
      "  mfcc = librosa.feature.mfcc(signal[start:finish], sample_rate, n_mfcc=num_mfcc, n_fft=n_fft, hop_length=hop_length)\n",
      "C:\\Users\\danie\\OneDrive - Universidad Tecnológica de Bolívar\\U\\6to Semestre\\Inteligencia Artificial\\Proyecto\\Extract_Data.py:61: FutureWarning: Pass y=[ 1.4460871e-04  8.6563778e-05  9.5367586e-06 ... -7.6858087e-05\n",
      " -4.4325883e-05 -2.9696099e-05], sr=22050 as keyword args. From version 0.10 passing these as positional arguments will result in an error\n",
      "  mfcc = librosa.feature.mfcc(signal[start:finish], sample_rate, n_mfcc=num_mfcc, n_fft=n_fft, hop_length=hop_length)\n"
     ]
    },
    {
     "name": "stdout",
     "output_type": "stream",
     "text": [
      "Audios/Familia Pena\\Pena 3.wav, segment:1\n",
      "Audios/Familia Pena\\Pena 3.wav, segment:2\n",
      "Audios/Familia Pena\\Pena 3.wav, segment:3\n",
      "Audios/Familia Pena\\Pena 3.wav, segment:4\n",
      "Audios/Familia Pena\\Pena 3.wav, segment:5\n",
      "Audios/Familia Pena\\Pena 3.wav, segment:6\n",
      "Audios/Familia Pena\\Pena 3.wav, segment:7\n",
      "\n",
      "Processing: Familia Pertuz\n"
     ]
    },
    {
     "name": "stderr",
     "output_type": "stream",
     "text": [
      "C:\\Users\\danie\\OneDrive - Universidad Tecnológica de Bolívar\\U\\6to Semestre\\Inteligencia Artificial\\Proyecto\\Extract_Data.py:61: FutureWarning: Pass y=[-1.6269234e-06  2.6351865e-06 -2.5575877e-05 ... -2.5483784e-03\n",
      " -2.1196888e-03 -1.7971353e-03], sr=22050 as keyword args. From version 0.10 passing these as positional arguments will result in an error\n",
      "  mfcc = librosa.feature.mfcc(signal[start:finish], sample_rate, n_mfcc=num_mfcc, n_fft=n_fft, hop_length=hop_length)\n",
      "C:\\Users\\danie\\OneDrive - Universidad Tecnológica de Bolívar\\U\\6to Semestre\\Inteligencia Artificial\\Proyecto\\Extract_Data.py:61: FutureWarning: Pass y=[-0.00141951 -0.0011838  -0.0010897  ...  0.01189768  0.01532027\n",
      "  0.02010691], sr=22050 as keyword args. From version 0.10 passing these as positional arguments will result in an error\n",
      "  mfcc = librosa.feature.mfcc(signal[start:finish], sample_rate, n_mfcc=num_mfcc, n_fft=n_fft, hop_length=hop_length)\n",
      "C:\\Users\\danie\\OneDrive - Universidad Tecnológica de Bolívar\\U\\6to Semestre\\Inteligencia Artificial\\Proyecto\\Extract_Data.py:61: FutureWarning: Pass y=[0.02354341 0.02514921 0.02355556 ... 0.00033594 0.00054385 0.0006361 ], sr=22050 as keyword args. From version 0.10 passing these as positional arguments will result in an error\n",
      "  mfcc = librosa.feature.mfcc(signal[start:finish], sample_rate, n_mfcc=num_mfcc, n_fft=n_fft, hop_length=hop_length)\n",
      "C:\\Users\\danie\\OneDrive - Universidad Tecnológica de Bolívar\\U\\6to Semestre\\Inteligencia Artificial\\Proyecto\\Extract_Data.py:61: FutureWarning: Pass y=[ 0.00051764  0.00034455  0.0001116  ... -0.00888311 -0.00967143\n",
      " -0.00987332], sr=22050 as keyword args. From version 0.10 passing these as positional arguments will result in an error\n",
      "  mfcc = librosa.feature.mfcc(signal[start:finish], sample_rate, n_mfcc=num_mfcc, n_fft=n_fft, hop_length=hop_length)\n",
      "C:\\Users\\danie\\OneDrive - Universidad Tecnológica de Bolívar\\U\\6to Semestre\\Inteligencia Artificial\\Proyecto\\Extract_Data.py:61: FutureWarning: Pass y=[-0.00931957 -0.00935412 -0.00932097 ...  0.00261996  0.00269233\n",
      "  0.00277938], sr=22050 as keyword args. From version 0.10 passing these as positional arguments will result in an error\n",
      "  mfcc = librosa.feature.mfcc(signal[start:finish], sample_rate, n_mfcc=num_mfcc, n_fft=n_fft, hop_length=hop_length)\n",
      "C:\\Users\\danie\\OneDrive - Universidad Tecnológica de Bolívar\\U\\6to Semestre\\Inteligencia Artificial\\Proyecto\\Extract_Data.py:61: FutureWarning: Pass y=[ 0.0031727   0.00281295  0.00156737 ... -0.00434956 -0.00435866\n",
      " -0.00392927], sr=22050 as keyword args. From version 0.10 passing these as positional arguments will result in an error\n",
      "  mfcc = librosa.feature.mfcc(signal[start:finish], sample_rate, n_mfcc=num_mfcc, n_fft=n_fft, hop_length=hop_length)\n",
      "C:\\Users\\danie\\OneDrive - Universidad Tecnológica de Bolívar\\U\\6to Semestre\\Inteligencia Artificial\\Proyecto\\Extract_Data.py:61: FutureWarning: Pass y=[-0.00352254 -0.0041224  -0.00466454 ... -0.00172887 -0.00154832\n",
      " -0.00221261], sr=22050 as keyword args. From version 0.10 passing these as positional arguments will result in an error\n",
      "  mfcc = librosa.feature.mfcc(signal[start:finish], sample_rate, n_mfcc=num_mfcc, n_fft=n_fft, hop_length=hop_length)\n"
     ]
    },
    {
     "name": "stdout",
     "output_type": "stream",
     "text": [
      "Audios/Familia Pertuz\\Pertuz1.wav, segment:1\n",
      "Audios/Familia Pertuz\\Pertuz1.wav, segment:2\n",
      "Audios/Familia Pertuz\\Pertuz1.wav, segment:3\n",
      "Audios/Familia Pertuz\\Pertuz1.wav, segment:4\n",
      "Audios/Familia Pertuz\\Pertuz1.wav, segment:5\n",
      "Audios/Familia Pertuz\\Pertuz1.wav, segment:6\n",
      "Audios/Familia Pertuz\\Pertuz1.wav, segment:7\n"
     ]
    },
    {
     "name": "stderr",
     "output_type": "stream",
     "text": [
      "C:\\Users\\danie\\OneDrive - Universidad Tecnológica de Bolívar\\U\\6to Semestre\\Inteligencia Artificial\\Proyecto\\Extract_Data.py:61: FutureWarning: Pass y=[-1.6269234e-06  2.6351865e-06 -2.5575877e-05 ... -1.7043937e-02\n",
      " -2.0163128e-02 -2.0415008e-02], sr=22050 as keyword args. From version 0.10 passing these as positional arguments will result in an error\n",
      "  mfcc = librosa.feature.mfcc(signal[start:finish], sample_rate, n_mfcc=num_mfcc, n_fft=n_fft, hop_length=hop_length)\n",
      "C:\\Users\\danie\\OneDrive - Universidad Tecnológica de Bolívar\\U\\6to Semestre\\Inteligencia Artificial\\Proyecto\\Extract_Data.py:61: FutureWarning: Pass y=[-0.01909396 -0.01712901 -0.01622542 ...  0.00039146 -0.00033179\n",
      " -0.00179003], sr=22050 as keyword args. From version 0.10 passing these as positional arguments will result in an error\n",
      "  mfcc = librosa.feature.mfcc(signal[start:finish], sample_rate, n_mfcc=num_mfcc, n_fft=n_fft, hop_length=hop_length)\n",
      "C:\\Users\\danie\\OneDrive - Universidad Tecnológica de Bolívar\\U\\6to Semestre\\Inteligencia Artificial\\Proyecto\\Extract_Data.py:61: FutureWarning: Pass y=[-2.1175139e-03 -2.1175593e-03 -2.4911410e-03 ... -1.3217297e-04\n",
      "  2.9806592e-05  6.0879214e-05], sr=22050 as keyword args. From version 0.10 passing these as positional arguments will result in an error\n",
      "  mfcc = librosa.feature.mfcc(signal[start:finish], sample_rate, n_mfcc=num_mfcc, n_fft=n_fft, hop_length=hop_length)\n",
      "C:\\Users\\danie\\OneDrive - Universidad Tecnológica de Bolívar\\U\\6to Semestre\\Inteligencia Artificial\\Proyecto\\Extract_Data.py:61: FutureWarning: Pass y=[7.0868868e-05 1.3700304e-04 1.1194660e-04 ... 5.4323566e-03 3.5351689e-03\n",
      " 2.0489432e-03], sr=22050 as keyword args. From version 0.10 passing these as positional arguments will result in an error\n",
      "  mfcc = librosa.feature.mfcc(signal[start:finish], sample_rate, n_mfcc=num_mfcc, n_fft=n_fft, hop_length=hop_length)\n",
      "C:\\Users\\danie\\OneDrive - Universidad Tecnológica de Bolívar\\U\\6to Semestre\\Inteligencia Artificial\\Proyecto\\Extract_Data.py:61: FutureWarning: Pass y=[0.00122428 0.00086429 0.000603   ... 0.00027297 0.00035186 0.00123835], sr=22050 as keyword args. From version 0.10 passing these as positional arguments will result in an error\n",
      "  mfcc = librosa.feature.mfcc(signal[start:finish], sample_rate, n_mfcc=num_mfcc, n_fft=n_fft, hop_length=hop_length)\n",
      "C:\\Users\\danie\\OneDrive - Universidad Tecnológica de Bolívar\\U\\6to Semestre\\Inteligencia Artificial\\Proyecto\\Extract_Data.py:61: FutureWarning: Pass y=[ 0.00193637  0.00201912  0.00213289 ... -0.01437284 -0.01430535\n",
      " -0.01438186], sr=22050 as keyword args. From version 0.10 passing these as positional arguments will result in an error\n",
      "  mfcc = librosa.feature.mfcc(signal[start:finish], sample_rate, n_mfcc=num_mfcc, n_fft=n_fft, hop_length=hop_length)\n",
      "C:\\Users\\danie\\OneDrive - Universidad Tecnológica de Bolívar\\U\\6to Semestre\\Inteligencia Artificial\\Proyecto\\Extract_Data.py:61: FutureWarning: Pass y=[-0.01591616 -0.01920432 -0.0230981  ... -0.00071868 -0.00526777\n",
      " -0.00793716], sr=22050 as keyword args. From version 0.10 passing these as positional arguments will result in an error\n",
      "  mfcc = librosa.feature.mfcc(signal[start:finish], sample_rate, n_mfcc=num_mfcc, n_fft=n_fft, hop_length=hop_length)\n"
     ]
    },
    {
     "name": "stdout",
     "output_type": "stream",
     "text": [
      "Audios/Familia Pertuz\\Pertuz2.wav, segment:1\n",
      "Audios/Familia Pertuz\\Pertuz2.wav, segment:2\n",
      "Audios/Familia Pertuz\\Pertuz2.wav, segment:3\n",
      "Audios/Familia Pertuz\\Pertuz2.wav, segment:4\n",
      "Audios/Familia Pertuz\\Pertuz2.wav, segment:5\n",
      "Audios/Familia Pertuz\\Pertuz2.wav, segment:6\n",
      "Audios/Familia Pertuz\\Pertuz2.wav, segment:7\n"
     ]
    },
    {
     "name": "stderr",
     "output_type": "stream",
     "text": [
      "C:\\Users\\danie\\OneDrive - Universidad Tecnológica de Bolívar\\U\\6to Semestre\\Inteligencia Artificial\\Proyecto\\Extract_Data.py:61: FutureWarning: Pass y=[-1.62692345e-06  2.63518655e-06 -2.55758769e-05 ... -1.05338879e-02\n",
      "  1.07476255e-02  3.11782174e-02], sr=22050 as keyword args. From version 0.10 passing these as positional arguments will result in an error\n",
      "  mfcc = librosa.feature.mfcc(signal[start:finish], sample_rate, n_mfcc=num_mfcc, n_fft=n_fft, hop_length=hop_length)\n",
      "C:\\Users\\danie\\OneDrive - Universidad Tecnológica de Bolívar\\U\\6to Semestre\\Inteligencia Artificial\\Proyecto\\Extract_Data.py:61: FutureWarning: Pass y=[ 0.00719336 -0.02129317 -0.00121454 ... -0.1702107  -0.15369383\n",
      " -0.12495487], sr=22050 as keyword args. From version 0.10 passing these as positional arguments will result in an error\n",
      "  mfcc = librosa.feature.mfcc(signal[start:finish], sample_rate, n_mfcc=num_mfcc, n_fft=n_fft, hop_length=hop_length)\n",
      "C:\\Users\\danie\\OneDrive - Universidad Tecnológica de Bolívar\\U\\6to Semestre\\Inteligencia Artificial\\Proyecto\\Extract_Data.py:61: FutureWarning: Pass y=[-0.09012888 -0.06120669 -0.04165271 ... -0.02062215 -0.01364236\n",
      " -0.00643264], sr=22050 as keyword args. From version 0.10 passing these as positional arguments will result in an error\n",
      "  mfcc = librosa.feature.mfcc(signal[start:finish], sample_rate, n_mfcc=num_mfcc, n_fft=n_fft, hop_length=hop_length)\n",
      "C:\\Users\\danie\\OneDrive - Universidad Tecnológica de Bolívar\\U\\6to Semestre\\Inteligencia Artificial\\Proyecto\\Extract_Data.py:61: FutureWarning: Pass y=[ 0.0019554   0.01170431  0.02189191 ... -0.000162   -0.00053208\n",
      "  0.00071296], sr=22050 as keyword args. From version 0.10 passing these as positional arguments will result in an error\n",
      "  mfcc = librosa.feature.mfcc(signal[start:finish], sample_rate, n_mfcc=num_mfcc, n_fft=n_fft, hop_length=hop_length)\n",
      "C:\\Users\\danie\\OneDrive - Universidad Tecnológica de Bolívar\\U\\6to Semestre\\Inteligencia Artificial\\Proyecto\\Extract_Data.py:61: FutureWarning: Pass y=[ 0.00124456  0.00119012  0.00125158 ... -0.08974101 -0.07979297\n",
      " -0.0391426 ], sr=22050 as keyword args. From version 0.10 passing these as positional arguments will result in an error\n",
      "  mfcc = librosa.feature.mfcc(signal[start:finish], sample_rate, n_mfcc=num_mfcc, n_fft=n_fft, hop_length=hop_length)\n",
      "C:\\Users\\danie\\OneDrive - Universidad Tecnológica de Bolívar\\U\\6to Semestre\\Inteligencia Artificial\\Proyecto\\Extract_Data.py:61: FutureWarning: Pass y=[ 0.03129413  0.11592453  0.18913242 ... -0.08087712 -0.10297376\n",
      " -0.11296217], sr=22050 as keyword args. From version 0.10 passing these as positional arguments will result in an error\n",
      "  mfcc = librosa.feature.mfcc(signal[start:finish], sample_rate, n_mfcc=num_mfcc, n_fft=n_fft, hop_length=hop_length)\n",
      "C:\\Users\\danie\\OneDrive - Universidad Tecnológica de Bolívar\\U\\6to Semestre\\Inteligencia Artificial\\Proyecto\\Extract_Data.py:61: FutureWarning: Pass y=[-0.11043764 -0.10526403 -0.10429274 ...  0.09739773  0.11428782\n",
      "  0.12262048], sr=22050 as keyword args. From version 0.10 passing these as positional arguments will result in an error\n",
      "  mfcc = librosa.feature.mfcc(signal[start:finish], sample_rate, n_mfcc=num_mfcc, n_fft=n_fft, hop_length=hop_length)\n"
     ]
    },
    {
     "name": "stdout",
     "output_type": "stream",
     "text": [
      "Audios/Familia Pertuz\\Pertuz3.wav, segment:1\n",
      "Audios/Familia Pertuz\\Pertuz3.wav, segment:2\n",
      "Audios/Familia Pertuz\\Pertuz3.wav, segment:3\n",
      "Audios/Familia Pertuz\\Pertuz3.wav, segment:4\n",
      "Audios/Familia Pertuz\\Pertuz3.wav, segment:5\n",
      "Audios/Familia Pertuz\\Pertuz3.wav, segment:6\n",
      "Audios/Familia Pertuz\\Pertuz3.wav, segment:7\n",
      "\n",
      "Processing: Familia Puentes\n"
     ]
    },
    {
     "name": "stderr",
     "output_type": "stream",
     "text": [
      "C:\\Users\\danie\\OneDrive - Universidad Tecnológica de Bolívar\\U\\6to Semestre\\Inteligencia Artificial\\Proyecto\\Extract_Data.py:61: FutureWarning: Pass y=[ 0.          0.          0.         ... -0.00461831 -0.00382013\n",
      " -0.00235156], sr=22050 as keyword args. From version 0.10 passing these as positional arguments will result in an error\n",
      "  mfcc = librosa.feature.mfcc(signal[start:finish], sample_rate, n_mfcc=num_mfcc, n_fft=n_fft, hop_length=hop_length)\n",
      "C:\\Users\\danie\\OneDrive - Universidad Tecnológica de Bolívar\\U\\6to Semestre\\Inteligencia Artificial\\Proyecto\\Extract_Data.py:61: FutureWarning: Pass y=[-0.00118912 -0.0014513  -0.00224113 ...  0.00617268  0.00582415\n",
      "  0.00536665], sr=22050 as keyword args. From version 0.10 passing these as positional arguments will result in an error\n",
      "  mfcc = librosa.feature.mfcc(signal[start:finish], sample_rate, n_mfcc=num_mfcc, n_fft=n_fft, hop_length=hop_length)\n",
      "C:\\Users\\danie\\OneDrive - Universidad Tecnológica de Bolívar\\U\\6to Semestre\\Inteligencia Artificial\\Proyecto\\Extract_Data.py:61: FutureWarning: Pass y=[0.00536407 0.0055655  0.00581754 ... 0.06028507 0.05812825 0.05448357], sr=22050 as keyword args. From version 0.10 passing these as positional arguments will result in an error\n",
      "  mfcc = librosa.feature.mfcc(signal[start:finish], sample_rate, n_mfcc=num_mfcc, n_fft=n_fft, hop_length=hop_length)\n",
      "C:\\Users\\danie\\OneDrive - Universidad Tecnológica de Bolívar\\U\\6to Semestre\\Inteligencia Artificial\\Proyecto\\Extract_Data.py:61: FutureWarning: Pass y=[ 0.04974682  0.04378073  0.03639465 ... -0.01516837 -0.01225919\n",
      " -0.01391243], sr=22050 as keyword args. From version 0.10 passing these as positional arguments will result in an error\n",
      "  mfcc = librosa.feature.mfcc(signal[start:finish], sample_rate, n_mfcc=num_mfcc, n_fft=n_fft, hop_length=hop_length)\n",
      "C:\\Users\\danie\\OneDrive - Universidad Tecnológica de Bolívar\\U\\6to Semestre\\Inteligencia Artificial\\Proyecto\\Extract_Data.py:61: FutureWarning: Pass y=[-0.01626034 -0.01654908 -0.01582185 ...  0.01208454  0.0018749\n",
      " -0.00170897], sr=22050 as keyword args. From version 0.10 passing these as positional arguments will result in an error\n",
      "  mfcc = librosa.feature.mfcc(signal[start:finish], sample_rate, n_mfcc=num_mfcc, n_fft=n_fft, hop_length=hop_length)\n",
      "C:\\Users\\danie\\OneDrive - Universidad Tecnológica de Bolívar\\U\\6to Semestre\\Inteligencia Artificial\\Proyecto\\Extract_Data.py:61: FutureWarning: Pass y=[ 0.01027339  0.01334    -0.00307063 ... -0.00074351 -0.00013495\n",
      "  0.00058549], sr=22050 as keyword args. From version 0.10 passing these as positional arguments will result in an error\n",
      "  mfcc = librosa.feature.mfcc(signal[start:finish], sample_rate, n_mfcc=num_mfcc, n_fft=n_fft, hop_length=hop_length)\n",
      "C:\\Users\\danie\\OneDrive - Universidad Tecnológica de Bolívar\\U\\6to Semestre\\Inteligencia Artificial\\Proyecto\\Extract_Data.py:61: FutureWarning: Pass y=[0.0006828  0.00051819 0.00044568 ... 0.00171955 0.00142469 0.00159114], sr=22050 as keyword args. From version 0.10 passing these as positional arguments will result in an error\n",
      "  mfcc = librosa.feature.mfcc(signal[start:finish], sample_rate, n_mfcc=num_mfcc, n_fft=n_fft, hop_length=hop_length)\n"
     ]
    },
    {
     "name": "stdout",
     "output_type": "stream",
     "text": [
      "Audios/Familia Puentes\\Puentes 1.wav, segment:1\n",
      "Audios/Familia Puentes\\Puentes 1.wav, segment:2\n",
      "Audios/Familia Puentes\\Puentes 1.wav, segment:3\n",
      "Audios/Familia Puentes\\Puentes 1.wav, segment:4\n",
      "Audios/Familia Puentes\\Puentes 1.wav, segment:5\n",
      "Audios/Familia Puentes\\Puentes 1.wav, segment:6\n"
     ]
    },
    {
     "name": "stderr",
     "output_type": "stream",
     "text": [
      "C:\\Users\\danie\\OneDrive - Universidad Tecnológica de Bolívar\\U\\6to Semestre\\Inteligencia Artificial\\Proyecto\\Extract_Data.py:61: FutureWarning: Pass y=[2.1632872e-05 3.3371514e-05 2.8666769e-05 ... 9.6585071e-03 1.1156827e-02\n",
      " 6.2917005e-03], sr=22050 as keyword args. From version 0.10 passing these as positional arguments will result in an error\n",
      "  mfcc = librosa.feature.mfcc(signal[start:finish], sample_rate, n_mfcc=num_mfcc, n_fft=n_fft, hop_length=hop_length)\n",
      "C:\\Users\\danie\\OneDrive - Universidad Tecnológica de Bolívar\\U\\6to Semestre\\Inteligencia Artificial\\Proyecto\\Extract_Data.py:61: FutureWarning: Pass y=[ 0.00933742 -0.00382697 -0.01183723 ... -0.0161209  -0.01425673\n",
      " -0.00291901], sr=22050 as keyword args. From version 0.10 passing these as positional arguments will result in an error\n",
      "  mfcc = librosa.feature.mfcc(signal[start:finish], sample_rate, n_mfcc=num_mfcc, n_fft=n_fft, hop_length=hop_length)\n",
      "C:\\Users\\danie\\OneDrive - Universidad Tecnológica de Bolívar\\U\\6to Semestre\\Inteligencia Artificial\\Proyecto\\Extract_Data.py:61: FutureWarning: Pass y=[-0.00622467 -0.01706722 -0.00156457 ...  0.00228309 -0.00104537\n",
      " -0.01893667], sr=22050 as keyword args. From version 0.10 passing these as positional arguments will result in an error\n",
      "  mfcc = librosa.feature.mfcc(signal[start:finish], sample_rate, n_mfcc=num_mfcc, n_fft=n_fft, hop_length=hop_length)\n",
      "C:\\Users\\danie\\OneDrive - Universidad Tecnológica de Bolívar\\U\\6to Semestre\\Inteligencia Artificial\\Proyecto\\Extract_Data.py:61: FutureWarning: Pass y=[-0.02428145 -0.01797691 -0.01724603 ... -0.0043923  -0.0074032\n",
      "  0.0002348 ], sr=22050 as keyword args. From version 0.10 passing these as positional arguments will result in an error\n",
      "  mfcc = librosa.feature.mfcc(signal[start:finish], sample_rate, n_mfcc=num_mfcc, n_fft=n_fft, hop_length=hop_length)\n",
      "C:\\Users\\danie\\OneDrive - Universidad Tecnológica de Bolívar\\U\\6to Semestre\\Inteligencia Artificial\\Proyecto\\Extract_Data.py:61: FutureWarning: Pass y=[ 0.0082751   0.00816861  0.00257764 ... -0.0034589  -0.00381275\n",
      " -0.00412199], sr=22050 as keyword args. From version 0.10 passing these as positional arguments will result in an error\n",
      "  mfcc = librosa.feature.mfcc(signal[start:finish], sample_rate, n_mfcc=num_mfcc, n_fft=n_fft, hop_length=hop_length)\n",
      "C:\\Users\\danie\\OneDrive - Universidad Tecnológica de Bolívar\\U\\6to Semestre\\Inteligencia Artificial\\Proyecto\\Extract_Data.py:61: FutureWarning: Pass y=[-0.00390445 -0.00361387 -0.00371525 ...  0.00487973  0.00502436\n",
      "  0.00457628], sr=22050 as keyword args. From version 0.10 passing these as positional arguments will result in an error\n",
      "  mfcc = librosa.feature.mfcc(signal[start:finish], sample_rate, n_mfcc=num_mfcc, n_fft=n_fft, hop_length=hop_length)\n",
      "C:\\Users\\danie\\OneDrive - Universidad Tecnológica de Bolívar\\U\\6to Semestre\\Inteligencia Artificial\\Proyecto\\Extract_Data.py:61: FutureWarning: Pass y=[0.00295878 0.00114453 0.00069695 ... 0.00864829 0.00802546 0.00676401], sr=22050 as keyword args. From version 0.10 passing these as positional arguments will result in an error\n",
      "  mfcc = librosa.feature.mfcc(signal[start:finish], sample_rate, n_mfcc=num_mfcc, n_fft=n_fft, hop_length=hop_length)\n"
     ]
    },
    {
     "name": "stdout",
     "output_type": "stream",
     "text": [
      "Audios/Familia Puentes\\Puentes 2.wav, segment:1\n",
      "Audios/Familia Puentes\\Puentes 2.wav, segment:2\n",
      "Audios/Familia Puentes\\Puentes 2.wav, segment:3\n",
      "Audios/Familia Puentes\\Puentes 2.wav, segment:4\n",
      "Audios/Familia Puentes\\Puentes 2.wav, segment:5\n",
      "Audios/Familia Puentes\\Puentes 2.wav, segment:6\n",
      "Audios/Familia Puentes\\Puentes 2.wav, segment:7\n"
     ]
    },
    {
     "name": "stderr",
     "output_type": "stream",
     "text": [
      "C:\\Users\\danie\\OneDrive - Universidad Tecnológica de Bolívar\\U\\6to Semestre\\Inteligencia Artificial\\Proyecto\\Extract_Data.py:61: FutureWarning: Pass y=[-9.7822817e-07  1.8577859e-06 -7.2429566e-06 ...  3.5708714e-02\n",
      "  3.2541554e-02  3.0913640e-02], sr=22050 as keyword args. From version 0.10 passing these as positional arguments will result in an error\n",
      "  mfcc = librosa.feature.mfcc(signal[start:finish], sample_rate, n_mfcc=num_mfcc, n_fft=n_fft, hop_length=hop_length)\n",
      "C:\\Users\\danie\\OneDrive - Universidad Tecnológica de Bolívar\\U\\6to Semestre\\Inteligencia Artificial\\Proyecto\\Extract_Data.py:61: FutureWarning: Pass y=[ 0.02853099  0.0262263   0.02319074 ... -0.00191519 -0.00220232\n",
      " -0.00285573], sr=22050 as keyword args. From version 0.10 passing these as positional arguments will result in an error\n",
      "  mfcc = librosa.feature.mfcc(signal[start:finish], sample_rate, n_mfcc=num_mfcc, n_fft=n_fft, hop_length=hop_length)\n",
      "C:\\Users\\danie\\OneDrive - Universidad Tecnológica de Bolívar\\U\\6to Semestre\\Inteligencia Artificial\\Proyecto\\Extract_Data.py:61: FutureWarning: Pass y=[-0.00235139 -0.00244078 -0.00253531 ...  0.01049985  0.01266064\n",
      "  0.01421504], sr=22050 as keyword args. From version 0.10 passing these as positional arguments will result in an error\n",
      "  mfcc = librosa.feature.mfcc(signal[start:finish], sample_rate, n_mfcc=num_mfcc, n_fft=n_fft, hop_length=hop_length)\n",
      "C:\\Users\\danie\\OneDrive - Universidad Tecnológica de Bolívar\\U\\6to Semestre\\Inteligencia Artificial\\Proyecto\\Extract_Data.py:61: FutureWarning: Pass y=[ 1.40057011e-02  1.46552101e-02  1.48922345e-02 ...  1.43930694e-04\n",
      " -6.19295170e-05 -1.30423126e-04], sr=22050 as keyword args. From version 0.10 passing these as positional arguments will result in an error\n",
      "  mfcc = librosa.feature.mfcc(signal[start:finish], sample_rate, n_mfcc=num_mfcc, n_fft=n_fft, hop_length=hop_length)\n",
      "C:\\Users\\danie\\OneDrive - Universidad Tecnológica de Bolívar\\U\\6to Semestre\\Inteligencia Artificial\\Proyecto\\Extract_Data.py:61: FutureWarning: Pass y=[-9.5724929e-05 -6.7458212e-05  1.2480567e-04 ...  5.4233585e-02\n",
      "  5.3624112e-02  4.6810687e-02], sr=22050 as keyword args. From version 0.10 passing these as positional arguments will result in an error\n",
      "  mfcc = librosa.feature.mfcc(signal[start:finish], sample_rate, n_mfcc=num_mfcc, n_fft=n_fft, hop_length=hop_length)\n",
      "C:\\Users\\danie\\OneDrive - Universidad Tecnológica de Bolívar\\U\\6to Semestre\\Inteligencia Artificial\\Proyecto\\Extract_Data.py:61: FutureWarning: Pass y=[ 0.04144607  0.04163344  0.04337728 ... -0.00027542 -0.00033716\n",
      " -0.00022066], sr=22050 as keyword args. From version 0.10 passing these as positional arguments will result in an error\n",
      "  mfcc = librosa.feature.mfcc(signal[start:finish], sample_rate, n_mfcc=num_mfcc, n_fft=n_fft, hop_length=hop_length)\n",
      "C:\\Users\\danie\\OneDrive - Universidad Tecnológica de Bolívar\\U\\6to Semestre\\Inteligencia Artificial\\Proyecto\\Extract_Data.py:61: FutureWarning: Pass y=[-0.00055977 -0.00060564 -0.000398   ...  0.0206555   0.0249967\n",
      "  0.02812426], sr=22050 as keyword args. From version 0.10 passing these as positional arguments will result in an error\n",
      "  mfcc = librosa.feature.mfcc(signal[start:finish], sample_rate, n_mfcc=num_mfcc, n_fft=n_fft, hop_length=hop_length)\n"
     ]
    },
    {
     "name": "stdout",
     "output_type": "stream",
     "text": [
      "Audios/Familia Puentes\\Puentes 3.wav, segment:1\n",
      "Audios/Familia Puentes\\Puentes 3.wav, segment:2\n",
      "Audios/Familia Puentes\\Puentes 3.wav, segment:3\n",
      "Audios/Familia Puentes\\Puentes 3.wav, segment:4\n",
      "Audios/Familia Puentes\\Puentes 3.wav, segment:5\n",
      "Audios/Familia Puentes\\Puentes 3.wav, segment:6\n",
      "Audios/Familia Puentes\\Puentes 3.wav, segment:7\n"
     ]
    },
    {
     "name": "stderr",
     "output_type": "stream",
     "text": [
      "C:\\Users\\danie\\OneDrive - Universidad Tecnológica de Bolívar\\U\\6to Semestre\\Inteligencia Artificial\\Proyecto\\Extract_Data.py:61: FutureWarning: Pass y=[-9.7822817e-07  1.8577859e-06 -7.2429566e-06 ... -7.5499789e-04\n",
      "  3.6489621e-03  2.1357883e-03], sr=22050 as keyword args. From version 0.10 passing these as positional arguments will result in an error\n",
      "  mfcc = librosa.feature.mfcc(signal[start:finish], sample_rate, n_mfcc=num_mfcc, n_fft=n_fft, hop_length=hop_length)\n",
      "C:\\Users\\danie\\OneDrive - Universidad Tecnológica de Bolívar\\U\\6to Semestre\\Inteligencia Artificial\\Proyecto\\Extract_Data.py:61: FutureWarning: Pass y=[ 0.0015533   0.0016155   0.00168668 ... -0.0009411  -0.00207955\n",
      " -0.00161041], sr=22050 as keyword args. From version 0.10 passing these as positional arguments will result in an error\n",
      "  mfcc = librosa.feature.mfcc(signal[start:finish], sample_rate, n_mfcc=num_mfcc, n_fft=n_fft, hop_length=hop_length)\n",
      "C:\\Users\\danie\\OneDrive - Universidad Tecnológica de Bolívar\\U\\6to Semestre\\Inteligencia Artificial\\Proyecto\\Extract_Data.py:61: FutureWarning: Pass y=[-4.2136768e-03  2.5612218e-03  1.0781274e-02 ... -2.1620223e-04\n",
      " -2.8615558e-04  3.0960291e-05], sr=22050 as keyword args. From version 0.10 passing these as positional arguments will result in an error\n",
      "  mfcc = librosa.feature.mfcc(signal[start:finish], sample_rate, n_mfcc=num_mfcc, n_fft=n_fft, hop_length=hop_length)\n",
      "C:\\Users\\danie\\OneDrive - Universidad Tecnológica de Bolívar\\U\\6to Semestre\\Inteligencia Artificial\\Proyecto\\Extract_Data.py:61: FutureWarning: Pass y=[-0.00039617 -0.00064455 -0.00024417 ...  0.00036325 -0.00024307\n",
      " -0.00040714], sr=22050 as keyword args. From version 0.10 passing these as positional arguments will result in an error\n",
      "  mfcc = librosa.feature.mfcc(signal[start:finish], sample_rate, n_mfcc=num_mfcc, n_fft=n_fft, hop_length=hop_length)\n",
      "C:\\Users\\danie\\OneDrive - Universidad Tecnológica de Bolívar\\U\\6to Semestre\\Inteligencia Artificial\\Proyecto\\Extract_Data.py:61: FutureWarning: Pass y=[-1.8600574e-04 -7.2310085e-04 -1.3683732e-03 ...  2.4193076e-04\n",
      "  6.9983832e-07 -3.5649058e-04], sr=22050 as keyword args. From version 0.10 passing these as positional arguments will result in an error\n",
      "  mfcc = librosa.feature.mfcc(signal[start:finish], sample_rate, n_mfcc=num_mfcc, n_fft=n_fft, hop_length=hop_length)\n",
      "C:\\Users\\danie\\OneDrive - Universidad Tecnológica de Bolívar\\U\\6to Semestre\\Inteligencia Artificial\\Proyecto\\Extract_Data.py:61: FutureWarning: Pass y=[-0.00052631 -0.00067236 -0.00044983 ...  0.00244182  0.00360506\n",
      "  0.00213662], sr=22050 as keyword args. From version 0.10 passing these as positional arguments will result in an error\n",
      "  mfcc = librosa.feature.mfcc(signal[start:finish], sample_rate, n_mfcc=num_mfcc, n_fft=n_fft, hop_length=hop_length)\n",
      "C:\\Users\\danie\\OneDrive - Universidad Tecnológica de Bolívar\\U\\6to Semestre\\Inteligencia Artificial\\Proyecto\\Extract_Data.py:61: FutureWarning: Pass y=[0.00150708 0.00081981 0.00047723 ... 0.00052438 0.00029748 0.0004467 ], sr=22050 as keyword args. From version 0.10 passing these as positional arguments will result in an error\n",
      "  mfcc = librosa.feature.mfcc(signal[start:finish], sample_rate, n_mfcc=num_mfcc, n_fft=n_fft, hop_length=hop_length)\n"
     ]
    },
    {
     "name": "stdout",
     "output_type": "stream",
     "text": [
      "Audios/Familia Puentes\\Puentes 4.wav, segment:1\n",
      "Audios/Familia Puentes\\Puentes 4.wav, segment:2\n",
      "Audios/Familia Puentes\\Puentes 4.wav, segment:3\n",
      "Audios/Familia Puentes\\Puentes 4.wav, segment:4\n",
      "Audios/Familia Puentes\\Puentes 4.wav, segment:5\n",
      "Audios/Familia Puentes\\Puentes 4.wav, segment:6\n",
      "Audios/Familia Puentes\\Puentes 4.wav, segment:7\n",
      "\n",
      "Processing: Familia Ramirez\n"
     ]
    },
    {
     "name": "stderr",
     "output_type": "stream",
     "text": [
      "C:\\Users\\danie\\OneDrive - Universidad Tecnológica de Bolívar\\U\\6to Semestre\\Inteligencia Artificial\\Proyecto\\Extract_Data.py:61: FutureWarning: Pass y=[-0.00022443 -0.00052462 -0.00053953 ...  0.02472432  0.02682215\n",
      "  0.0291072 ], sr=22050 as keyword args. From version 0.10 passing these as positional arguments will result in an error\n",
      "  mfcc = librosa.feature.mfcc(signal[start:finish], sample_rate, n_mfcc=num_mfcc, n_fft=n_fft, hop_length=hop_length)\n",
      "C:\\Users\\danie\\OneDrive - Universidad Tecnológica de Bolívar\\U\\6to Semestre\\Inteligencia Artificial\\Proyecto\\Extract_Data.py:61: FutureWarning: Pass y=[0.03148106 0.03460583 0.03771657 ... 0.00393619 0.00565655 0.00646928], sr=22050 as keyword args. From version 0.10 passing these as positional arguments will result in an error\n",
      "  mfcc = librosa.feature.mfcc(signal[start:finish], sample_rate, n_mfcc=num_mfcc, n_fft=n_fft, hop_length=hop_length)\n",
      "C:\\Users\\danie\\OneDrive - Universidad Tecnológica de Bolívar\\U\\6to Semestre\\Inteligencia Artificial\\Proyecto\\Extract_Data.py:61: FutureWarning: Pass y=[ 0.00714971  0.00656302  0.00616979 ... -0.02628935 -0.04983219\n",
      " -0.07166651], sr=22050 as keyword args. From version 0.10 passing these as positional arguments will result in an error\n",
      "  mfcc = librosa.feature.mfcc(signal[start:finish], sample_rate, n_mfcc=num_mfcc, n_fft=n_fft, hop_length=hop_length)\n",
      "C:\\Users\\danie\\OneDrive - Universidad Tecnológica de Bolívar\\U\\6to Semestre\\Inteligencia Artificial\\Proyecto\\Extract_Data.py:61: FutureWarning: Pass y=[-9.3912095e-02 -1.1535266e-01 -1.2594320e-01 ...  2.2356598e-05\n",
      " -3.0757401e-05 -7.0036062e-05], sr=22050 as keyword args. From version 0.10 passing these as positional arguments will result in an error\n",
      "  mfcc = librosa.feature.mfcc(signal[start:finish], sample_rate, n_mfcc=num_mfcc, n_fft=n_fft, hop_length=hop_length)\n",
      "C:\\Users\\danie\\OneDrive - Universidad Tecnológica de Bolívar\\U\\6to Semestre\\Inteligencia Artificial\\Proyecto\\Extract_Data.py:61: FutureWarning: Pass y=[-1.1882502e-04 -1.7924688e-04 -8.7724897e-05 ... -8.4434688e-04\n",
      "  4.2188531e-03  6.9569275e-03], sr=22050 as keyword args. From version 0.10 passing these as positional arguments will result in an error\n",
      "  mfcc = librosa.feature.mfcc(signal[start:finish], sample_rate, n_mfcc=num_mfcc, n_fft=n_fft, hop_length=hop_length)\n",
      "C:\\Users\\danie\\OneDrive - Universidad Tecnológica de Bolívar\\U\\6to Semestre\\Inteligencia Artificial\\Proyecto\\Extract_Data.py:61: FutureWarning: Pass y=[ 0.00650343  0.00476538  0.00109766 ... -0.08240115 -0.07464528\n",
      " -0.06646739], sr=22050 as keyword args. From version 0.10 passing these as positional arguments will result in an error\n",
      "  mfcc = librosa.feature.mfcc(signal[start:finish], sample_rate, n_mfcc=num_mfcc, n_fft=n_fft, hop_length=hop_length)\n",
      "C:\\Users\\danie\\OneDrive - Universidad Tecnológica de Bolívar\\U\\6to Semestre\\Inteligencia Artificial\\Proyecto\\Extract_Data.py:61: FutureWarning: Pass y=[-0.05798737 -0.04956504 -0.0396654  ...  0.0312092   0.02968717\n",
      "  0.03223381], sr=22050 as keyword args. From version 0.10 passing these as positional arguments will result in an error\n",
      "  mfcc = librosa.feature.mfcc(signal[start:finish], sample_rate, n_mfcc=num_mfcc, n_fft=n_fft, hop_length=hop_length)\n"
     ]
    },
    {
     "name": "stdout",
     "output_type": "stream",
     "text": [
      "Audios/Familia Ramirez\\Ramirez 1.wav, segment:1\n",
      "Audios/Familia Ramirez\\Ramirez 1.wav, segment:2\n",
      "Audios/Familia Ramirez\\Ramirez 1.wav, segment:3\n",
      "Audios/Familia Ramirez\\Ramirez 1.wav, segment:4\n",
      "Audios/Familia Ramirez\\Ramirez 1.wav, segment:5\n",
      "Audios/Familia Ramirez\\Ramirez 1.wav, segment:6\n",
      "Audios/Familia Ramirez\\Ramirez 1.wav, segment:7\n"
     ]
    },
    {
     "name": "stderr",
     "output_type": "stream",
     "text": [
      "C:\\Users\\danie\\OneDrive - Universidad Tecnológica de Bolívar\\U\\6to Semestre\\Inteligencia Artificial\\Proyecto\\Extract_Data.py:61: FutureWarning: Pass y=[ 0.00057846  0.00108417  0.00100642 ... -0.00583591 -0.00585119\n",
      " -0.00594879], sr=22050 as keyword args. From version 0.10 passing these as positional arguments will result in an error\n",
      "  mfcc = librosa.feature.mfcc(signal[start:finish], sample_rate, n_mfcc=num_mfcc, n_fft=n_fft, hop_length=hop_length)\n",
      "C:\\Users\\danie\\OneDrive - Universidad Tecnológica de Bolívar\\U\\6to Semestre\\Inteligencia Artificial\\Proyecto\\Extract_Data.py:61: FutureWarning: Pass y=[-0.00597874 -0.00578396 -0.0054031  ...  0.00131427  0.00241316\n",
      "  0.00027923], sr=22050 as keyword args. From version 0.10 passing these as positional arguments will result in an error\n",
      "  mfcc = librosa.feature.mfcc(signal[start:finish], sample_rate, n_mfcc=num_mfcc, n_fft=n_fft, hop_length=hop_length)\n",
      "C:\\Users\\danie\\OneDrive - Universidad Tecnológica de Bolívar\\U\\6to Semestre\\Inteligencia Artificial\\Proyecto\\Extract_Data.py:61: FutureWarning: Pass y=[-3.0636514e-04  6.0786103e-04  6.6611836e-05 ...  3.7443258e-02\n",
      "  3.7512332e-02  3.7263840e-02], sr=22050 as keyword args. From version 0.10 passing these as positional arguments will result in an error\n",
      "  mfcc = librosa.feature.mfcc(signal[start:finish], sample_rate, n_mfcc=num_mfcc, n_fft=n_fft, hop_length=hop_length)\n",
      "C:\\Users\\danie\\OneDrive - Universidad Tecnológica de Bolívar\\U\\6to Semestre\\Inteligencia Artificial\\Proyecto\\Extract_Data.py:61: FutureWarning: Pass y=[ 0.03643744  0.03545308  0.03436932 ... -0.0010017  -0.00062306\n",
      " -0.00055048], sr=22050 as keyword args. From version 0.10 passing these as positional arguments will result in an error\n",
      "  mfcc = librosa.feature.mfcc(signal[start:finish], sample_rate, n_mfcc=num_mfcc, n_fft=n_fft, hop_length=hop_length)\n",
      "C:\\Users\\danie\\OneDrive - Universidad Tecnológica de Bolívar\\U\\6to Semestre\\Inteligencia Artificial\\Proyecto\\Extract_Data.py:61: FutureWarning: Pass y=[-6.3795375e-04 -3.8306072e-04 -5.9154598e-05 ...  7.3736474e-02\n",
      "  5.4015711e-02  2.2706741e-02], sr=22050 as keyword args. From version 0.10 passing these as positional arguments will result in an error\n",
      "  mfcc = librosa.feature.mfcc(signal[start:finish], sample_rate, n_mfcc=num_mfcc, n_fft=n_fft, hop_length=hop_length)\n",
      "C:\\Users\\danie\\OneDrive - Universidad Tecnológica de Bolívar\\U\\6to Semestre\\Inteligencia Artificial\\Proyecto\\Extract_Data.py:61: FutureWarning: Pass y=[-0.00190184 -0.00897535  0.0012896  ... -0.00417517 -0.00377817\n",
      " -0.00336392], sr=22050 as keyword args. From version 0.10 passing these as positional arguments will result in an error\n",
      "  mfcc = librosa.feature.mfcc(signal[start:finish], sample_rate, n_mfcc=num_mfcc, n_fft=n_fft, hop_length=hop_length)\n",
      "C:\\Users\\danie\\OneDrive - Universidad Tecnológica de Bolívar\\U\\6to Semestre\\Inteligencia Artificial\\Proyecto\\Extract_Data.py:61: FutureWarning: Pass y=[-1.9524904e-03 -5.4273070e-05 -1.1544238e-03 ...  5.1575637e-04\n",
      "  3.3651473e-04  2.6644664e-04], sr=22050 as keyword args. From version 0.10 passing these as positional arguments will result in an error\n",
      "  mfcc = librosa.feature.mfcc(signal[start:finish], sample_rate, n_mfcc=num_mfcc, n_fft=n_fft, hop_length=hop_length)\n"
     ]
    },
    {
     "name": "stdout",
     "output_type": "stream",
     "text": [
      "Audios/Familia Ramirez\\Ramirez 2.wav, segment:1\n",
      "Audios/Familia Ramirez\\Ramirez 2.wav, segment:2\n",
      "Audios/Familia Ramirez\\Ramirez 2.wav, segment:3\n",
      "Audios/Familia Ramirez\\Ramirez 2.wav, segment:4\n",
      "Audios/Familia Ramirez\\Ramirez 2.wav, segment:5\n",
      "Audios/Familia Ramirez\\Ramirez 2.wav, segment:6\n",
      "Audios/Familia Ramirez\\Ramirez 2.wav, segment:7\n",
      "\n",
      "Processing: Familia Vazquez\n"
     ]
    },
    {
     "name": "stderr",
     "output_type": "stream",
     "text": [
      "C:\\Users\\danie\\OneDrive - Universidad Tecnológica de Bolívar\\U\\6to Semestre\\Inteligencia Artificial\\Proyecto\\Extract_Data.py:61: FutureWarning: Pass y=[ 1.7363270e-06 -2.5064005e-06  4.2595452e-06 ...  1.8139383e-02\n",
      "  2.0492766e-02  2.2110566e-02], sr=22050 as keyword args. From version 0.10 passing these as positional arguments will result in an error\n",
      "  mfcc = librosa.feature.mfcc(signal[start:finish], sample_rate, n_mfcc=num_mfcc, n_fft=n_fft, hop_length=hop_length)\n",
      "C:\\Users\\danie\\OneDrive - Universidad Tecnológica de Bolívar\\U\\6to Semestre\\Inteligencia Artificial\\Proyecto\\Extract_Data.py:61: FutureWarning: Pass y=[ 0.02278616  0.02308318  0.0224328  ...  0.00219342 -0.00049037\n",
      " -0.00311458], sr=22050 as keyword args. From version 0.10 passing these as positional arguments will result in an error\n",
      "  mfcc = librosa.feature.mfcc(signal[start:finish], sample_rate, n_mfcc=num_mfcc, n_fft=n_fft, hop_length=hop_length)\n",
      "C:\\Users\\danie\\OneDrive - Universidad Tecnológica de Bolívar\\U\\6to Semestre\\Inteligencia Artificial\\Proyecto\\Extract_Data.py:61: FutureWarning: Pass y=[-0.00457772 -0.00628207 -0.00885061 ...  0.02823731  0.02498436\n",
      "  0.02177989], sr=22050 as keyword args. From version 0.10 passing these as positional arguments will result in an error\n",
      "  mfcc = librosa.feature.mfcc(signal[start:finish], sample_rate, n_mfcc=num_mfcc, n_fft=n_fft, hop_length=hop_length)\n",
      "C:\\Users\\danie\\OneDrive - Universidad Tecnológica de Bolívar\\U\\6to Semestre\\Inteligencia Artificial\\Proyecto\\Extract_Data.py:61: FutureWarning: Pass y=[ 0.01840865  0.01583703  0.01265553 ... -0.0127896  -0.01198709\n",
      " -0.01085928], sr=22050 as keyword args. From version 0.10 passing these as positional arguments will result in an error\n",
      "  mfcc = librosa.feature.mfcc(signal[start:finish], sample_rate, n_mfcc=num_mfcc, n_fft=n_fft, hop_length=hop_length)\n",
      "C:\\Users\\danie\\OneDrive - Universidad Tecnológica de Bolívar\\U\\6to Semestre\\Inteligencia Artificial\\Proyecto\\Extract_Data.py:61: FutureWarning: Pass y=[-0.00974191 -0.01023156 -0.01130762 ... -0.00078007 -0.00084282\n",
      " -0.00089512], sr=22050 as keyword args. From version 0.10 passing these as positional arguments will result in an error\n",
      "  mfcc = librosa.feature.mfcc(signal[start:finish], sample_rate, n_mfcc=num_mfcc, n_fft=n_fft, hop_length=hop_length)\n",
      "C:\\Users\\danie\\OneDrive - Universidad Tecnológica de Bolívar\\U\\6to Semestre\\Inteligencia Artificial\\Proyecto\\Extract_Data.py:61: FutureWarning: Pass y=[-0.00082299 -0.00061663 -0.0003881  ... -0.00177493 -0.00294839\n",
      " -0.00680959], sr=22050 as keyword args. From version 0.10 passing these as positional arguments will result in an error\n",
      "  mfcc = librosa.feature.mfcc(signal[start:finish], sample_rate, n_mfcc=num_mfcc, n_fft=n_fft, hop_length=hop_length)\n",
      "C:\\Users\\danie\\OneDrive - Universidad Tecnológica de Bolívar\\U\\6to Semestre\\Inteligencia Artificial\\Proyecto\\Extract_Data.py:61: FutureWarning: Pass y=[-0.01076483 -0.01308972 -0.01466667 ...  0.00125533  0.0019716\n",
      "  0.00157403], sr=22050 as keyword args. From version 0.10 passing these as positional arguments will result in an error\n",
      "  mfcc = librosa.feature.mfcc(signal[start:finish], sample_rate, n_mfcc=num_mfcc, n_fft=n_fft, hop_length=hop_length)\n"
     ]
    },
    {
     "name": "stdout",
     "output_type": "stream",
     "text": [
      "Audios/Familia Vazquez\\Vazquez 1.wav, segment:1\n",
      "Audios/Familia Vazquez\\Vazquez 1.wav, segment:2\n",
      "Audios/Familia Vazquez\\Vazquez 1.wav, segment:3\n",
      "Audios/Familia Vazquez\\Vazquez 1.wav, segment:4\n",
      "Audios/Familia Vazquez\\Vazquez 1.wav, segment:5\n",
      "Audios/Familia Vazquez\\Vazquez 1.wav, segment:6\n",
      "Audios/Familia Vazquez\\Vazquez 1.wav, segment:7\n"
     ]
    },
    {
     "name": "stderr",
     "output_type": "stream",
     "text": [
      "C:\\Users\\danie\\OneDrive - Universidad Tecnológica de Bolívar\\U\\6to Semestre\\Inteligencia Artificial\\Proyecto\\Extract_Data.py:61: FutureWarning: Pass y=[-4.2932106e-07  4.0748481e-07 -2.6947600e-05 ... -1.5512528e-04\n",
      " -1.7939002e-04  2.4986098e-04], sr=22050 as keyword args. From version 0.10 passing these as positional arguments will result in an error\n",
      "  mfcc = librosa.feature.mfcc(signal[start:finish], sample_rate, n_mfcc=num_mfcc, n_fft=n_fft, hop_length=hop_length)\n",
      "C:\\Users\\danie\\OneDrive - Universidad Tecnológica de Bolívar\\U\\6to Semestre\\Inteligencia Artificial\\Proyecto\\Extract_Data.py:61: FutureWarning: Pass y=[ 2.4890629e-04 -5.4283093e-05 -2.8617686e-05 ... -7.1073547e-02\n",
      " -7.1089059e-02 -7.1568288e-02], sr=22050 as keyword args. From version 0.10 passing these as positional arguments will result in an error\n",
      "  mfcc = librosa.feature.mfcc(signal[start:finish], sample_rate, n_mfcc=num_mfcc, n_fft=n_fft, hop_length=hop_length)\n",
      "C:\\Users\\danie\\OneDrive - Universidad Tecnológica de Bolívar\\U\\6to Semestre\\Inteligencia Artificial\\Proyecto\\Extract_Data.py:61: FutureWarning: Pass y=[-0.07407758 -0.08017518 -0.08855924 ... -0.05223091 -0.05230823\n",
      " -0.04790523], sr=22050 as keyword args. From version 0.10 passing these as positional arguments will result in an error\n",
      "  mfcc = librosa.feature.mfcc(signal[start:finish], sample_rate, n_mfcc=num_mfcc, n_fft=n_fft, hop_length=hop_length)\n",
      "C:\\Users\\danie\\OneDrive - Universidad Tecnológica de Bolívar\\U\\6to Semestre\\Inteligencia Artificial\\Proyecto\\Extract_Data.py:61: FutureWarning: Pass y=[-0.04067272 -0.03342365 -0.02907683 ...  0.11318324  0.09897197\n",
      "  0.07968763], sr=22050 as keyword args. From version 0.10 passing these as positional arguments will result in an error\n",
      "  mfcc = librosa.feature.mfcc(signal[start:finish], sample_rate, n_mfcc=num_mfcc, n_fft=n_fft, hop_length=hop_length)\n",
      "C:\\Users\\danie\\OneDrive - Universidad Tecnológica de Bolívar\\U\\6to Semestre\\Inteligencia Artificial\\Proyecto\\Extract_Data.py:61: FutureWarning: Pass y=[ 0.05295553  0.02683098  0.0104995  ... -0.13961531 -0.14753994\n",
      " -0.157507  ], sr=22050 as keyword args. From version 0.10 passing these as positional arguments will result in an error\n",
      "  mfcc = librosa.feature.mfcc(signal[start:finish], sample_rate, n_mfcc=num_mfcc, n_fft=n_fft, hop_length=hop_length)\n",
      "C:\\Users\\danie\\OneDrive - Universidad Tecnológica de Bolívar\\U\\6to Semestre\\Inteligencia Artificial\\Proyecto\\Extract_Data.py:61: FutureWarning: Pass y=[-0.16850956 -0.17759973 -0.18330286 ... -0.00135133 -0.00096692\n",
      " -0.00069536], sr=22050 as keyword args. From version 0.10 passing these as positional arguments will result in an error\n",
      "  mfcc = librosa.feature.mfcc(signal[start:finish], sample_rate, n_mfcc=num_mfcc, n_fft=n_fft, hop_length=hop_length)\n",
      "C:\\Users\\danie\\OneDrive - Universidad Tecnológica de Bolívar\\U\\6to Semestre\\Inteligencia Artificial\\Proyecto\\Extract_Data.py:61: FutureWarning: Pass y=[-0.00040539 -0.00010036  0.00028043 ...  0.06003309  0.04893371\n",
      "  0.03489796], sr=22050 as keyword args. From version 0.10 passing these as positional arguments will result in an error\n",
      "  mfcc = librosa.feature.mfcc(signal[start:finish], sample_rate, n_mfcc=num_mfcc, n_fft=n_fft, hop_length=hop_length)\n"
     ]
    },
    {
     "name": "stdout",
     "output_type": "stream",
     "text": [
      "Audios/Familia Vazquez\\Vazquez 2.wav, segment:1\n",
      "Audios/Familia Vazquez\\Vazquez 2.wav, segment:2\n",
      "Audios/Familia Vazquez\\Vazquez 2.wav, segment:3\n",
      "Audios/Familia Vazquez\\Vazquez 2.wav, segment:4\n",
      "Audios/Familia Vazquez\\Vazquez 2.wav, segment:5\n",
      "Audios/Familia Vazquez\\Vazquez 2.wav, segment:6\n",
      "Audios/Familia Vazquez\\Vazquez 2.wav, segment:7\n"
     ]
    },
    {
     "name": "stderr",
     "output_type": "stream",
     "text": [
      "C:\\Users\\danie\\OneDrive - Universidad Tecnológica de Bolívar\\U\\6to Semestre\\Inteligencia Artificial\\Proyecto\\Extract_Data.py:61: FutureWarning: Pass y=[-4.2932106e-07  4.0748481e-07 -2.6947600e-05 ... -1.0510103e-03\n",
      " -9.6114259e-04 -1.0744790e-03], sr=22050 as keyword args. From version 0.10 passing these as positional arguments will result in an error\n",
      "  mfcc = librosa.feature.mfcc(signal[start:finish], sample_rate, n_mfcc=num_mfcc, n_fft=n_fft, hop_length=hop_length)\n",
      "C:\\Users\\danie\\OneDrive - Universidad Tecnológica de Bolívar\\U\\6to Semestre\\Inteligencia Artificial\\Proyecto\\Extract_Data.py:61: FutureWarning: Pass y=[-0.00089067 -0.00122104 -0.00184135 ...  0.01095967  0.01390199\n",
      "  0.01641951], sr=22050 as keyword args. From version 0.10 passing these as positional arguments will result in an error\n",
      "  mfcc = librosa.feature.mfcc(signal[start:finish], sample_rate, n_mfcc=num_mfcc, n_fft=n_fft, hop_length=hop_length)\n",
      "C:\\Users\\danie\\OneDrive - Universidad Tecnológica de Bolívar\\U\\6to Semestre\\Inteligencia Artificial\\Proyecto\\Extract_Data.py:61: FutureWarning: Pass y=[ 0.01823109  0.01977723  0.02083984 ... -0.0004866  -0.00059939\n",
      " -0.00063754], sr=22050 as keyword args. From version 0.10 passing these as positional arguments will result in an error\n",
      "  mfcc = librosa.feature.mfcc(signal[start:finish], sample_rate, n_mfcc=num_mfcc, n_fft=n_fft, hop_length=hop_length)\n",
      "C:\\Users\\danie\\OneDrive - Universidad Tecnológica de Bolívar\\U\\6to Semestre\\Inteligencia Artificial\\Proyecto\\Extract_Data.py:61: FutureWarning: Pass y=[-0.00085117 -0.00110468 -0.00103647 ...  0.00138917  0.00132443\n",
      "  0.00098498], sr=22050 as keyword args. From version 0.10 passing these as positional arguments will result in an error\n",
      "  mfcc = librosa.feature.mfcc(signal[start:finish], sample_rate, n_mfcc=num_mfcc, n_fft=n_fft, hop_length=hop_length)\n",
      "C:\\Users\\danie\\OneDrive - Universidad Tecnológica de Bolívar\\U\\6to Semestre\\Inteligencia Artificial\\Proyecto\\Extract_Data.py:61: FutureWarning: Pass y=[ 0.00081814  0.00080328  0.00062568 ... -0.00102929 -0.00130229\n",
      " -0.00169337], sr=22050 as keyword args. From version 0.10 passing these as positional arguments will result in an error\n",
      "  mfcc = librosa.feature.mfcc(signal[start:finish], sample_rate, n_mfcc=num_mfcc, n_fft=n_fft, hop_length=hop_length)\n",
      "C:\\Users\\danie\\OneDrive - Universidad Tecnológica de Bolívar\\U\\6to Semestre\\Inteligencia Artificial\\Proyecto\\Extract_Data.py:61: FutureWarning: Pass y=[-0.00187018 -0.00187935 -0.00189432 ...  0.00311485  0.00311263\n",
      "  0.00326027], sr=22050 as keyword args. From version 0.10 passing these as positional arguments will result in an error\n",
      "  mfcc = librosa.feature.mfcc(signal[start:finish], sample_rate, n_mfcc=num_mfcc, n_fft=n_fft, hop_length=hop_length)\n",
      "C:\\Users\\danie\\OneDrive - Universidad Tecnológica de Bolívar\\U\\6to Semestre\\Inteligencia Artificial\\Proyecto\\Extract_Data.py:61: FutureWarning: Pass y=[0.00323662 0.00333555 0.00352014 ... 0.00071028 0.00069339 0.        ], sr=22050 as keyword args. From version 0.10 passing these as positional arguments will result in an error\n",
      "  mfcc = librosa.feature.mfcc(signal[start:finish], sample_rate, n_mfcc=num_mfcc, n_fft=n_fft, hop_length=hop_length)\n"
     ]
    },
    {
     "name": "stdout",
     "output_type": "stream",
     "text": [
      "Audios/Familia Vazquez\\Vazquez 3.wav, segment:1\n",
      "Audios/Familia Vazquez\\Vazquez 3.wav, segment:2\n",
      "Audios/Familia Vazquez\\Vazquez 3.wav, segment:3\n",
      "Audios/Familia Vazquez\\Vazquez 3.wav, segment:4\n",
      "Audios/Familia Vazquez\\Vazquez 3.wav, segment:5\n",
      "Audios/Familia Vazquez\\Vazquez 3.wav, segment:6\n"
     ]
    },
    {
     "name": "stderr",
     "output_type": "stream",
     "text": [
      "C:\\Users\\danie\\OneDrive - Universidad Tecnológica de Bolívar\\U\\6to Semestre\\Inteligencia Artificial\\Proyecto\\Extract_Data.py:61: FutureWarning: Pass y=[-8.3163031e-06 -3.2572356e-05 -2.9655190e-05 ...  4.7421943e-02\n",
      "  4.3231368e-02  4.2685393e-02], sr=22050 as keyword args. From version 0.10 passing these as positional arguments will result in an error\n",
      "  mfcc = librosa.feature.mfcc(signal[start:finish], sample_rate, n_mfcc=num_mfcc, n_fft=n_fft, hop_length=hop_length)\n",
      "C:\\Users\\danie\\OneDrive - Universidad Tecnológica de Bolívar\\U\\6to Semestre\\Inteligencia Artificial\\Proyecto\\Extract_Data.py:61: FutureWarning: Pass y=[0.04400189 0.04384444 0.04126064 ... 0.00241412 0.01034012 0.01348305], sr=22050 as keyword args. From version 0.10 passing these as positional arguments will result in an error\n",
      "  mfcc = librosa.feature.mfcc(signal[start:finish], sample_rate, n_mfcc=num_mfcc, n_fft=n_fft, hop_length=hop_length)\n",
      "C:\\Users\\danie\\OneDrive - Universidad Tecnológica de Bolívar\\U\\6to Semestre\\Inteligencia Artificial\\Proyecto\\Extract_Data.py:61: FutureWarning: Pass y=[ 0.00812071 -0.00160376 -0.0070787  ...  0.12848394  0.11857598\n",
      "  0.10488225], sr=22050 as keyword args. From version 0.10 passing these as positional arguments will result in an error\n",
      "  mfcc = librosa.feature.mfcc(signal[start:finish], sample_rate, n_mfcc=num_mfcc, n_fft=n_fft, hop_length=hop_length)\n",
      "C:\\Users\\danie\\OneDrive - Universidad Tecnológica de Bolívar\\U\\6to Semestre\\Inteligencia Artificial\\Proyecto\\Extract_Data.py:61: FutureWarning: Pass y=[0.08997862 0.07931797 0.07732011 ... 0.03208115 0.0319264  0.03134634], sr=22050 as keyword args. From version 0.10 passing these as positional arguments will result in an error\n",
      "  mfcc = librosa.feature.mfcc(signal[start:finish], sample_rate, n_mfcc=num_mfcc, n_fft=n_fft, hop_length=hop_length)\n",
      "C:\\Users\\danie\\OneDrive - Universidad Tecnológica de Bolívar\\U\\6to Semestre\\Inteligencia Artificial\\Proyecto\\Extract_Data.py:61: FutureWarning: Pass y=[0.03062928 0.02984151 0.02870616 ... 0.01012829 0.00929248 0.00852334], sr=22050 as keyword args. From version 0.10 passing these as positional arguments will result in an error\n",
      "  mfcc = librosa.feature.mfcc(signal[start:finish], sample_rate, n_mfcc=num_mfcc, n_fft=n_fft, hop_length=hop_length)\n",
      "C:\\Users\\danie\\OneDrive - Universidad Tecnológica de Bolívar\\U\\6to Semestre\\Inteligencia Artificial\\Proyecto\\Extract_Data.py:61: FutureWarning: Pass y=[ 0.0077191   0.00686686  0.00611793 ... -0.12206154 -0.10345054\n",
      " -0.0805222 ], sr=22050 as keyword args. From version 0.10 passing these as positional arguments will result in an error\n",
      "  mfcc = librosa.feature.mfcc(signal[start:finish], sample_rate, n_mfcc=num_mfcc, n_fft=n_fft, hop_length=hop_length)\n",
      "C:\\Users\\danie\\OneDrive - Universidad Tecnológica de Bolívar\\U\\6to Semestre\\Inteligencia Artificial\\Proyecto\\Extract_Data.py:61: FutureWarning: Pass y=[-0.05608132 -0.02827253  0.00277572 ... -0.05999994 -0.06400351\n",
      " -0.0689313 ], sr=22050 as keyword args. From version 0.10 passing these as positional arguments will result in an error\n",
      "  mfcc = librosa.feature.mfcc(signal[start:finish], sample_rate, n_mfcc=num_mfcc, n_fft=n_fft, hop_length=hop_length)\n"
     ]
    },
    {
     "name": "stdout",
     "output_type": "stream",
     "text": [
      "Audios/Familia Vazquez\\Vazquez 4.wav, segment:1\n",
      "Audios/Familia Vazquez\\Vazquez 4.wav, segment:2\n",
      "Audios/Familia Vazquez\\Vazquez 4.wav, segment:3\n",
      "Audios/Familia Vazquez\\Vazquez 4.wav, segment:4\n",
      "Audios/Familia Vazquez\\Vazquez 4.wav, segment:5\n",
      "Audios/Familia Vazquez\\Vazquez 4.wav, segment:6\n",
      "Audios/Familia Vazquez\\Vazquez 4.wav, segment:7\n"
     ]
    }
   ],
   "source": [
    "save_mfcc(DATASET_PATH,DATA_PATH,num_segments=7)"
   ]
  },
  {
   "cell_type": "code",
   "execution_count": 3,
   "id": "585cc7ac-b30e-405c-a49c-39ee04cf420b",
   "metadata": {
    "pycharm": {
     "name": "#%%\n"
    }
   },
   "outputs": [
    {
     "name": "stdout",
     "output_type": "stream",
     "text": [
      "Data succesfully loaded!\n"
     ]
    }
   ],
   "source": [
    "X,y = load_data(DATA_PATH)"
   ]
  },
  {
   "cell_type": "code",
   "execution_count": 4,
   "id": "125b693a-0a31-4b4c-a949-36f9b38f4102",
   "metadata": {
    "pycharm": {
     "name": "#%%\n"
    }
   },
   "outputs": [],
   "source": [
    "    # create train, validation and test split\n",
    "X_train, X_test, y_train, y_test = train_test_split(X, y, test_size=.3, random_state=42)\n",
    "X_train, X_validation, y_train, y_validation = train_test_split(X_train, y_train, test_size=.25, random_state=42)\n",
    "\n",
    "    # add an axis to input sets\n",
    "X_train = X_train[..., np.newaxis]\n",
    "X_validation = X_validation[..., np.newaxis]\n",
    "X_test = X_test[..., np.newaxis]"
   ]
  },
  {
   "cell_type": "code",
   "execution_count": 10,
   "id": "f6ba3a4c-7462-4516-9385-77cd55710e39",
   "metadata": {
    "pycharm": {
     "name": "#%%\n"
    }
   },
   "outputs": [],
   "source": [
    "def build_model(input_shape):\n",
    "    # build network topology\n",
    "    model = keras.Sequential()\n",
    "\n",
    "    # 1st conv layer\n",
    "    model.add(keras.layers.Conv2D(32, (3, 3), activation='relu', input_shape=input_shape))\n",
    "    model.add(keras.layers.MaxPooling2D((3, 3), strides=(2, 2), padding='same'))\n",
    "    model.add(keras.layers.BatchNormalization())\n",
    "\n",
    "    # 2nd conv layer\n",
    "    model.add(keras.layers.Conv2D(32, (3, 3), activation='relu'))\n",
    "    model.add(keras.layers.MaxPooling2D((3, 3), strides=(2, 2), padding='same'))\n",
    "    model.add(keras.layers.BatchNormalization())\n",
    "\n",
    "    # 3rd conv layer\n",
    "    model.add(keras.layers.Conv2D(32, (2, 2), activation='relu'))\n",
    "    model.add(keras.layers.MaxPooling2D((2, 2), strides=(2, 2), padding='same'))\n",
    "    model.add(keras.layers.BatchNormalization())\n",
    "\n",
    "    # flatten output and feed it into dense layer\n",
    "    model.add(keras.layers.Flatten())\n",
    "    model.add(keras.layers.Dense(64, activation='relu'))\n",
    "    model.add(keras.layers.Dropout(0.25))\n",
    "\n",
    "    # output layer\n",
    "    model.add(keras.layers.Dense(15, activation='softmax'))\n",
    "\n",
    "    return model"
   ]
  },
  {
   "cell_type": "code",
   "execution_count": 11,
   "id": "df283dc3-edfd-4da0-be46-e4d5a6d5d294",
   "metadata": {
    "pycharm": {
     "name": "#%%\n"
    }
   },
   "outputs": [],
   "source": [
    "early_stopping = EarlyStopping(\n",
    "    min_delta=0.001, # minimium amount of change to count as an improvement\n",
    "    patience=3, # how many epochs to wait before stopping\n",
    "    restore_best_weights=True,\n",
    ")"
   ]
  },
  {
   "cell_type": "code",
   "execution_count": 12,
   "id": "febe1b51-6a1d-44bf-92d8-28c82597f8e4",
   "metadata": {
    "pycharm": {
     "name": "#%%\n"
    }
   },
   "outputs": [],
   "source": [
    "input_shape = (X_train.shape[1], X_train.shape[2], 1)\n",
    "model = build_model(input_shape)"
   ]
  },
  {
   "cell_type": "code",
   "execution_count": 13,
   "id": "8b0ec781-67b7-4cfe-baf7-e8c3d98edabf",
   "metadata": {
    "pycharm": {
     "name": "#%%\n"
    }
   },
   "outputs": [
    {
     "name": "stdout",
     "output_type": "stream",
     "text": [
      "Model: \"sequential_1\"\n",
      "_________________________________________________________________\n",
      "Layer (type)                 Output Shape              Param #   \n",
      "=================================================================\n",
      "conv2d_3 (Conv2D)            (None, 214, 11, 32)       320       \n",
      "_________________________________________________________________\n",
      "max_pooling2d_3 (MaxPooling2 (None, 107, 6, 32)        0         \n",
      "_________________________________________________________________\n",
      "batch_normalization_3 (Batch (None, 107, 6, 32)        128       \n",
      "_________________________________________________________________\n",
      "conv2d_4 (Conv2D)            (None, 105, 4, 32)        9248      \n",
      "_________________________________________________________________\n",
      "max_pooling2d_4 (MaxPooling2 (None, 53, 2, 32)         0         \n",
      "_________________________________________________________________\n",
      "batch_normalization_4 (Batch (None, 53, 2, 32)         128       \n",
      "_________________________________________________________________\n",
      "conv2d_5 (Conv2D)            (None, 52, 1, 32)         4128      \n",
      "_________________________________________________________________\n",
      "max_pooling2d_5 (MaxPooling2 (None, 26, 1, 32)         0         \n",
      "_________________________________________________________________\n",
      "batch_normalization_5 (Batch (None, 26, 1, 32)         128       \n",
      "_________________________________________________________________\n",
      "flatten_1 (Flatten)          (None, 832)               0         \n",
      "_________________________________________________________________\n",
      "dense_2 (Dense)              (None, 64)                53312     \n",
      "_________________________________________________________________\n",
      "dropout_1 (Dropout)          (None, 64)                0         \n",
      "_________________________________________________________________\n",
      "dense_3 (Dense)              (None, 15)                975       \n",
      "=================================================================\n",
      "Total params: 68,367\n",
      "Trainable params: 68,175\n",
      "Non-trainable params: 192\n",
      "_________________________________________________________________\n"
     ]
    }
   ],
   "source": [
    "# compile model\n",
    "optimiser = keras.optimizers.Adam(learning_rate=0.0001)\n",
    "model.compile(optimizer=optimiser,\n",
    "                  loss='sparse_categorical_crossentropy',\n",
    "                  metrics=['acc'])\n",
    "\n",
    "model.summary()"
   ]
  },
  {
   "cell_type": "code",
   "execution_count": 14,
   "id": "3ae9bc4c-c4f9-41d7-83f8-076b5a6519f5",
   "metadata": {
    "tags": [],
    "pycharm": {
     "name": "#%%\n"
    }
   },
   "outputs": [
    {
     "name": "stdout",
     "output_type": "stream",
     "text": [
      "Epoch 1/1000\n",
      "6/6 [==============================] - 0s 74ms/step - loss: 3.5722 - acc: 0.0789 - val_loss: 4.9045 - val_acc: 0.0469\n",
      "Epoch 2/1000\n",
      "6/6 [==============================] - 0s 43ms/step - loss: 3.1709 - acc: 0.1105 - val_loss: 4.0862 - val_acc: 0.0469\n",
      "Epoch 3/1000\n",
      "6/6 [==============================] - 0s 40ms/step - loss: 3.1207 - acc: 0.1000 - val_loss: 3.6810 - val_acc: 0.0312\n",
      "Epoch 4/1000\n",
      "6/6 [==============================] - 0s 44ms/step - loss: 2.8401 - acc: 0.1368 - val_loss: 3.4287 - val_acc: 0.0469\n",
      "Epoch 5/1000\n",
      "6/6 [==============================] - 0s 40ms/step - loss: 2.7916 - acc: 0.1474 - val_loss: 3.2533 - val_acc: 0.0469\n",
      "Epoch 6/1000\n",
      "6/6 [==============================] - 0s 43ms/step - loss: 2.6429 - acc: 0.1947 - val_loss: 3.1267 - val_acc: 0.0469\n",
      "Epoch 7/1000\n",
      "6/6 [==============================] - 0s 41ms/step - loss: 2.3507 - acc: 0.2053 - val_loss: 3.0322 - val_acc: 0.0625\n",
      "Epoch 8/1000\n",
      "6/6 [==============================] - 0s 41ms/step - loss: 2.3095 - acc: 0.2579 - val_loss: 2.9528 - val_acc: 0.0625\n",
      "Epoch 9/1000\n",
      "6/6 [==============================] - 0s 39ms/step - loss: 2.1517 - acc: 0.3263 - val_loss: 2.8910 - val_acc: 0.0781\n",
      "Epoch 10/1000\n",
      "6/6 [==============================] - 0s 40ms/step - loss: 2.0636 - acc: 0.2842 - val_loss: 2.8369 - val_acc: 0.0625\n",
      "Epoch 11/1000\n",
      "6/6 [==============================] - 0s 41ms/step - loss: 2.0074 - acc: 0.3632 - val_loss: 2.7911 - val_acc: 0.0781\n",
      "Epoch 12/1000\n",
      "6/6 [==============================] - 0s 40ms/step - loss: 1.8653 - acc: 0.3842 - val_loss: 2.7506 - val_acc: 0.0781\n",
      "Epoch 13/1000\n",
      "6/6 [==============================] - 0s 40ms/step - loss: 1.7989 - acc: 0.4263 - val_loss: 2.7166 - val_acc: 0.0938\n",
      "Epoch 14/1000\n",
      "6/6 [==============================] - 0s 40ms/step - loss: 1.6707 - acc: 0.5158 - val_loss: 2.6856 - val_acc: 0.0938\n",
      "Epoch 15/1000\n",
      "6/6 [==============================] - 0s 41ms/step - loss: 1.6124 - acc: 0.5158 - val_loss: 2.6573 - val_acc: 0.0938\n",
      "Epoch 16/1000\n",
      "6/6 [==============================] - 0s 41ms/step - loss: 1.5792 - acc: 0.5053 - val_loss: 2.6266 - val_acc: 0.1250\n",
      "Epoch 17/1000\n",
      "6/6 [==============================] - 0s 39ms/step - loss: 1.4788 - acc: 0.5316 - val_loss: 2.5985 - val_acc: 0.1250\n",
      "Epoch 18/1000\n",
      "6/6 [==============================] - 0s 40ms/step - loss: 1.3894 - acc: 0.6053 - val_loss: 2.5658 - val_acc: 0.1250\n",
      "Epoch 19/1000\n",
      "6/6 [==============================] - 0s 43ms/step - loss: 1.3185 - acc: 0.6368 - val_loss: 2.5331 - val_acc: 0.1406\n",
      "Epoch 20/1000\n",
      "6/6 [==============================] - 0s 39ms/step - loss: 1.2952 - acc: 0.6053 - val_loss: 2.4977 - val_acc: 0.1562\n",
      "Epoch 21/1000\n",
      "6/6 [==============================] - 0s 39ms/step - loss: 1.2120 - acc: 0.6895 - val_loss: 2.4654 - val_acc: 0.1719\n",
      "Epoch 22/1000\n",
      "6/6 [==============================] - 0s 43ms/step - loss: 1.1826 - acc: 0.6474 - val_loss: 2.4391 - val_acc: 0.2031\n",
      "Epoch 23/1000\n",
      "6/6 [==============================] - 0s 41ms/step - loss: 1.1545 - acc: 0.6842 - val_loss: 2.4118 - val_acc: 0.2188\n",
      "Epoch 24/1000\n",
      "6/6 [==============================] - 0s 42ms/step - loss: 1.0640 - acc: 0.7421 - val_loss: 2.3877 - val_acc: 0.2344\n",
      "Epoch 25/1000\n",
      "6/6 [==============================] - 0s 42ms/step - loss: 0.9772 - acc: 0.7789 - val_loss: 2.3642 - val_acc: 0.2188\n",
      "Epoch 26/1000\n",
      "6/6 [==============================] - 0s 43ms/step - loss: 1.0386 - acc: 0.7105 - val_loss: 2.3407 - val_acc: 0.2344\n",
      "Epoch 27/1000\n",
      "6/6 [==============================] - 0s 43ms/step - loss: 1.0067 - acc: 0.7474 - val_loss: 2.3178 - val_acc: 0.2344\n",
      "Epoch 28/1000\n",
      "6/6 [==============================] - 0s 42ms/step - loss: 0.9973 - acc: 0.7421 - val_loss: 2.2981 - val_acc: 0.2500\n",
      "Epoch 29/1000\n",
      "6/6 [==============================] - 0s 42ms/step - loss: 0.9051 - acc: 0.7789 - val_loss: 2.2778 - val_acc: 0.2500\n",
      "Epoch 30/1000\n",
      "6/6 [==============================] - 0s 44ms/step - loss: 0.9285 - acc: 0.7895 - val_loss: 2.2551 - val_acc: 0.2500\n",
      "Epoch 31/1000\n",
      "6/6 [==============================] - 0s 42ms/step - loss: 0.7791 - acc: 0.8684 - val_loss: 2.2388 - val_acc: 0.2500\n",
      "Epoch 32/1000\n",
      "6/6 [==============================] - 0s 43ms/step - loss: 0.8190 - acc: 0.8105 - val_loss: 2.2248 - val_acc: 0.2500\n",
      "Epoch 33/1000\n",
      "6/6 [==============================] - 0s 42ms/step - loss: 0.7855 - acc: 0.8789 - val_loss: 2.2118 - val_acc: 0.2500\n",
      "Epoch 34/1000\n",
      "6/6 [==============================] - 0s 43ms/step - loss: 0.7686 - acc: 0.8684 - val_loss: 2.1990 - val_acc: 0.2500\n",
      "Epoch 35/1000\n",
      "6/6 [==============================] - 0s 44ms/step - loss: 0.7039 - acc: 0.9158 - val_loss: 2.1847 - val_acc: 0.2500\n",
      "Epoch 36/1000\n",
      "6/6 [==============================] - 0s 41ms/step - loss: 0.6760 - acc: 0.9105 - val_loss: 2.1680 - val_acc: 0.2500\n",
      "Epoch 37/1000\n",
      "6/6 [==============================] - 0s 41ms/step - loss: 0.7183 - acc: 0.8632 - val_loss: 2.1534 - val_acc: 0.2500\n",
      "Epoch 38/1000\n",
      "6/6 [==============================] - 0s 58ms/step - loss: 0.6877 - acc: 0.8895 - val_loss: 2.1394 - val_acc: 0.2500\n",
      "Epoch 39/1000\n",
      "6/6 [==============================] - 0s 66ms/step - loss: 0.6403 - acc: 0.9105 - val_loss: 2.1193 - val_acc: 0.2656\n",
      "Epoch 40/1000\n",
      "6/6 [==============================] - 0s 62ms/step - loss: 0.6546 - acc: 0.9105 - val_loss: 2.0999 - val_acc: 0.2500\n",
      "Epoch 41/1000\n",
      "6/6 [==============================] - 0s 62ms/step - loss: 0.5807 - acc: 0.9368 - val_loss: 2.0881 - val_acc: 0.2656\n",
      "Epoch 42/1000\n",
      "6/6 [==============================] - 0s 57ms/step - loss: 0.5427 - acc: 0.9263 - val_loss: 2.0771 - val_acc: 0.2812\n",
      "Epoch 43/1000\n",
      "6/6 [==============================] - 0s 64ms/step - loss: 0.5664 - acc: 0.9368 - val_loss: 2.0683 - val_acc: 0.2812\n",
      "Epoch 44/1000\n",
      "6/6 [==============================] - 0s 60ms/step - loss: 0.5778 - acc: 0.9368 - val_loss: 2.0575 - val_acc: 0.2656\n",
      "Epoch 45/1000\n",
      "6/6 [==============================] - 0s 64ms/step - loss: 0.5171 - acc: 0.9263 - val_loss: 2.0438 - val_acc: 0.2812\n",
      "Epoch 46/1000\n",
      "6/6 [==============================] - 0s 60ms/step - loss: 0.5212 - acc: 0.9474 - val_loss: 2.0320 - val_acc: 0.2969\n",
      "Epoch 47/1000\n",
      "6/6 [==============================] - 0s 67ms/step - loss: 0.5262 - acc: 0.9263 - val_loss: 2.0261 - val_acc: 0.2969\n",
      "Epoch 48/1000\n",
      "6/6 [==============================] - 0s 63ms/step - loss: 0.5252 - acc: 0.9316 - val_loss: 2.0167 - val_acc: 0.2969\n",
      "Epoch 49/1000\n",
      "6/6 [==============================] - 0s 67ms/step - loss: 0.4545 - acc: 0.9526 - val_loss: 2.0116 - val_acc: 0.3281\n",
      "Epoch 50/1000\n",
      "6/6 [==============================] - 0s 58ms/step - loss: 0.4421 - acc: 0.9737 - val_loss: 2.0124 - val_acc: 0.3281\n",
      "Epoch 51/1000\n",
      "6/6 [==============================] - 0s 64ms/step - loss: 0.4664 - acc: 0.9526 - val_loss: 2.0101 - val_acc: 0.3125\n",
      "Epoch 52/1000\n",
      "6/6 [==============================] - 0s 60ms/step - loss: 0.4478 - acc: 0.9421 - val_loss: 2.0024 - val_acc: 0.3125\n",
      "Epoch 53/1000\n",
      "6/6 [==============================] - 0s 56ms/step - loss: 0.4271 - acc: 0.9789 - val_loss: 1.9928 - val_acc: 0.2969\n",
      "Epoch 54/1000\n",
      "6/6 [==============================] - 0s 65ms/step - loss: 0.4267 - acc: 0.9632 - val_loss: 1.9807 - val_acc: 0.2969\n",
      "Epoch 55/1000\n",
      "6/6 [==============================] - 0s 59ms/step - loss: 0.3985 - acc: 0.9526 - val_loss: 1.9699 - val_acc: 0.2969\n",
      "Epoch 56/1000\n",
      "6/6 [==============================] - 0s 65ms/step - loss: 0.4047 - acc: 0.9526 - val_loss: 1.9655 - val_acc: 0.2969\n",
      "Epoch 57/1000\n",
      "6/6 [==============================] - 0s 59ms/step - loss: 0.3931 - acc: 0.9737 - val_loss: 1.9526 - val_acc: 0.2969\n",
      "Epoch 58/1000\n",
      "6/6 [==============================] - 0s 64ms/step - loss: 0.3586 - acc: 1.0000 - val_loss: 1.9425 - val_acc: 0.2969\n",
      "Epoch 59/1000\n",
      "6/6 [==============================] - 0s 54ms/step - loss: 0.3600 - acc: 0.9737 - val_loss: 1.9396 - val_acc: 0.3125\n",
      "Epoch 60/1000\n",
      "6/6 [==============================] - 0s 61ms/step - loss: 0.3331 - acc: 0.9789 - val_loss: 1.9420 - val_acc: 0.3125\n",
      "Epoch 61/1000\n",
      "6/6 [==============================] - 0s 61ms/step - loss: 0.3344 - acc: 0.9895 - val_loss: 1.9475 - val_acc: 0.3125\n",
      "Epoch 62/1000\n",
      "6/6 [==============================] - 0s 63ms/step - loss: 0.3403 - acc: 0.9789 - val_loss: 1.9487 - val_acc: 0.3125\n"
     ]
    }
   ],
   "source": [
    "# train model\n",
    "history = model.fit(X_train, y_train, validation_data=(X_validation, y_validation), batch_size=32, epochs=1000, callbacks=[early_stopping])"
   ]
  },
  {
   "cell_type": "code",
   "execution_count": 15,
   "id": "14906525-2aea-4c0d-8d73-985eff98bf68",
   "metadata": {
    "pycharm": {
     "name": "#%%\n"
    }
   },
   "outputs": [],
   "source": [
    "def plot_history(history):\n",
    "    \"\"\"Plots accuracy/loss for training/validation set as a function of the epochs\n",
    "        :param history: Training history of model\n",
    "        :return:\n",
    "    \"\"\"\n",
    "\n",
    "    fig, axs = plt.subplots(2)\n",
    "\n",
    "    # create accuracy sublpot\n",
    "    axs[0].plot(history.history[\"acc\"], label=\"train accuracy\")\n",
    "    axs[0].plot(history.history[\"val_acc\"], label=\"test accuracy\")\n",
    "    axs[0].set_ylabel(\"Accuracy\")\n",
    "    axs[0].legend(loc=\"lower right\")\n",
    "    axs[0].set_title(\"Accuracy eval\")\n",
    "\n",
    "    # create error sublpot\n",
    "    axs[1].plot(history.history[\"loss\"], label=\"train error\")\n",
    "    axs[1].plot(history.history[\"val_loss\"], label=\"test error\")\n",
    "    axs[1].set_ylabel(\"Error\")\n",
    "    axs[1].set_xlabel(\"Epoch\")\n",
    "    axs[1].legend(loc=\"upper right\")\n",
    "    axs[1].set_title(\"Error eval\")\n",
    "\n",
    "    plt.show()"
   ]
  },
  {
   "cell_type": "code",
   "execution_count": 16,
   "id": "3a7010b6-efbc-413d-863f-2c8710df85d1",
   "metadata": {
    "pycharm": {
     "name": "#%%\n"
    }
   },
   "outputs": [
    {
     "data": {
      "image/png": "[encoded data removed]",
      "text/plain": [
       "<Figure size 432x288 with 2 Axes>"
      ]
     },
     "metadata": {
      "needs_background": "light"
     },
     "output_type": "display_data"
    }
   ],
   "source": [
    "# plot accuracy and error as a function of the epochs\n",
    "plot_history(history)"
   ]
  },
  {
   "cell_type": "code",
   "execution_count": 17,
   "id": "19b317cf-b44e-4aea-ad2b-293d9884de10",
   "metadata": {
    "pycharm": {
     "name": "#%%\n"
    }
   },
   "outputs": [
    {
     "name": "stdout",
     "output_type": "stream",
     "text": [
      "4/4 - 0s - loss: 2.1004 - acc: 0.3945\n",
      "\n",
      "Test accuracy: 0.39449542760849\n"
     ]
    }
   ],
   "source": [
    "# evaluate model on test set\n",
    "test_loss, test_acc = model.evaluate(X_test, y_test, verbose=2)\n",
    "print('\\nTest accuracy:', test_acc)"
   ]
  },
  {
   "cell_type": "code",
   "execution_count": 18,
   "id": "279b720a-1fcc-43ba-b571-0254822b823e",
   "metadata": {
    "pycharm": {
     "name": "#%%\n"
    }
   },
   "outputs": [],
   "source": [
    "# pick a sample to predict from the test set\n",
    "X_to_predict = X_test[15]\n",
    "y_to_predict = y_test[15]"
   ]
  },
  {
   "cell_type": "code",
   "execution_count": 19,
   "id": "d5f84531-2503-4e32-b09a-8648777ca31e",
   "metadata": {
    "pycharm": {
     "name": "#%%\n"
    }
   },
   "outputs": [],
   "source": [
    "def predict(model, X, y):\n",
    "    \"\"\"Predict a single sample using the trained model\n",
    "    :param model: Trained classifier\n",
    "    :param X: Input data\n",
    "    :param y (int): Target\n",
    "    \"\"\"\n",
    "\n",
    "    # add a dimension to input data for sample - model.predict() expects a 4d array in this case\n",
    "    X = X[np.newaxis, ...] # array shape (1, 130, 13, 1)\n",
    "\n",
    "    # perform prediction\n",
    "    prediction = model.predict(X)\n",
    "\n",
    "    # get index with max value\n",
    "    predicted_index = np.argmax(prediction, axis=1)\n",
    "\n",
    "    print(\"Target: {}, Predicted label: {}\".format(y, predicted_index))"
   ]
  },
  {
   "cell_type": "code",
   "execution_count": 20,
   "id": "523aeb18-9f6c-4335-8d79-b6608aa243cf",
   "metadata": {
    "pycharm": {
     "name": "#%%\n"
    }
   },
   "outputs": [
    {
     "name": "stdout",
     "output_type": "stream",
     "text": [
      "Target: 7, Predicted label: [9]\n"
     ]
    }
   ],
   "source": [
    "predict(model, X_to_predict, y_to_predict)"
   ]
  },
  {
   "cell_type": "code",
   "execution_count": null,
   "id": "68eca3a2-1983-414b-b14b-e1781300ee67",
   "metadata": {
    "pycharm": {
     "name": "#%%\n"
    }
   },
   "outputs": [],
   "source": []
  }
 ],
 "metadata": {
  "kernelspec": {
   "display_name": "Python 3 (ipykernel)",
   "language": "python",
   "name": "python3"
  },
  "language_info": {
   "codemirror_mode": {
    "name": "ipython",
    "version": 3
   },
   "file_extension": ".py",
   "mimetype": "text/x-python",
   "name": "python",
   "nbconvert_exporter": "python",
   "pygments_lexer": "ipython3",
   "version": "3.8.13"
  }
 },
 "nbformat": 4,
 "nbformat_minor": 5
}